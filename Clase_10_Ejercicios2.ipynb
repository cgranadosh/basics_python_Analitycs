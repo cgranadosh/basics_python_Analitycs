{
  "nbformat": 4,
  "nbformat_minor": 0,
  "metadata": {
    "colab": {
      "provenance": [],
      "include_colab_link": true
    },
    "kernelspec": {
      "name": "python3",
      "display_name": "Python 3"
    },
    "language_info": {
      "name": "python"
    }
  },
  "cells": [
    {
      "cell_type": "markdown",
      "metadata": {
        "id": "view-in-github",
        "colab_type": "text"
      },
      "source": [
        "<a href=\"https://colab.research.google.com/github/cgranadosh/basics_python_Analitycs/blob/main/Clase_10_Ejercicios2.ipynb\" target=\"_parent\"><img src=\"https://colab.research.google.com/assets/colab-badge.svg\" alt=\"Open In Colab\"/></a>"
      ]
    },
    {
      "cell_type": "markdown",
      "source": [
        "# ***Análisis de Datos y Big data***\n",
        "\n",
        "## ***Universidad de los Andes***\n",
        ">## **Dirección de Educación Continua.**\n",
        ">>## **Formación de habilidades escenciales.**\n",
        "\n",
        "![Imágen1](https://github.com/jazaineam1/Andes_ADDBD/blob/main/Imagenes/Presentaci%C3%B3n-removebg-preview.png?raw=true)\n",
        "\n",
        "# Taller de análisis exploratorio\n",
        "\n",
        "En este taller el objetivo es que usted utilice las herramientas de análisis exploratorio que hemos adquirido para trabajar con\n",
        "\n",
        "Al final de este taller la idea es que usted se encuentre en la capacidad de:\n",
        "* Cargar una base de datos\n",
        "* Familiarizarnos con la unidad de observación\n",
        "* Desarrollar un breve proceso de limpieza de datos\n",
        "* Dirigir un proceso de análisis exploratorio orientado a una pregunta de negocio\n",
        "\n",
        "<sub>* Ejercicio de simulación pedagógica diseñado para el entrenamiento de competencias de análisis descriptivo de datos.</sub>"
      ],
      "metadata": {
        "id": "vpGt5ym6Giu9"
      }
    },
    {
      "cell_type": "markdown",
      "source": [
        "## Cámara de Comercio de Bogotá\n",
        "Para este caso problema usted está analizando información sobre las **entidades en CCB** del registro de información financiera y general para el tercer trimestre de 2022 en la Cámara de Comercio de Bogotá.\n",
        "\n",
        "La Cámara de Comercio se dispone a lanzar un **programa de entrenamiento** para fortalecer **las ventas las empresas**, y desea identificar en qué tipo de entidades debe focalizar los recursos. Para esto:\n",
        "\n",
        "- La CCB cuenta con **registros detallados** de cada entidad registrada\n",
        "- La idea es identificar si es mejor focalizar la convocatoria **por tamaño de empresa** o por **tipo de sociedad**.\n",
        "- La matrícula mercantil aquí puesta es ficticia, como un id anónimo.\n",
        "\n",
        "Antes de correr los análisis usted debe **explorar y limpiar** las bases de datos y posteriormente implementar visualizaciones que le permitan aproximarse a la pregunta:\n",
        "\n",
        "¿Sobre qué tipo de empresas deberían prioriarse los entrenamientos para mejorar las ventas?"
      ],
      "metadata": {
        "id": "R6hPKcVILmgH"
      }
    },
    {
      "cell_type": "markdown",
      "source": [
        "![Edificio de la Cámara de Comercio de Bogotá en la calle 26](https://upload.wikimedia.org/wikipedia/commons/1/1d/C%C3%A1mara_4_Comercio_Bogot%C3%A1_Cund%2C_Col.jpg)"
      ],
      "metadata": {
        "id": "NcH5Jsen1BRw"
      }
    },
    {
      "cell_type": "markdown",
      "source": [
        "### Cargar y observar los datos\n",
        "\n",
        "### Cargar y observar los datos\n",
        "\n",
        "El conjunto de datos se encuentra en el [enlace](https://github.com/jazaineam1/Andes_ADDBD/raw/main/Sesion10/2022-3_ccb_registros.xlsx)"
      ],
      "metadata": {
        "id": "9OXCQPsmPHw9"
      }
    },
    {
      "cell_type": "code",
      "source": [
        "# Importar pandas\n",
        "import pandas as pd\n",
        "from matplotlib import pyplot as plt\n",
        "import numpy as np\n",
        "import seaborn as sns\n",
        "import cv2"
      ],
      "metadata": {
        "id": "s12MGeaJqnCF"
      },
      "execution_count": 1,
      "outputs": []
    },
    {
      "cell_type": "code",
      "source": [
        "# Cargar datos\n",
        "#camara = pd.ExcelFile(r'2022-3_ccb_registros.xlsx')\n",
        "camara_gral = pd.read_excel(\"https://github.com/jazaineam1/Andes_ADDBD/raw/main/Sesion10/2022-3_ccb_registros.xlsx\", sheet_name='General')\n",
        "#camara.sheet_names\n",
        "camara_financiera = pd.read_excel(\"https://github.com/jazaineam1/Andes_ADDBD/raw/main/Sesion10/2022-3_ccb_registros.xlsx\", sheet_name='Financiera')\n"
      ],
      "metadata": {
        "id": "Dyn6LfJ1NV10"
      },
      "execution_count": 6,
      "outputs": []
    },
    {
      "cell_type": "markdown",
      "source": [
        "#### Ejercicio 1"
      ],
      "metadata": {
        "id": "UAWY8PLW2ALr"
      }
    },
    {
      "cell_type": "code",
      "source": [
        "# Cargar en dos dataframes distintos cada pestaña modificando el atributo correspondiente\n",
        "camara_gral =\n",
        "camara_financiera ="
      ],
      "metadata": {
        "id": "kRH8uZuCNyNa"
      },
      "execution_count": null,
      "outputs": []
    },
    {
      "cell_type": "markdown",
      "source": [
        "**Explorar:** revisemos información sobre las columnas de cada tabla. Utilice las funciones info y head de Pandas para cada una de las 2 tablas."
      ],
      "metadata": {
        "id": "aIrupTUNrVhS"
      }
    },
    {
      "cell_type": "code",
      "source": [
        "camara_gral.info()"
      ],
      "metadata": {
        "id": "Gfj618ysOhYu",
        "outputId": "9c56bc08-e002-4532-dc17-8ab9e0de21d7",
        "colab": {
          "base_uri": "https://localhost:8080/"
        }
      },
      "execution_count": 7,
      "outputs": [
        {
          "output_type": "stream",
          "name": "stdout",
          "text": [
            "<class 'pandas.core.frame.DataFrame'>\n",
            "RangeIndex: 185495 entries, 0 to 185494\n",
            "Data columns (total 22 columns):\n",
            " #   Column                        Non-Null Count   Dtype  \n",
            "---  ------                        --------------   -----  \n",
            " 0   Matrícula                     185495 non-null  float64\n",
            " 1   Indicador                     185495 non-null  object \n",
            " 2   Período                       185495 non-null  object \n",
            " 3   Año                           185495 non-null  int64  \n",
            " 4   Organización Jurídica         185495 non-null  object \n",
            " 5   Tamaño                        185494 non-null  object \n",
            " 6   Sector                        185495 non-null  object \n",
            " 7   Sección Actividad Económica   185495 non-null  object \n",
            " 8   CIIU                          185495 non-null  object \n",
            " 9   Cantidad de Establecimientos  185494 non-null  float64\n",
            " 10  Personal Ocupado              185494 non-null  float64\n",
            " 11  Importador Exportador         185145 non-null  object \n",
            " 12  Categoría                     185494 non-null  object \n",
            " 13  Macrosector                   140401 non-null  object \n",
            " 14  Especialización Inteligente   119212 non-null  object \n",
            " 15  Iniciativa Clúster            89875 non-null   object \n",
            " 16  País                          185494 non-null  object \n",
            " 17  Departamento                  185494 non-null  object \n",
            " 18  Municipio                     185494 non-null  object \n",
            " 19  Localidad                     173192 non-null  object \n",
            " 20  Barrio                        171792 non-null  object \n",
            " 21  Cantidad Total                185494 non-null  float64\n",
            "dtypes: float64(4), int64(1), object(17)\n",
            "memory usage: 31.1+ MB\n"
          ]
        }
      ]
    },
    {
      "cell_type": "code",
      "source": [
        "camara_financiera.info()"
      ],
      "metadata": {
        "id": "3m75Is6COv7p",
        "outputId": "bed9adb0-86a7-4ba2-f72a-26ddafcdfbab",
        "colab": {
          "base_uri": "https://localhost:8080/"
        }
      },
      "execution_count": 8,
      "outputs": [
        {
          "output_type": "stream",
          "name": "stdout",
          "text": [
            "<class 'pandas.core.frame.DataFrame'>\n",
            "RangeIndex: 185495 entries, 0 to 185494\n",
            "Data columns (total 5 columns):\n",
            " #   Column                    Non-Null Count   Dtype  \n",
            "---  ------                    --------------   -----  \n",
            " 0   Matrícula                 185495 non-null  float64\n",
            " 1   Total Valor Activos       185494 non-null  float64\n",
            " 2   Total Valor Pasivos       185494 non-null  float64\n",
            " 3   Total Valor Patrimonio    185494 non-null  float64\n",
            " 4   Total Valor Ventas Netas  185494 non-null  float64\n",
            "dtypes: float64(5)\n",
            "memory usage: 7.1 MB\n"
          ]
        }
      ]
    },
    {
      "cell_type": "code",
      "source": [
        "camara_financiera.head(5)"
      ],
      "metadata": {
        "id": "59Pb2TPMOkMo",
        "outputId": "c1ce8f9c-c936-4a0a-c53c-7523314a336f",
        "colab": {
          "base_uri": "https://localhost:8080/",
          "height": 206
        }
      },
      "execution_count": 13,
      "outputs": [
        {
          "output_type": "execute_result",
          "data": {
            "text/plain": [
              "   Matrícula  Total Valor Activos  Total Valor Pasivos  \\\n",
              "0  5061891.0           35936379.0          204403836.0   \n",
              "1  5061892.0          342953600.0          200448883.0   \n",
              "2  5061893.0            9500000.0            3545000.0   \n",
              "3  5061894.0           15693250.0            1221500.0   \n",
              "4  5061895.0           99019844.0           64768753.0   \n",
              "\n",
              "   Total Valor Patrimonio  Total Valor Ventas Netas  \n",
              "0              35936379.0                       0.0  \n",
              "1             342953600.0                       0.0  \n",
              "2               9500000.0                       0.0  \n",
              "3              15693250.0                       0.0  \n",
              "4              99019844.0                       0.0  "
            ],
            "text/html": [
              "\n",
              "  <div id=\"df-c9ebefaa-ce31-4b35-a06c-2e3a5e01da06\" class=\"colab-df-container\">\n",
              "    <div>\n",
              "<style scoped>\n",
              "    .dataframe tbody tr th:only-of-type {\n",
              "        vertical-align: middle;\n",
              "    }\n",
              "\n",
              "    .dataframe tbody tr th {\n",
              "        vertical-align: top;\n",
              "    }\n",
              "\n",
              "    .dataframe thead th {\n",
              "        text-align: right;\n",
              "    }\n",
              "</style>\n",
              "<table border=\"1\" class=\"dataframe\">\n",
              "  <thead>\n",
              "    <tr style=\"text-align: right;\">\n",
              "      <th></th>\n",
              "      <th>Matrícula</th>\n",
              "      <th>Total Valor Activos</th>\n",
              "      <th>Total Valor Pasivos</th>\n",
              "      <th>Total Valor Patrimonio</th>\n",
              "      <th>Total Valor Ventas Netas</th>\n",
              "    </tr>\n",
              "  </thead>\n",
              "  <tbody>\n",
              "    <tr>\n",
              "      <th>0</th>\n",
              "      <td>5061891.0</td>\n",
              "      <td>35936379.0</td>\n",
              "      <td>204403836.0</td>\n",
              "      <td>35936379.0</td>\n",
              "      <td>0.0</td>\n",
              "    </tr>\n",
              "    <tr>\n",
              "      <th>1</th>\n",
              "      <td>5061892.0</td>\n",
              "      <td>342953600.0</td>\n",
              "      <td>200448883.0</td>\n",
              "      <td>342953600.0</td>\n",
              "      <td>0.0</td>\n",
              "    </tr>\n",
              "    <tr>\n",
              "      <th>2</th>\n",
              "      <td>5061893.0</td>\n",
              "      <td>9500000.0</td>\n",
              "      <td>3545000.0</td>\n",
              "      <td>9500000.0</td>\n",
              "      <td>0.0</td>\n",
              "    </tr>\n",
              "    <tr>\n",
              "      <th>3</th>\n",
              "      <td>5061894.0</td>\n",
              "      <td>15693250.0</td>\n",
              "      <td>1221500.0</td>\n",
              "      <td>15693250.0</td>\n",
              "      <td>0.0</td>\n",
              "    </tr>\n",
              "    <tr>\n",
              "      <th>4</th>\n",
              "      <td>5061895.0</td>\n",
              "      <td>99019844.0</td>\n",
              "      <td>64768753.0</td>\n",
              "      <td>99019844.0</td>\n",
              "      <td>0.0</td>\n",
              "    </tr>\n",
              "  </tbody>\n",
              "</table>\n",
              "</div>\n",
              "    <div class=\"colab-df-buttons\">\n",
              "\n",
              "  <div class=\"colab-df-container\">\n",
              "    <button class=\"colab-df-convert\" onclick=\"convertToInteractive('df-c9ebefaa-ce31-4b35-a06c-2e3a5e01da06')\"\n",
              "            title=\"Convert this dataframe to an interactive table.\"\n",
              "            style=\"display:none;\">\n",
              "\n",
              "  <svg xmlns=\"http://www.w3.org/2000/svg\" height=\"24px\" viewBox=\"0 -960 960 960\">\n",
              "    <path d=\"M120-120v-720h720v720H120Zm60-500h600v-160H180v160Zm220 220h160v-160H400v160Zm0 220h160v-160H400v160ZM180-400h160v-160H180v160Zm440 0h160v-160H620v160ZM180-180h160v-160H180v160Zm440 0h160v-160H620v160Z\"/>\n",
              "  </svg>\n",
              "    </button>\n",
              "\n",
              "  <style>\n",
              "    .colab-df-container {\n",
              "      display:flex;\n",
              "      gap: 12px;\n",
              "    }\n",
              "\n",
              "    .colab-df-convert {\n",
              "      background-color: #E8F0FE;\n",
              "      border: none;\n",
              "      border-radius: 50%;\n",
              "      cursor: pointer;\n",
              "      display: none;\n",
              "      fill: #1967D2;\n",
              "      height: 32px;\n",
              "      padding: 0 0 0 0;\n",
              "      width: 32px;\n",
              "    }\n",
              "\n",
              "    .colab-df-convert:hover {\n",
              "      background-color: #E2EBFA;\n",
              "      box-shadow: 0px 1px 2px rgba(60, 64, 67, 0.3), 0px 1px 3px 1px rgba(60, 64, 67, 0.15);\n",
              "      fill: #174EA6;\n",
              "    }\n",
              "\n",
              "    .colab-df-buttons div {\n",
              "      margin-bottom: 4px;\n",
              "    }\n",
              "\n",
              "    [theme=dark] .colab-df-convert {\n",
              "      background-color: #3B4455;\n",
              "      fill: #D2E3FC;\n",
              "    }\n",
              "\n",
              "    [theme=dark] .colab-df-convert:hover {\n",
              "      background-color: #434B5C;\n",
              "      box-shadow: 0px 1px 3px 1px rgba(0, 0, 0, 0.15);\n",
              "      filter: drop-shadow(0px 1px 2px rgba(0, 0, 0, 0.3));\n",
              "      fill: #FFFFFF;\n",
              "    }\n",
              "  </style>\n",
              "\n",
              "    <script>\n",
              "      const buttonEl =\n",
              "        document.querySelector('#df-c9ebefaa-ce31-4b35-a06c-2e3a5e01da06 button.colab-df-convert');\n",
              "      buttonEl.style.display =\n",
              "        google.colab.kernel.accessAllowed ? 'block' : 'none';\n",
              "\n",
              "      async function convertToInteractive(key) {\n",
              "        const element = document.querySelector('#df-c9ebefaa-ce31-4b35-a06c-2e3a5e01da06');\n",
              "        const dataTable =\n",
              "          await google.colab.kernel.invokeFunction('convertToInteractive',\n",
              "                                                    [key], {});\n",
              "        if (!dataTable) return;\n",
              "\n",
              "        const docLinkHtml = 'Like what you see? Visit the ' +\n",
              "          '<a target=\"_blank\" href=https://colab.research.google.com/notebooks/data_table.ipynb>data table notebook</a>'\n",
              "          + ' to learn more about interactive tables.';\n",
              "        element.innerHTML = '';\n",
              "        dataTable['output_type'] = 'display_data';\n",
              "        await google.colab.output.renderOutput(dataTable, element);\n",
              "        const docLink = document.createElement('div');\n",
              "        docLink.innerHTML = docLinkHtml;\n",
              "        element.appendChild(docLink);\n",
              "      }\n",
              "    </script>\n",
              "  </div>\n",
              "\n",
              "\n",
              "<div id=\"df-58b3d9fc-a50b-43ae-a4ef-5dc4701aa59b\">\n",
              "  <button class=\"colab-df-quickchart\" onclick=\"quickchart('df-58b3d9fc-a50b-43ae-a4ef-5dc4701aa59b')\"\n",
              "            title=\"Suggest charts\"\n",
              "            style=\"display:none;\">\n",
              "\n",
              "<svg xmlns=\"http://www.w3.org/2000/svg\" height=\"24px\"viewBox=\"0 0 24 24\"\n",
              "     width=\"24px\">\n",
              "    <g>\n",
              "        <path d=\"M19 3H5c-1.1 0-2 .9-2 2v14c0 1.1.9 2 2 2h14c1.1 0 2-.9 2-2V5c0-1.1-.9-2-2-2zM9 17H7v-7h2v7zm4 0h-2V7h2v10zm4 0h-2v-4h2v4z\"/>\n",
              "    </g>\n",
              "</svg>\n",
              "  </button>\n",
              "\n",
              "<style>\n",
              "  .colab-df-quickchart {\n",
              "      --bg-color: #E8F0FE;\n",
              "      --fill-color: #1967D2;\n",
              "      --hover-bg-color: #E2EBFA;\n",
              "      --hover-fill-color: #174EA6;\n",
              "      --disabled-fill-color: #AAA;\n",
              "      --disabled-bg-color: #DDD;\n",
              "  }\n",
              "\n",
              "  [theme=dark] .colab-df-quickchart {\n",
              "      --bg-color: #3B4455;\n",
              "      --fill-color: #D2E3FC;\n",
              "      --hover-bg-color: #434B5C;\n",
              "      --hover-fill-color: #FFFFFF;\n",
              "      --disabled-bg-color: #3B4455;\n",
              "      --disabled-fill-color: #666;\n",
              "  }\n",
              "\n",
              "  .colab-df-quickchart {\n",
              "    background-color: var(--bg-color);\n",
              "    border: none;\n",
              "    border-radius: 50%;\n",
              "    cursor: pointer;\n",
              "    display: none;\n",
              "    fill: var(--fill-color);\n",
              "    height: 32px;\n",
              "    padding: 0;\n",
              "    width: 32px;\n",
              "  }\n",
              "\n",
              "  .colab-df-quickchart:hover {\n",
              "    background-color: var(--hover-bg-color);\n",
              "    box-shadow: 0 1px 2px rgba(60, 64, 67, 0.3), 0 1px 3px 1px rgba(60, 64, 67, 0.15);\n",
              "    fill: var(--button-hover-fill-color);\n",
              "  }\n",
              "\n",
              "  .colab-df-quickchart-complete:disabled,\n",
              "  .colab-df-quickchart-complete:disabled:hover {\n",
              "    background-color: var(--disabled-bg-color);\n",
              "    fill: var(--disabled-fill-color);\n",
              "    box-shadow: none;\n",
              "  }\n",
              "\n",
              "  .colab-df-spinner {\n",
              "    border: 2px solid var(--fill-color);\n",
              "    border-color: transparent;\n",
              "    border-bottom-color: var(--fill-color);\n",
              "    animation:\n",
              "      spin 1s steps(1) infinite;\n",
              "  }\n",
              "\n",
              "  @keyframes spin {\n",
              "    0% {\n",
              "      border-color: transparent;\n",
              "      border-bottom-color: var(--fill-color);\n",
              "      border-left-color: var(--fill-color);\n",
              "    }\n",
              "    20% {\n",
              "      border-color: transparent;\n",
              "      border-left-color: var(--fill-color);\n",
              "      border-top-color: var(--fill-color);\n",
              "    }\n",
              "    30% {\n",
              "      border-color: transparent;\n",
              "      border-left-color: var(--fill-color);\n",
              "      border-top-color: var(--fill-color);\n",
              "      border-right-color: var(--fill-color);\n",
              "    }\n",
              "    40% {\n",
              "      border-color: transparent;\n",
              "      border-right-color: var(--fill-color);\n",
              "      border-top-color: var(--fill-color);\n",
              "    }\n",
              "    60% {\n",
              "      border-color: transparent;\n",
              "      border-right-color: var(--fill-color);\n",
              "    }\n",
              "    80% {\n",
              "      border-color: transparent;\n",
              "      border-right-color: var(--fill-color);\n",
              "      border-bottom-color: var(--fill-color);\n",
              "    }\n",
              "    90% {\n",
              "      border-color: transparent;\n",
              "      border-bottom-color: var(--fill-color);\n",
              "    }\n",
              "  }\n",
              "</style>\n",
              "\n",
              "  <script>\n",
              "    async function quickchart(key) {\n",
              "      const quickchartButtonEl =\n",
              "        document.querySelector('#' + key + ' button');\n",
              "      quickchartButtonEl.disabled = true;  // To prevent multiple clicks.\n",
              "      quickchartButtonEl.classList.add('colab-df-spinner');\n",
              "      try {\n",
              "        const charts = await google.colab.kernel.invokeFunction(\n",
              "            'suggestCharts', [key], {});\n",
              "      } catch (error) {\n",
              "        console.error('Error during call to suggestCharts:', error);\n",
              "      }\n",
              "      quickchartButtonEl.classList.remove('colab-df-spinner');\n",
              "      quickchartButtonEl.classList.add('colab-df-quickchart-complete');\n",
              "    }\n",
              "    (() => {\n",
              "      let quickchartButtonEl =\n",
              "        document.querySelector('#df-58b3d9fc-a50b-43ae-a4ef-5dc4701aa59b button');\n",
              "      quickchartButtonEl.style.display =\n",
              "        google.colab.kernel.accessAllowed ? 'block' : 'none';\n",
              "    })();\n",
              "  </script>\n",
              "</div>\n",
              "\n",
              "    </div>\n",
              "  </div>\n"
            ],
            "application/vnd.google.colaboratory.intrinsic+json": {
              "type": "dataframe",
              "variable_name": "camara_financiera"
            }
          },
          "metadata": {},
          "execution_count": 13
        }
      ]
    },
    {
      "cell_type": "code",
      "source": [
        "camara_gral.head(5)"
      ],
      "metadata": {
        "id": "_c1hBNP7O2Cf",
        "outputId": "4a77ffc3-2a6d-455b-a4f1-0a69390fbb50",
        "colab": {
          "base_uri": "https://localhost:8080/",
          "height": 585
        }
      },
      "execution_count": 11,
      "outputs": [
        {
          "output_type": "execute_result",
          "data": {
            "text/plain": [
              "   Matrícula              Indicador           Período   Año  \\\n",
              "0  5061891.0  Matricula No Renovada  Tercer Trimestre  2022   \n",
              "1  5061892.0  Matricula No Renovada  Tercer Trimestre  2022   \n",
              "2  5061893.0  Matricula No Renovada  Tercer Trimestre  2022   \n",
              "3  5061894.0  Matricula No Renovada  Tercer Trimestre  2022   \n",
              "4  5061895.0  Matricula No Renovada  Tercer Trimestre  2022   \n",
              "\n",
              "                Organización Jurídica         Tamaño     Sector  \\\n",
              "0  Sociedad por Acciones Simplificada  Microempresas  Servicios   \n",
              "1  Sociedad por Acciones Simplificada  Microempresas  Servicios   \n",
              "2  Sociedad por Acciones Simplificada  Microempresas  Servicios   \n",
              "3                     Persona Natural  Microempresas  Servicios   \n",
              "4                            Limitada  Microempresas   Comercio   \n",
              "\n",
              "                         Sección Actividad Económica  \\\n",
              "0                     L 68 ACTIVIDADES INMOBILIARIAS   \n",
              "1       K 64-66 ACTIVIDADES FINANCIERAS Y DE SEGUROS   \n",
              "2                     L 68 ACTIVIDADES INMOBILIARIAS   \n",
              "3             S 94-96 OTRAS ACTIVIDADES DE SERVICIOS   \n",
              "4  G 45-47 COMERCIO AL POR MAYOR Y AL POR MENOR; ...   \n",
              "\n",
              "                                                CIIU  \\\n",
              "0  6820    ACTIVIDADES INMOBILIARIAS REALIZADAS A...   \n",
              "1     6611    ADMINISTRACIÓN DE MERCADOS FINANCIEROS   \n",
              "2  6820    ACTIVIDADES INMOBILIARIAS REALIZADAS A...   \n",
              "3  9511    MANTENIMIENTO Y REPARACIÓN DE COMPUTAD...   \n",
              "4  4620    COMERCIO AL POR MAYOR DE MATERIAS PRIM...   \n",
              "\n",
              "   Cantidad de Establecimientos  ...  Categoría  \\\n",
              "0                           0.0  ...  Principal   \n",
              "1                           0.0  ...  Principal   \n",
              "2                           0.0  ...  Principal   \n",
              "3                           1.0  ...  Sin Categ   \n",
              "4                           0.0  ...  Principal   \n",
              "\n",
              "                     Macrosector Especialización Inteligente  \\\n",
              "0         Construcción y Energía    Ciudad-región sostenible   \n",
              "1        Servicios Empresariales     Servicios empresariales   \n",
              "2         Construcción y Energía    Ciudad-región sostenible   \n",
              "3                            TIC                         NaN   \n",
              "4  Agropecuario y Agroindustrial                     Biopolo   \n",
              "\n",
              "     Iniciativa Clúster      País  Departamento     Municipio   Localidad  \\\n",
              "0       IC Construcción  COLOMBIA   Bogotá, D.C  BOGOTÁ, D.C.    ENGATIVA   \n",
              "1  IC Sector financiero  COLOMBIA   Bogotá, D.C  BOGOTÁ, D.C.   CHAPINERO   \n",
              "2       IC Construcción  COLOMBIA   Bogotá, D.C  BOGOTÁ, D.C.        SUBA   \n",
              "3                   NaN  COLOMBIA   Bogotá, D.C  BOGOTÁ, D.C.  TUNJUELITO   \n",
              "4                   NaN  COLOMBIA  Cundinamarca          CHÍA         NaN   \n",
              "\n",
              "                  Barrio Cantidad Total  \n",
              "0           SANTA MONICA            2.0  \n",
              "1               EL NOGAL            2.0  \n",
              "2  PRADO VERANIEGO NORTE            2.0  \n",
              "3              EL CARMEN            2.0  \n",
              "4                    NaN            2.0  \n",
              "\n",
              "[5 rows x 22 columns]"
            ],
            "text/html": [
              "\n",
              "  <div id=\"df-b53e59c9-fedd-4d77-b859-71a655849747\" class=\"colab-df-container\">\n",
              "    <div>\n",
              "<style scoped>\n",
              "    .dataframe tbody tr th:only-of-type {\n",
              "        vertical-align: middle;\n",
              "    }\n",
              "\n",
              "    .dataframe tbody tr th {\n",
              "        vertical-align: top;\n",
              "    }\n",
              "\n",
              "    .dataframe thead th {\n",
              "        text-align: right;\n",
              "    }\n",
              "</style>\n",
              "<table border=\"1\" class=\"dataframe\">\n",
              "  <thead>\n",
              "    <tr style=\"text-align: right;\">\n",
              "      <th></th>\n",
              "      <th>Matrícula</th>\n",
              "      <th>Indicador</th>\n",
              "      <th>Período</th>\n",
              "      <th>Año</th>\n",
              "      <th>Organización Jurídica</th>\n",
              "      <th>Tamaño</th>\n",
              "      <th>Sector</th>\n",
              "      <th>Sección Actividad Económica</th>\n",
              "      <th>CIIU</th>\n",
              "      <th>Cantidad de Establecimientos</th>\n",
              "      <th>...</th>\n",
              "      <th>Categoría</th>\n",
              "      <th>Macrosector</th>\n",
              "      <th>Especialización Inteligente</th>\n",
              "      <th>Iniciativa Clúster</th>\n",
              "      <th>País</th>\n",
              "      <th>Departamento</th>\n",
              "      <th>Municipio</th>\n",
              "      <th>Localidad</th>\n",
              "      <th>Barrio</th>\n",
              "      <th>Cantidad Total</th>\n",
              "    </tr>\n",
              "  </thead>\n",
              "  <tbody>\n",
              "    <tr>\n",
              "      <th>0</th>\n",
              "      <td>5061891.0</td>\n",
              "      <td>Matricula No Renovada</td>\n",
              "      <td>Tercer Trimestre</td>\n",
              "      <td>2022</td>\n",
              "      <td>Sociedad por Acciones Simplificada</td>\n",
              "      <td>Microempresas</td>\n",
              "      <td>Servicios</td>\n",
              "      <td>L 68 ACTIVIDADES INMOBILIARIAS</td>\n",
              "      <td>6820    ACTIVIDADES INMOBILIARIAS REALIZADAS A...</td>\n",
              "      <td>0.0</td>\n",
              "      <td>...</td>\n",
              "      <td>Principal</td>\n",
              "      <td>Construcción y Energía</td>\n",
              "      <td>Ciudad-región sostenible</td>\n",
              "      <td>IC Construcción</td>\n",
              "      <td>COLOMBIA</td>\n",
              "      <td>Bogotá, D.C</td>\n",
              "      <td>BOGOTÁ, D.C.</td>\n",
              "      <td>ENGATIVA</td>\n",
              "      <td>SANTA MONICA</td>\n",
              "      <td>2.0</td>\n",
              "    </tr>\n",
              "    <tr>\n",
              "      <th>1</th>\n",
              "      <td>5061892.0</td>\n",
              "      <td>Matricula No Renovada</td>\n",
              "      <td>Tercer Trimestre</td>\n",
              "      <td>2022</td>\n",
              "      <td>Sociedad por Acciones Simplificada</td>\n",
              "      <td>Microempresas</td>\n",
              "      <td>Servicios</td>\n",
              "      <td>K 64-66 ACTIVIDADES FINANCIERAS Y DE SEGUROS</td>\n",
              "      <td>6611    ADMINISTRACIÓN DE MERCADOS FINANCIEROS</td>\n",
              "      <td>0.0</td>\n",
              "      <td>...</td>\n",
              "      <td>Principal</td>\n",
              "      <td>Servicios Empresariales</td>\n",
              "      <td>Servicios empresariales</td>\n",
              "      <td>IC Sector financiero</td>\n",
              "      <td>COLOMBIA</td>\n",
              "      <td>Bogotá, D.C</td>\n",
              "      <td>BOGOTÁ, D.C.</td>\n",
              "      <td>CHAPINERO</td>\n",
              "      <td>EL NOGAL</td>\n",
              "      <td>2.0</td>\n",
              "    </tr>\n",
              "    <tr>\n",
              "      <th>2</th>\n",
              "      <td>5061893.0</td>\n",
              "      <td>Matricula No Renovada</td>\n",
              "      <td>Tercer Trimestre</td>\n",
              "      <td>2022</td>\n",
              "      <td>Sociedad por Acciones Simplificada</td>\n",
              "      <td>Microempresas</td>\n",
              "      <td>Servicios</td>\n",
              "      <td>L 68 ACTIVIDADES INMOBILIARIAS</td>\n",
              "      <td>6820    ACTIVIDADES INMOBILIARIAS REALIZADAS A...</td>\n",
              "      <td>0.0</td>\n",
              "      <td>...</td>\n",
              "      <td>Principal</td>\n",
              "      <td>Construcción y Energía</td>\n",
              "      <td>Ciudad-región sostenible</td>\n",
              "      <td>IC Construcción</td>\n",
              "      <td>COLOMBIA</td>\n",
              "      <td>Bogotá, D.C</td>\n",
              "      <td>BOGOTÁ, D.C.</td>\n",
              "      <td>SUBA</td>\n",
              "      <td>PRADO VERANIEGO NORTE</td>\n",
              "      <td>2.0</td>\n",
              "    </tr>\n",
              "    <tr>\n",
              "      <th>3</th>\n",
              "      <td>5061894.0</td>\n",
              "      <td>Matricula No Renovada</td>\n",
              "      <td>Tercer Trimestre</td>\n",
              "      <td>2022</td>\n",
              "      <td>Persona Natural</td>\n",
              "      <td>Microempresas</td>\n",
              "      <td>Servicios</td>\n",
              "      <td>S 94-96 OTRAS ACTIVIDADES DE SERVICIOS</td>\n",
              "      <td>9511    MANTENIMIENTO Y REPARACIÓN DE COMPUTAD...</td>\n",
              "      <td>1.0</td>\n",
              "      <td>...</td>\n",
              "      <td>Sin Categ</td>\n",
              "      <td>TIC</td>\n",
              "      <td>NaN</td>\n",
              "      <td>NaN</td>\n",
              "      <td>COLOMBIA</td>\n",
              "      <td>Bogotá, D.C</td>\n",
              "      <td>BOGOTÁ, D.C.</td>\n",
              "      <td>TUNJUELITO</td>\n",
              "      <td>EL CARMEN</td>\n",
              "      <td>2.0</td>\n",
              "    </tr>\n",
              "    <tr>\n",
              "      <th>4</th>\n",
              "      <td>5061895.0</td>\n",
              "      <td>Matricula No Renovada</td>\n",
              "      <td>Tercer Trimestre</td>\n",
              "      <td>2022</td>\n",
              "      <td>Limitada</td>\n",
              "      <td>Microempresas</td>\n",
              "      <td>Comercio</td>\n",
              "      <td>G 45-47 COMERCIO AL POR MAYOR Y AL POR MENOR; ...</td>\n",
              "      <td>4620    COMERCIO AL POR MAYOR DE MATERIAS PRIM...</td>\n",
              "      <td>0.0</td>\n",
              "      <td>...</td>\n",
              "      <td>Principal</td>\n",
              "      <td>Agropecuario y Agroindustrial</td>\n",
              "      <td>Biopolo</td>\n",
              "      <td>NaN</td>\n",
              "      <td>COLOMBIA</td>\n",
              "      <td>Cundinamarca</td>\n",
              "      <td>CHÍA</td>\n",
              "      <td>NaN</td>\n",
              "      <td>NaN</td>\n",
              "      <td>2.0</td>\n",
              "    </tr>\n",
              "  </tbody>\n",
              "</table>\n",
              "<p>5 rows × 22 columns</p>\n",
              "</div>\n",
              "    <div class=\"colab-df-buttons\">\n",
              "\n",
              "  <div class=\"colab-df-container\">\n",
              "    <button class=\"colab-df-convert\" onclick=\"convertToInteractive('df-b53e59c9-fedd-4d77-b859-71a655849747')\"\n",
              "            title=\"Convert this dataframe to an interactive table.\"\n",
              "            style=\"display:none;\">\n",
              "\n",
              "  <svg xmlns=\"http://www.w3.org/2000/svg\" height=\"24px\" viewBox=\"0 -960 960 960\">\n",
              "    <path d=\"M120-120v-720h720v720H120Zm60-500h600v-160H180v160Zm220 220h160v-160H400v160Zm0 220h160v-160H400v160ZM180-400h160v-160H180v160Zm440 0h160v-160H620v160ZM180-180h160v-160H180v160Zm440 0h160v-160H620v160Z\"/>\n",
              "  </svg>\n",
              "    </button>\n",
              "\n",
              "  <style>\n",
              "    .colab-df-container {\n",
              "      display:flex;\n",
              "      gap: 12px;\n",
              "    }\n",
              "\n",
              "    .colab-df-convert {\n",
              "      background-color: #E8F0FE;\n",
              "      border: none;\n",
              "      border-radius: 50%;\n",
              "      cursor: pointer;\n",
              "      display: none;\n",
              "      fill: #1967D2;\n",
              "      height: 32px;\n",
              "      padding: 0 0 0 0;\n",
              "      width: 32px;\n",
              "    }\n",
              "\n",
              "    .colab-df-convert:hover {\n",
              "      background-color: #E2EBFA;\n",
              "      box-shadow: 0px 1px 2px rgba(60, 64, 67, 0.3), 0px 1px 3px 1px rgba(60, 64, 67, 0.15);\n",
              "      fill: #174EA6;\n",
              "    }\n",
              "\n",
              "    .colab-df-buttons div {\n",
              "      margin-bottom: 4px;\n",
              "    }\n",
              "\n",
              "    [theme=dark] .colab-df-convert {\n",
              "      background-color: #3B4455;\n",
              "      fill: #D2E3FC;\n",
              "    }\n",
              "\n",
              "    [theme=dark] .colab-df-convert:hover {\n",
              "      background-color: #434B5C;\n",
              "      box-shadow: 0px 1px 3px 1px rgba(0, 0, 0, 0.15);\n",
              "      filter: drop-shadow(0px 1px 2px rgba(0, 0, 0, 0.3));\n",
              "      fill: #FFFFFF;\n",
              "    }\n",
              "  </style>\n",
              "\n",
              "    <script>\n",
              "      const buttonEl =\n",
              "        document.querySelector('#df-b53e59c9-fedd-4d77-b859-71a655849747 button.colab-df-convert');\n",
              "      buttonEl.style.display =\n",
              "        google.colab.kernel.accessAllowed ? 'block' : 'none';\n",
              "\n",
              "      async function convertToInteractive(key) {\n",
              "        const element = document.querySelector('#df-b53e59c9-fedd-4d77-b859-71a655849747');\n",
              "        const dataTable =\n",
              "          await google.colab.kernel.invokeFunction('convertToInteractive',\n",
              "                                                    [key], {});\n",
              "        if (!dataTable) return;\n",
              "\n",
              "        const docLinkHtml = 'Like what you see? Visit the ' +\n",
              "          '<a target=\"_blank\" href=https://colab.research.google.com/notebooks/data_table.ipynb>data table notebook</a>'\n",
              "          + ' to learn more about interactive tables.';\n",
              "        element.innerHTML = '';\n",
              "        dataTable['output_type'] = 'display_data';\n",
              "        await google.colab.output.renderOutput(dataTable, element);\n",
              "        const docLink = document.createElement('div');\n",
              "        docLink.innerHTML = docLinkHtml;\n",
              "        element.appendChild(docLink);\n",
              "      }\n",
              "    </script>\n",
              "  </div>\n",
              "\n",
              "\n",
              "<div id=\"df-10d41c85-e428-4d39-835a-c0bb9c1b28e1\">\n",
              "  <button class=\"colab-df-quickchart\" onclick=\"quickchart('df-10d41c85-e428-4d39-835a-c0bb9c1b28e1')\"\n",
              "            title=\"Suggest charts\"\n",
              "            style=\"display:none;\">\n",
              "\n",
              "<svg xmlns=\"http://www.w3.org/2000/svg\" height=\"24px\"viewBox=\"0 0 24 24\"\n",
              "     width=\"24px\">\n",
              "    <g>\n",
              "        <path d=\"M19 3H5c-1.1 0-2 .9-2 2v14c0 1.1.9 2 2 2h14c1.1 0 2-.9 2-2V5c0-1.1-.9-2-2-2zM9 17H7v-7h2v7zm4 0h-2V7h2v10zm4 0h-2v-4h2v4z\"/>\n",
              "    </g>\n",
              "</svg>\n",
              "  </button>\n",
              "\n",
              "<style>\n",
              "  .colab-df-quickchart {\n",
              "      --bg-color: #E8F0FE;\n",
              "      --fill-color: #1967D2;\n",
              "      --hover-bg-color: #E2EBFA;\n",
              "      --hover-fill-color: #174EA6;\n",
              "      --disabled-fill-color: #AAA;\n",
              "      --disabled-bg-color: #DDD;\n",
              "  }\n",
              "\n",
              "  [theme=dark] .colab-df-quickchart {\n",
              "      --bg-color: #3B4455;\n",
              "      --fill-color: #D2E3FC;\n",
              "      --hover-bg-color: #434B5C;\n",
              "      --hover-fill-color: #FFFFFF;\n",
              "      --disabled-bg-color: #3B4455;\n",
              "      --disabled-fill-color: #666;\n",
              "  }\n",
              "\n",
              "  .colab-df-quickchart {\n",
              "    background-color: var(--bg-color);\n",
              "    border: none;\n",
              "    border-radius: 50%;\n",
              "    cursor: pointer;\n",
              "    display: none;\n",
              "    fill: var(--fill-color);\n",
              "    height: 32px;\n",
              "    padding: 0;\n",
              "    width: 32px;\n",
              "  }\n",
              "\n",
              "  .colab-df-quickchart:hover {\n",
              "    background-color: var(--hover-bg-color);\n",
              "    box-shadow: 0 1px 2px rgba(60, 64, 67, 0.3), 0 1px 3px 1px rgba(60, 64, 67, 0.15);\n",
              "    fill: var(--button-hover-fill-color);\n",
              "  }\n",
              "\n",
              "  .colab-df-quickchart-complete:disabled,\n",
              "  .colab-df-quickchart-complete:disabled:hover {\n",
              "    background-color: var(--disabled-bg-color);\n",
              "    fill: var(--disabled-fill-color);\n",
              "    box-shadow: none;\n",
              "  }\n",
              "\n",
              "  .colab-df-spinner {\n",
              "    border: 2px solid var(--fill-color);\n",
              "    border-color: transparent;\n",
              "    border-bottom-color: var(--fill-color);\n",
              "    animation:\n",
              "      spin 1s steps(1) infinite;\n",
              "  }\n",
              "\n",
              "  @keyframes spin {\n",
              "    0% {\n",
              "      border-color: transparent;\n",
              "      border-bottom-color: var(--fill-color);\n",
              "      border-left-color: var(--fill-color);\n",
              "    }\n",
              "    20% {\n",
              "      border-color: transparent;\n",
              "      border-left-color: var(--fill-color);\n",
              "      border-top-color: var(--fill-color);\n",
              "    }\n",
              "    30% {\n",
              "      border-color: transparent;\n",
              "      border-left-color: var(--fill-color);\n",
              "      border-top-color: var(--fill-color);\n",
              "      border-right-color: var(--fill-color);\n",
              "    }\n",
              "    40% {\n",
              "      border-color: transparent;\n",
              "      border-right-color: var(--fill-color);\n",
              "      border-top-color: var(--fill-color);\n",
              "    }\n",
              "    60% {\n",
              "      border-color: transparent;\n",
              "      border-right-color: var(--fill-color);\n",
              "    }\n",
              "    80% {\n",
              "      border-color: transparent;\n",
              "      border-right-color: var(--fill-color);\n",
              "      border-bottom-color: var(--fill-color);\n",
              "    }\n",
              "    90% {\n",
              "      border-color: transparent;\n",
              "      border-bottom-color: var(--fill-color);\n",
              "    }\n",
              "  }\n",
              "</style>\n",
              "\n",
              "  <script>\n",
              "    async function quickchart(key) {\n",
              "      const quickchartButtonEl =\n",
              "        document.querySelector('#' + key + ' button');\n",
              "      quickchartButtonEl.disabled = true;  // To prevent multiple clicks.\n",
              "      quickchartButtonEl.classList.add('colab-df-spinner');\n",
              "      try {\n",
              "        const charts = await google.colab.kernel.invokeFunction(\n",
              "            'suggestCharts', [key], {});\n",
              "      } catch (error) {\n",
              "        console.error('Error during call to suggestCharts:', error);\n",
              "      }\n",
              "      quickchartButtonEl.classList.remove('colab-df-spinner');\n",
              "      quickchartButtonEl.classList.add('colab-df-quickchart-complete');\n",
              "    }\n",
              "    (() => {\n",
              "      let quickchartButtonEl =\n",
              "        document.querySelector('#df-10d41c85-e428-4d39-835a-c0bb9c1b28e1 button');\n",
              "      quickchartButtonEl.style.display =\n",
              "        google.colab.kernel.accessAllowed ? 'block' : 'none';\n",
              "    })();\n",
              "  </script>\n",
              "</div>\n",
              "\n",
              "    </div>\n",
              "  </div>\n"
            ],
            "application/vnd.google.colaboratory.intrinsic+json": {
              "type": "dataframe",
              "variable_name": "camara_gral"
            }
          },
          "metadata": {},
          "execution_count": 11
        }
      ]
    },
    {
      "cell_type": "markdown",
      "source": [
        "#### Ejercicio 2\n",
        "\n",
        "Describa brevemente qué tipo de información tiene cada data frame:\n",
        "\n"
      ],
      "metadata": {
        "id": "RjQiuizXrr3N"
      }
    },
    {
      "cell_type": "markdown",
      "source": [
        "el dataframe camara_gral contiene los datos basicos de cada una de las empresas, mientras que el dataframe camara_financiera contiene los datos del estado financiero."
      ],
      "metadata": {
        "id": "ElJydIz_wtDl"
      }
    },
    {
      "cell_type": "markdown",
      "source": [
        "### Limpieza"
      ],
      "metadata": {
        "id": "-Xvjzj1OO8WU"
      }
    },
    {
      "cell_type": "markdown",
      "source": [
        "#### Ejercicio 3"
      ],
      "metadata": {
        "id": "nb_wpogU2WNF"
      }
    },
    {
      "cell_type": "markdown",
      "source": [
        "**Ejercicio**: Note que una de las columnas (Total Valor Ventas Netas) parece tener sólamente valores cero. Detalle esta columna para revisar qué tipos de valores tiene. Puede utilizar la función describe para obtener los cuartiles.\n",
        "\n",
        "\n",
        "\n"
      ],
      "metadata": {
        "id": "kk-GgIr2POS4"
      }
    },
    {
      "cell_type": "code",
      "source": [
        "camara_financiera[\"Total Valor Ventas Netas\"].describe()"
      ],
      "metadata": {
        "id": "dzyiyO4sPSPj",
        "outputId": "ed770a3b-4af9-4ef4-b5ec-75fa9f7aac35",
        "colab": {
          "base_uri": "https://localhost:8080/"
        }
      },
      "execution_count": 15,
      "outputs": [
        {
          "output_type": "execute_result",
          "data": {
            "text/plain": [
              "count    1.854940e+05\n",
              "mean     1.949811e+08\n",
              "std      2.237441e+10\n",
              "min     -2.087387e+09\n",
              "25%      0.000000e+00\n",
              "50%      0.000000e+00\n",
              "75%      0.000000e+00\n",
              "max      7.907010e+12\n",
              "Name: Total Valor Ventas Netas, dtype: float64"
            ]
          },
          "metadata": {},
          "execution_count": 15
        }
      ]
    },
    {
      "cell_type": "markdown",
      "source": [
        "El valor mínimo es negativo, y tenemos que ¡al menos el 75% de los datos es cero!"
      ],
      "metadata": {
        "id": "rIxKlQEbPk6-"
      }
    },
    {
      "cell_type": "code",
      "source": [
        "# Vamos a quedarnos sólamente con las filas que tienen ventas mayores a cero.\n",
        "# Es decir, hacemos elegibles sólamente a las empresas que han vendido algo en\n",
        "# este periodo.\n",
        "no_utilizar = camara_financiera['Total Valor Ventas Netas'] <= 0\n",
        "no_utilizar"
      ],
      "metadata": {
        "id": "OHaV_baYPuyt",
        "outputId": "a2e55012-74c4-4e4b-f342-46233695966a",
        "colab": {
          "base_uri": "https://localhost:8080/"
        }
      },
      "execution_count": 16,
      "outputs": [
        {
          "output_type": "execute_result",
          "data": {
            "text/plain": [
              "0          True\n",
              "1          True\n",
              "2          True\n",
              "3          True\n",
              "4          True\n",
              "          ...  \n",
              "185490     True\n",
              "185491     True\n",
              "185492     True\n",
              "185493     True\n",
              "185494    False\n",
              "Name: Total Valor Ventas Netas, Length: 185495, dtype: bool"
            ]
          },
          "metadata": {},
          "execution_count": 16
        }
      ]
    },
    {
      "cell_type": "code",
      "source": [
        "# Usamos loc siempre que queremos reemplazar valores utilizando condiciones lógicas\n",
        "camara_financiera.loc[no_utilizar, 'Total Valor Ventas Netas'] = np.nan"
      ],
      "metadata": {
        "id": "jBfvtDpUQQd9"
      },
      "execution_count": 17,
      "outputs": []
    },
    {
      "cell_type": "code",
      "source": [
        "# Así, tenemos:\n",
        "camara_financiera['Total Valor Ventas Netas'].describe()"
      ],
      "metadata": {
        "id": "I9780hecQcm6",
        "outputId": "ee4be8b5-92ce-4c21-ba3b-9055d424599b",
        "colab": {
          "base_uri": "https://localhost:8080/"
        }
      },
      "execution_count": 18,
      "outputs": [
        {
          "output_type": "execute_result",
          "data": {
            "text/plain": [
              "count    3.995800e+04\n",
              "mean     9.052059e+08\n",
              "std      4.820130e+10\n",
              "min      1.000000e+00\n",
              "25%      7.682892e+06\n",
              "50%      5.121050e+07\n",
              "75%      2.391192e+08\n",
              "max      7.907010e+12\n",
              "Name: Total Valor Ventas Netas, dtype: float64"
            ]
          },
          "metadata": {},
          "execution_count": 18
        }
      ]
    },
    {
      "cell_type": "markdown",
      "source": [
        "### Unión"
      ],
      "metadata": {
        "id": "0tWaQ0VORxBi"
      }
    },
    {
      "cell_type": "markdown",
      "source": [
        "#### Ejercicio 4"
      ],
      "metadata": {
        "id": "onGOWY_q2jxu"
      }
    },
    {
      "cell_type": "markdown",
      "source": [
        "**Ejercicio**: Considere qué tipo de unión es adecuada entre las dos tablas para poder relacionar ventas con el tipo de sociedad/entidad. Impleméntela a continuación. En caso de ser una unión horizontal considere todas las filas."
      ],
      "metadata": {
        "id": "QXf9XQnpRzuk"
      }
    },
    {
      "cell_type": "code",
      "source": [
        "entidades_camara = camara_gral.merge(camara_financiera, how='left', on='Matrícula')\n",
        "entidades_camara.head(5)"
      ],
      "metadata": {
        "id": "z5vdrgEtRzPI",
        "outputId": "1cfd7291-f957-40d7-9b49-a5ba44921a0c",
        "colab": {
          "base_uri": "https://localhost:8080/",
          "height": 602
        }
      },
      "execution_count": 20,
      "outputs": [
        {
          "output_type": "execute_result",
          "data": {
            "text/plain": [
              "   Matrícula              Indicador           Período   Año  \\\n",
              "0  5061891.0  Matricula No Renovada  Tercer Trimestre  2022   \n",
              "1  5061892.0  Matricula No Renovada  Tercer Trimestre  2022   \n",
              "2  5061893.0  Matricula No Renovada  Tercer Trimestre  2022   \n",
              "3  5061894.0  Matricula No Renovada  Tercer Trimestre  2022   \n",
              "4  5061895.0  Matricula No Renovada  Tercer Trimestre  2022   \n",
              "\n",
              "                Organización Jurídica         Tamaño     Sector  \\\n",
              "0  Sociedad por Acciones Simplificada  Microempresas  Servicios   \n",
              "1  Sociedad por Acciones Simplificada  Microempresas  Servicios   \n",
              "2  Sociedad por Acciones Simplificada  Microempresas  Servicios   \n",
              "3                     Persona Natural  Microempresas  Servicios   \n",
              "4                            Limitada  Microempresas   Comercio   \n",
              "\n",
              "                         Sección Actividad Económica  \\\n",
              "0                     L 68 ACTIVIDADES INMOBILIARIAS   \n",
              "1       K 64-66 ACTIVIDADES FINANCIERAS Y DE SEGUROS   \n",
              "2                     L 68 ACTIVIDADES INMOBILIARIAS   \n",
              "3             S 94-96 OTRAS ACTIVIDADES DE SERVICIOS   \n",
              "4  G 45-47 COMERCIO AL POR MAYOR Y AL POR MENOR; ...   \n",
              "\n",
              "                                                CIIU  \\\n",
              "0  6820    ACTIVIDADES INMOBILIARIAS REALIZADAS A...   \n",
              "1     6611    ADMINISTRACIÓN DE MERCADOS FINANCIEROS   \n",
              "2  6820    ACTIVIDADES INMOBILIARIAS REALIZADAS A...   \n",
              "3  9511    MANTENIMIENTO Y REPARACIÓN DE COMPUTAD...   \n",
              "4  4620    COMERCIO AL POR MAYOR DE MATERIAS PRIM...   \n",
              "\n",
              "   Cantidad de Establecimientos  ...      País  Departamento     Municipio  \\\n",
              "0                           0.0  ...  COLOMBIA   Bogotá, D.C  BOGOTÁ, D.C.   \n",
              "1                           0.0  ...  COLOMBIA   Bogotá, D.C  BOGOTÁ, D.C.   \n",
              "2                           0.0  ...  COLOMBIA   Bogotá, D.C  BOGOTÁ, D.C.   \n",
              "3                           1.0  ...  COLOMBIA   Bogotá, D.C  BOGOTÁ, D.C.   \n",
              "4                           0.0  ...  COLOMBIA  Cundinamarca          CHÍA   \n",
              "\n",
              "    Localidad                 Barrio Cantidad Total Total Valor Activos  \\\n",
              "0    ENGATIVA           SANTA MONICA            2.0          35936379.0   \n",
              "1   CHAPINERO               EL NOGAL            2.0         342953600.0   \n",
              "2        SUBA  PRADO VERANIEGO NORTE            2.0           9500000.0   \n",
              "3  TUNJUELITO              EL CARMEN            2.0          15693250.0   \n",
              "4         NaN                    NaN            2.0          99019844.0   \n",
              "\n",
              "  Total Valor Pasivos Total Valor Patrimonio Total Valor Ventas Netas  \n",
              "0         204403836.0             35936379.0                      NaN  \n",
              "1         200448883.0            342953600.0                      NaN  \n",
              "2           3545000.0              9500000.0                      NaN  \n",
              "3           1221500.0             15693250.0                      NaN  \n",
              "4          64768753.0             99019844.0                      NaN  \n",
              "\n",
              "[5 rows x 26 columns]"
            ],
            "text/html": [
              "\n",
              "  <div id=\"df-c4d788e3-c6ef-448c-b89c-b6bb7cca48de\" class=\"colab-df-container\">\n",
              "    <div>\n",
              "<style scoped>\n",
              "    .dataframe tbody tr th:only-of-type {\n",
              "        vertical-align: middle;\n",
              "    }\n",
              "\n",
              "    .dataframe tbody tr th {\n",
              "        vertical-align: top;\n",
              "    }\n",
              "\n",
              "    .dataframe thead th {\n",
              "        text-align: right;\n",
              "    }\n",
              "</style>\n",
              "<table border=\"1\" class=\"dataframe\">\n",
              "  <thead>\n",
              "    <tr style=\"text-align: right;\">\n",
              "      <th></th>\n",
              "      <th>Matrícula</th>\n",
              "      <th>Indicador</th>\n",
              "      <th>Período</th>\n",
              "      <th>Año</th>\n",
              "      <th>Organización Jurídica</th>\n",
              "      <th>Tamaño</th>\n",
              "      <th>Sector</th>\n",
              "      <th>Sección Actividad Económica</th>\n",
              "      <th>CIIU</th>\n",
              "      <th>Cantidad de Establecimientos</th>\n",
              "      <th>...</th>\n",
              "      <th>País</th>\n",
              "      <th>Departamento</th>\n",
              "      <th>Municipio</th>\n",
              "      <th>Localidad</th>\n",
              "      <th>Barrio</th>\n",
              "      <th>Cantidad Total</th>\n",
              "      <th>Total Valor Activos</th>\n",
              "      <th>Total Valor Pasivos</th>\n",
              "      <th>Total Valor Patrimonio</th>\n",
              "      <th>Total Valor Ventas Netas</th>\n",
              "    </tr>\n",
              "  </thead>\n",
              "  <tbody>\n",
              "    <tr>\n",
              "      <th>0</th>\n",
              "      <td>5061891.0</td>\n",
              "      <td>Matricula No Renovada</td>\n",
              "      <td>Tercer Trimestre</td>\n",
              "      <td>2022</td>\n",
              "      <td>Sociedad por Acciones Simplificada</td>\n",
              "      <td>Microempresas</td>\n",
              "      <td>Servicios</td>\n",
              "      <td>L 68 ACTIVIDADES INMOBILIARIAS</td>\n",
              "      <td>6820    ACTIVIDADES INMOBILIARIAS REALIZADAS A...</td>\n",
              "      <td>0.0</td>\n",
              "      <td>...</td>\n",
              "      <td>COLOMBIA</td>\n",
              "      <td>Bogotá, D.C</td>\n",
              "      <td>BOGOTÁ, D.C.</td>\n",
              "      <td>ENGATIVA</td>\n",
              "      <td>SANTA MONICA</td>\n",
              "      <td>2.0</td>\n",
              "      <td>35936379.0</td>\n",
              "      <td>204403836.0</td>\n",
              "      <td>35936379.0</td>\n",
              "      <td>NaN</td>\n",
              "    </tr>\n",
              "    <tr>\n",
              "      <th>1</th>\n",
              "      <td>5061892.0</td>\n",
              "      <td>Matricula No Renovada</td>\n",
              "      <td>Tercer Trimestre</td>\n",
              "      <td>2022</td>\n",
              "      <td>Sociedad por Acciones Simplificada</td>\n",
              "      <td>Microempresas</td>\n",
              "      <td>Servicios</td>\n",
              "      <td>K 64-66 ACTIVIDADES FINANCIERAS Y DE SEGUROS</td>\n",
              "      <td>6611    ADMINISTRACIÓN DE MERCADOS FINANCIEROS</td>\n",
              "      <td>0.0</td>\n",
              "      <td>...</td>\n",
              "      <td>COLOMBIA</td>\n",
              "      <td>Bogotá, D.C</td>\n",
              "      <td>BOGOTÁ, D.C.</td>\n",
              "      <td>CHAPINERO</td>\n",
              "      <td>EL NOGAL</td>\n",
              "      <td>2.0</td>\n",
              "      <td>342953600.0</td>\n",
              "      <td>200448883.0</td>\n",
              "      <td>342953600.0</td>\n",
              "      <td>NaN</td>\n",
              "    </tr>\n",
              "    <tr>\n",
              "      <th>2</th>\n",
              "      <td>5061893.0</td>\n",
              "      <td>Matricula No Renovada</td>\n",
              "      <td>Tercer Trimestre</td>\n",
              "      <td>2022</td>\n",
              "      <td>Sociedad por Acciones Simplificada</td>\n",
              "      <td>Microempresas</td>\n",
              "      <td>Servicios</td>\n",
              "      <td>L 68 ACTIVIDADES INMOBILIARIAS</td>\n",
              "      <td>6820    ACTIVIDADES INMOBILIARIAS REALIZADAS A...</td>\n",
              "      <td>0.0</td>\n",
              "      <td>...</td>\n",
              "      <td>COLOMBIA</td>\n",
              "      <td>Bogotá, D.C</td>\n",
              "      <td>BOGOTÁ, D.C.</td>\n",
              "      <td>SUBA</td>\n",
              "      <td>PRADO VERANIEGO NORTE</td>\n",
              "      <td>2.0</td>\n",
              "      <td>9500000.0</td>\n",
              "      <td>3545000.0</td>\n",
              "      <td>9500000.0</td>\n",
              "      <td>NaN</td>\n",
              "    </tr>\n",
              "    <tr>\n",
              "      <th>3</th>\n",
              "      <td>5061894.0</td>\n",
              "      <td>Matricula No Renovada</td>\n",
              "      <td>Tercer Trimestre</td>\n",
              "      <td>2022</td>\n",
              "      <td>Persona Natural</td>\n",
              "      <td>Microempresas</td>\n",
              "      <td>Servicios</td>\n",
              "      <td>S 94-96 OTRAS ACTIVIDADES DE SERVICIOS</td>\n",
              "      <td>9511    MANTENIMIENTO Y REPARACIÓN DE COMPUTAD...</td>\n",
              "      <td>1.0</td>\n",
              "      <td>...</td>\n",
              "      <td>COLOMBIA</td>\n",
              "      <td>Bogotá, D.C</td>\n",
              "      <td>BOGOTÁ, D.C.</td>\n",
              "      <td>TUNJUELITO</td>\n",
              "      <td>EL CARMEN</td>\n",
              "      <td>2.0</td>\n",
              "      <td>15693250.0</td>\n",
              "      <td>1221500.0</td>\n",
              "      <td>15693250.0</td>\n",
              "      <td>NaN</td>\n",
              "    </tr>\n",
              "    <tr>\n",
              "      <th>4</th>\n",
              "      <td>5061895.0</td>\n",
              "      <td>Matricula No Renovada</td>\n",
              "      <td>Tercer Trimestre</td>\n",
              "      <td>2022</td>\n",
              "      <td>Limitada</td>\n",
              "      <td>Microempresas</td>\n",
              "      <td>Comercio</td>\n",
              "      <td>G 45-47 COMERCIO AL POR MAYOR Y AL POR MENOR; ...</td>\n",
              "      <td>4620    COMERCIO AL POR MAYOR DE MATERIAS PRIM...</td>\n",
              "      <td>0.0</td>\n",
              "      <td>...</td>\n",
              "      <td>COLOMBIA</td>\n",
              "      <td>Cundinamarca</td>\n",
              "      <td>CHÍA</td>\n",
              "      <td>NaN</td>\n",
              "      <td>NaN</td>\n",
              "      <td>2.0</td>\n",
              "      <td>99019844.0</td>\n",
              "      <td>64768753.0</td>\n",
              "      <td>99019844.0</td>\n",
              "      <td>NaN</td>\n",
              "    </tr>\n",
              "  </tbody>\n",
              "</table>\n",
              "<p>5 rows × 26 columns</p>\n",
              "</div>\n",
              "    <div class=\"colab-df-buttons\">\n",
              "\n",
              "  <div class=\"colab-df-container\">\n",
              "    <button class=\"colab-df-convert\" onclick=\"convertToInteractive('df-c4d788e3-c6ef-448c-b89c-b6bb7cca48de')\"\n",
              "            title=\"Convert this dataframe to an interactive table.\"\n",
              "            style=\"display:none;\">\n",
              "\n",
              "  <svg xmlns=\"http://www.w3.org/2000/svg\" height=\"24px\" viewBox=\"0 -960 960 960\">\n",
              "    <path d=\"M120-120v-720h720v720H120Zm60-500h600v-160H180v160Zm220 220h160v-160H400v160Zm0 220h160v-160H400v160ZM180-400h160v-160H180v160Zm440 0h160v-160H620v160ZM180-180h160v-160H180v160Zm440 0h160v-160H620v160Z\"/>\n",
              "  </svg>\n",
              "    </button>\n",
              "\n",
              "  <style>\n",
              "    .colab-df-container {\n",
              "      display:flex;\n",
              "      gap: 12px;\n",
              "    }\n",
              "\n",
              "    .colab-df-convert {\n",
              "      background-color: #E8F0FE;\n",
              "      border: none;\n",
              "      border-radius: 50%;\n",
              "      cursor: pointer;\n",
              "      display: none;\n",
              "      fill: #1967D2;\n",
              "      height: 32px;\n",
              "      padding: 0 0 0 0;\n",
              "      width: 32px;\n",
              "    }\n",
              "\n",
              "    .colab-df-convert:hover {\n",
              "      background-color: #E2EBFA;\n",
              "      box-shadow: 0px 1px 2px rgba(60, 64, 67, 0.3), 0px 1px 3px 1px rgba(60, 64, 67, 0.15);\n",
              "      fill: #174EA6;\n",
              "    }\n",
              "\n",
              "    .colab-df-buttons div {\n",
              "      margin-bottom: 4px;\n",
              "    }\n",
              "\n",
              "    [theme=dark] .colab-df-convert {\n",
              "      background-color: #3B4455;\n",
              "      fill: #D2E3FC;\n",
              "    }\n",
              "\n",
              "    [theme=dark] .colab-df-convert:hover {\n",
              "      background-color: #434B5C;\n",
              "      box-shadow: 0px 1px 3px 1px rgba(0, 0, 0, 0.15);\n",
              "      filter: drop-shadow(0px 1px 2px rgba(0, 0, 0, 0.3));\n",
              "      fill: #FFFFFF;\n",
              "    }\n",
              "  </style>\n",
              "\n",
              "    <script>\n",
              "      const buttonEl =\n",
              "        document.querySelector('#df-c4d788e3-c6ef-448c-b89c-b6bb7cca48de button.colab-df-convert');\n",
              "      buttonEl.style.display =\n",
              "        google.colab.kernel.accessAllowed ? 'block' : 'none';\n",
              "\n",
              "      async function convertToInteractive(key) {\n",
              "        const element = document.querySelector('#df-c4d788e3-c6ef-448c-b89c-b6bb7cca48de');\n",
              "        const dataTable =\n",
              "          await google.colab.kernel.invokeFunction('convertToInteractive',\n",
              "                                                    [key], {});\n",
              "        if (!dataTable) return;\n",
              "\n",
              "        const docLinkHtml = 'Like what you see? Visit the ' +\n",
              "          '<a target=\"_blank\" href=https://colab.research.google.com/notebooks/data_table.ipynb>data table notebook</a>'\n",
              "          + ' to learn more about interactive tables.';\n",
              "        element.innerHTML = '';\n",
              "        dataTable['output_type'] = 'display_data';\n",
              "        await google.colab.output.renderOutput(dataTable, element);\n",
              "        const docLink = document.createElement('div');\n",
              "        docLink.innerHTML = docLinkHtml;\n",
              "        element.appendChild(docLink);\n",
              "      }\n",
              "    </script>\n",
              "  </div>\n",
              "\n",
              "\n",
              "<div id=\"df-6ff32380-d04d-4709-9472-f2db1a31313e\">\n",
              "  <button class=\"colab-df-quickchart\" onclick=\"quickchart('df-6ff32380-d04d-4709-9472-f2db1a31313e')\"\n",
              "            title=\"Suggest charts\"\n",
              "            style=\"display:none;\">\n",
              "\n",
              "<svg xmlns=\"http://www.w3.org/2000/svg\" height=\"24px\"viewBox=\"0 0 24 24\"\n",
              "     width=\"24px\">\n",
              "    <g>\n",
              "        <path d=\"M19 3H5c-1.1 0-2 .9-2 2v14c0 1.1.9 2 2 2h14c1.1 0 2-.9 2-2V5c0-1.1-.9-2-2-2zM9 17H7v-7h2v7zm4 0h-2V7h2v10zm4 0h-2v-4h2v4z\"/>\n",
              "    </g>\n",
              "</svg>\n",
              "  </button>\n",
              "\n",
              "<style>\n",
              "  .colab-df-quickchart {\n",
              "      --bg-color: #E8F0FE;\n",
              "      --fill-color: #1967D2;\n",
              "      --hover-bg-color: #E2EBFA;\n",
              "      --hover-fill-color: #174EA6;\n",
              "      --disabled-fill-color: #AAA;\n",
              "      --disabled-bg-color: #DDD;\n",
              "  }\n",
              "\n",
              "  [theme=dark] .colab-df-quickchart {\n",
              "      --bg-color: #3B4455;\n",
              "      --fill-color: #D2E3FC;\n",
              "      --hover-bg-color: #434B5C;\n",
              "      --hover-fill-color: #FFFFFF;\n",
              "      --disabled-bg-color: #3B4455;\n",
              "      --disabled-fill-color: #666;\n",
              "  }\n",
              "\n",
              "  .colab-df-quickchart {\n",
              "    background-color: var(--bg-color);\n",
              "    border: none;\n",
              "    border-radius: 50%;\n",
              "    cursor: pointer;\n",
              "    display: none;\n",
              "    fill: var(--fill-color);\n",
              "    height: 32px;\n",
              "    padding: 0;\n",
              "    width: 32px;\n",
              "  }\n",
              "\n",
              "  .colab-df-quickchart:hover {\n",
              "    background-color: var(--hover-bg-color);\n",
              "    box-shadow: 0 1px 2px rgba(60, 64, 67, 0.3), 0 1px 3px 1px rgba(60, 64, 67, 0.15);\n",
              "    fill: var(--button-hover-fill-color);\n",
              "  }\n",
              "\n",
              "  .colab-df-quickchart-complete:disabled,\n",
              "  .colab-df-quickchart-complete:disabled:hover {\n",
              "    background-color: var(--disabled-bg-color);\n",
              "    fill: var(--disabled-fill-color);\n",
              "    box-shadow: none;\n",
              "  }\n",
              "\n",
              "  .colab-df-spinner {\n",
              "    border: 2px solid var(--fill-color);\n",
              "    border-color: transparent;\n",
              "    border-bottom-color: var(--fill-color);\n",
              "    animation:\n",
              "      spin 1s steps(1) infinite;\n",
              "  }\n",
              "\n",
              "  @keyframes spin {\n",
              "    0% {\n",
              "      border-color: transparent;\n",
              "      border-bottom-color: var(--fill-color);\n",
              "      border-left-color: var(--fill-color);\n",
              "    }\n",
              "    20% {\n",
              "      border-color: transparent;\n",
              "      border-left-color: var(--fill-color);\n",
              "      border-top-color: var(--fill-color);\n",
              "    }\n",
              "    30% {\n",
              "      border-color: transparent;\n",
              "      border-left-color: var(--fill-color);\n",
              "      border-top-color: var(--fill-color);\n",
              "      border-right-color: var(--fill-color);\n",
              "    }\n",
              "    40% {\n",
              "      border-color: transparent;\n",
              "      border-right-color: var(--fill-color);\n",
              "      border-top-color: var(--fill-color);\n",
              "    }\n",
              "    60% {\n",
              "      border-color: transparent;\n",
              "      border-right-color: var(--fill-color);\n",
              "    }\n",
              "    80% {\n",
              "      border-color: transparent;\n",
              "      border-right-color: var(--fill-color);\n",
              "      border-bottom-color: var(--fill-color);\n",
              "    }\n",
              "    90% {\n",
              "      border-color: transparent;\n",
              "      border-bottom-color: var(--fill-color);\n",
              "    }\n",
              "  }\n",
              "</style>\n",
              "\n",
              "  <script>\n",
              "    async function quickchart(key) {\n",
              "      const quickchartButtonEl =\n",
              "        document.querySelector('#' + key + ' button');\n",
              "      quickchartButtonEl.disabled = true;  // To prevent multiple clicks.\n",
              "      quickchartButtonEl.classList.add('colab-df-spinner');\n",
              "      try {\n",
              "        const charts = await google.colab.kernel.invokeFunction(\n",
              "            'suggestCharts', [key], {});\n",
              "      } catch (error) {\n",
              "        console.error('Error during call to suggestCharts:', error);\n",
              "      }\n",
              "      quickchartButtonEl.classList.remove('colab-df-spinner');\n",
              "      quickchartButtonEl.classList.add('colab-df-quickchart-complete');\n",
              "    }\n",
              "    (() => {\n",
              "      let quickchartButtonEl =\n",
              "        document.querySelector('#df-6ff32380-d04d-4709-9472-f2db1a31313e button');\n",
              "      quickchartButtonEl.style.display =\n",
              "        google.colab.kernel.accessAllowed ? 'block' : 'none';\n",
              "    })();\n",
              "  </script>\n",
              "</div>\n",
              "\n",
              "    </div>\n",
              "  </div>\n"
            ],
            "application/vnd.google.colaboratory.intrinsic+json": {
              "type": "dataframe",
              "variable_name": "entidades_camara"
            }
          },
          "metadata": {},
          "execution_count": 20
        }
      ]
    },
    {
      "cell_type": "code",
      "source": [
        "entidades_camara.head(3)"
      ],
      "metadata": {
        "id": "qhNQF5skS6yQ"
      },
      "execution_count": null,
      "outputs": []
    },
    {
      "cell_type": "code",
      "source": [
        "entidades_camara.info()"
      ],
      "metadata": {
        "id": "9JqleNKOTMGm",
        "outputId": "841f59d5-587e-42c8-d591-eb1be3937d92",
        "colab": {
          "base_uri": "https://localhost:8080/"
        }
      },
      "execution_count": 23,
      "outputs": [
        {
          "output_type": "stream",
          "name": "stdout",
          "text": [
            "<class 'pandas.core.frame.DataFrame'>\n",
            "RangeIndex: 185495 entries, 0 to 185494\n",
            "Data columns (total 26 columns):\n",
            " #   Column                        Non-Null Count   Dtype  \n",
            "---  ------                        --------------   -----  \n",
            " 0   Matrícula                     185495 non-null  float64\n",
            " 1   Indicador                     185495 non-null  object \n",
            " 2   Período                       185495 non-null  object \n",
            " 3   Año                           185495 non-null  int64  \n",
            " 4   Organización Jurídica         185495 non-null  object \n",
            " 5   Tamaño                        185494 non-null  object \n",
            " 6   Sector                        185495 non-null  object \n",
            " 7   Sección Actividad Económica   185495 non-null  object \n",
            " 8   CIIU                          185495 non-null  object \n",
            " 9   Cantidad de Establecimientos  185494 non-null  float64\n",
            " 10  Personal Ocupado              185494 non-null  float64\n",
            " 11  Importador Exportador         185145 non-null  object \n",
            " 12  Categoría                     185494 non-null  object \n",
            " 13  Macrosector                   140401 non-null  object \n",
            " 14  Especialización Inteligente   119212 non-null  object \n",
            " 15  Iniciativa Clúster            89875 non-null   object \n",
            " 16  País                          185494 non-null  object \n",
            " 17  Departamento                  185494 non-null  object \n",
            " 18  Municipio                     185494 non-null  object \n",
            " 19  Localidad                     173192 non-null  object \n",
            " 20  Barrio                        171792 non-null  object \n",
            " 21  Cantidad Total                185494 non-null  float64\n",
            " 22  Total Valor Activos           185494 non-null  float64\n",
            " 23  Total Valor Pasivos           185494 non-null  float64\n",
            " 24  Total Valor Patrimonio        185494 non-null  float64\n",
            " 25  Total Valor Ventas Netas      39958 non-null   float64\n",
            "dtypes: float64(8), int64(1), object(17)\n",
            "memory usage: 36.8+ MB\n"
          ]
        }
      ]
    },
    {
      "cell_type": "markdown",
      "source": [
        "Tenga en cuaneta si la cantidad de filas que pegaron tiene sentido."
      ],
      "metadata": {
        "id": "9Fxc0pLrThsE"
      }
    },
    {
      "cell_type": "markdown",
      "source": [
        "### Gráficos\n",
        "\n",
        "Para elaborar el análisis gráfico, se le sugiere un procedimiento tipo *drill down*.\n",
        "\n",
        "Esto es:</br>\n",
        "1) Formalizamos estadísticamente la pregunta de negocio</br>\n",
        "2) Hacemos visualizaciones univariadas</br>\n",
        "3) Hacemos visualizaciones cruzadas"
      ],
      "metadata": {
        "id": "HLYO2sf_Rncg"
      }
    },
    {
      "cell_type": "markdown",
      "source": [
        "Primero hagamos un par de procedimientos de referencia. Primero, veamos la distribución de las ventas netas por tipo de organización jurídica. Eso nos da una idea de qué magnitud tienen los valores."
      ],
      "metadata": {
        "id": "tdlapsVNRwLb"
      }
    },
    {
      "cell_type": "code",
      "source": [
        "# Este estilo de gráfica queremos lograr (recuerden poner los archivos de imágen en la carpeta sample_data)\n",
        "g1 = cv2.imread('sample_data/g1.png',1)\n",
        "plt.imshow(g1)\n",
        "plt.axis(\"off\")\n",
        "plt.show()"
      ],
      "metadata": {
        "id": "2Ubig7hZ5-P9",
        "outputId": "b3650dc9-c371-4bb2-dfa6-29e7167f3ba0",
        "colab": {
          "base_uri": "https://localhost:8080/",
          "height": 380
        }
      },
      "execution_count": 30,
      "outputs": [
        {
          "output_type": "display_data",
          "data": {
            "text/plain": [
              "<Figure size 640x480 with 1 Axes>"
            ],
            "image/png": "[encoded data removed]"
          },
          "metadata": {}
        }
      ]
    },
    {
      "cell_type": "code",
      "source": [
        "sns.boxplot(x=\"Organización Jurídica\", y=\"Total Valor Ventas Netas\", data=entidades_camara)\n",
        "plt.xticks(rotation=90)"
      ],
      "metadata": {
        "id": "unC8plUQRqe_",
        "outputId": "b5368669-9126-43c3-9785-de73ffd37503",
        "colab": {
          "base_uri": "https://localhost:8080/",
          "height": 906
        }
      },
      "execution_count": 31,
      "outputs": [
        {
          "output_type": "execute_result",
          "data": {
            "text/plain": [
              "([0, 1, 2, 3, 4, 5, 6, 7, 8, 9, 10],\n",
              " [Text(0, 0, 'Sociedad por Acciones Simplificada'),\n",
              "  Text(1, 0, 'Persona Natural'),\n",
              "  Text(2, 0, 'Limitada'),\n",
              "  Text(3, 0, 'Empresa unipersonal'),\n",
              "  Text(4, 0, 'Anonima'),\n",
              "  Text(5, 0, 'Comandita Simple'),\n",
              "  Text(6, 0, 'Extranjera'),\n",
              "  Text(7, 0, 'Empresa Asociativa de trabajo'),\n",
              "  Text(8, 0, 'Comandita por acciones'),\n",
              "  Text(9, 0, 'Colectiva'),\n",
              "  Text(10, 0, 'Empresa industrial y Cial del est')])"
            ]
          },
          "metadata": {},
          "execution_count": 31
        },
        {
          "output_type": "display_data",
          "data": {
            "text/plain": [
              "<Figure size 640x480 with 1 Axes>"
            ],
            "image/png": "[encoded data removed]"
          },
          "metadata": {}
        }
      ]
    },
    {
      "cell_type": "markdown",
      "source": [
        "**Como tenemos unos datos muy altos, parecen muy atípicos. Lo mejor es filtrar por tamaño de empresa. Y podemos no considerar valores atípicos.**"
      ],
      "metadata": {
        "id": "zVnBFAkiUKzp"
      }
    },
    {
      "cell_type": "markdown",
      "source": [
        "#### Ejercicio 5\n",
        "Lea y modifique el siguiente código para observar empresas grandes en el gráfico."
      ],
      "metadata": {
        "id": "poXudu508lJ0"
      }
    },
    {
      "cell_type": "code",
      "source": [
        "# Le podemos cambiar el tamaño al que queramos\n",
        "tamanio1 = entidades_camara['Tamaño'] == 'Microempresas'\n",
        "tamanio2 = entidades_camara['Tamaño'] == 'Pequeñas'\n",
        "tamanio3 = entidades_camara['Tamaño'] == 'Medianas'\n",
        "tamanio4 = entidades_camara['Tamaño'] == 'Grandes'\n",
        "\n",
        "micro = sns.boxplot(x=\"Organización Jurídica\", y=\" Valor Ventas Netas\", data=entidades_camara[tamanio1], showfliers=False)\n",
        "plt.xticks(rotation=90)\n",
        "plt.title('Distribución de ventas de Microempresas por tipo de persona jurídica')Total"
      ],
      "metadata": {
        "id": "gw5cOY22UlkH",
        "outputId": "83732108-ff95-4231-9fb7-d7c9563a652d",
        "colab": {
          "base_uri": "https://localhost:8080/",
          "height": 737
        }
      },
      "execution_count": 32,
      "outputs": [
        {
          "output_type": "execute_result",
          "data": {
            "text/plain": [
              "Text(0.5, 1.0, 'Distribución de ventas de Microempresas por tipo de persona jurídica')"
            ]
          },
          "metadata": {},
          "execution_count": 32
        },
        {
          "output_type": "display_data",
          "data": {
            "text/plain": [
              "<Figure size 640x480 with 1 Axes>"
            ],
            "image/png": "[encoded data removed]"
          },
          "metadata": {}
        }
      ]
    },
    {
      "cell_type": "markdown",
      "source": [
        "### Drill down\n"
      ],
      "metadata": {
        "id": "AqIv7rEjAE2P"
      }
    },
    {
      "cell_type": "markdown",
      "source": [
        "Vamos a jugar principalmente con:\n",
        "\n",
        "* Tamaño de empreas\n",
        "* Tipo de organización jurídica\n",
        "* Total de ventas\n",
        "\n",
        "Primero identificamos cuántas empresas se encuentran en cada categoría de las vairables categóricas:"
      ],
      "metadata": {
        "id": "lTaYHhusAPRs"
      }
    },
    {
      "cell_type": "code",
      "source": [
        "# Número de empresas en cada tamaño\n",
        "entidades_camara['Tamaño'].value_counts()"
      ],
      "metadata": {
        "id": "HvIuKHl8WLI9",
        "outputId": "405d9e1d-08e7-49ee-f57a-81e10c4083ba",
        "colab": {
          "base_uri": "https://localhost:8080/"
        }
      },
      "execution_count": 33,
      "outputs": [
        {
          "output_type": "execute_result",
          "data": {
            "text/plain": [
              "Tamaño\n",
              "Microempresas    171836\n",
              "Pequeñas          11839\n",
              "Medianas           1566\n",
              "Grandes             253\n",
              "Name: count, dtype: int64"
            ]
          },
          "metadata": {},
          "execution_count": 33
        }
      ]
    },
    {
      "cell_type": "code",
      "source": [
        "# EJERCICIO OPCIONAL: Calcule el número de empresas en cada categoría de organización jurídica inspirándose en la celda anterior\n",
        "entidades_camara['Categoría'].value_counts()"
      ],
      "metadata": {
        "id": "7KHnsifOAnZu",
        "outputId": "88218233-4038-40b6-8c77-d5466d324254",
        "colab": {
          "base_uri": "https://localhost:8080/"
        }
      },
      "execution_count": 34,
      "outputs": [
        {
          "output_type": "execute_result",
          "data": {
            "text/plain": [
              "Categoría\n",
              "Principal    128104\n",
              "Sin Categ     56737\n",
              "Agencia         383\n",
              "Sucursal        270\n",
              "Name: count, dtype: int64"
            ]
          },
          "metadata": {},
          "execution_count": 34
        }
      ]
    },
    {
      "cell_type": "markdown",
      "source": [
        "Ahora calculamos el total de las ventas netas de todas las empresas, para tener una magnitud superior contra la cual comparar los valores."
      ],
      "metadata": {
        "id": "33Er5AJWtBgy"
      }
    },
    {
      "cell_type": "code",
      "source": [
        "# Total de referencia de ventas netas\n",
        "camara_financiera['Total Valor Ventas Netas'].sum()"
      ],
      "metadata": {
        "id": "k3glcszig-D0",
        "outputId": "fbdc9109-0685-4484-bba9-cdc05b5c4534",
        "colab": {
          "base_uri": "https://localhost:8080/"
        }
      },
      "execution_count": 35,
      "outputs": [
        {
          "output_type": "execute_result",
          "data": {
            "text/plain": [
              "36170217581191.0"
            ]
          },
          "metadata": {},
          "execution_count": 35
        }
      ]
    },
    {
      "cell_type": "markdown",
      "source": [
        "### Gráficos por grupos\n",
        "Ahora comencemos a elaborar un par de gráficos de ventas netas por cada variable categórica:"
      ],
      "metadata": {
        "id": "EJVXDE5LBNR4"
      }
    },
    {
      "cell_type": "code",
      "source": [
        "# Este estilo de gráfica queremos lograr (recuerden poner los archivos de imágen en la carpeta sample_data)\n",
        "g1 = cv2.imread('sample_data/g3.png',1)\n",
        "plt.imshow(g1)\n",
        "plt.axis(\"off\")\n",
        "plt.show()"
      ],
      "metadata": {
        "id": "S4bvlb2EBMLg",
        "outputId": "16e5691c-d647-44b0-912d-fe4d09d5a626",
        "colab": {
          "base_uri": "https://localhost:8080/",
          "height": 380
        }
      },
      "execution_count": 28,
      "outputs": [
        {
          "output_type": "display_data",
          "data": {
            "text/plain": [
              "<Figure size 640x480 with 1 Axes>"
            ],
            "image/png": "[encoded data removed]"
          },
          "metadata": {}
        }
      ]
    },
    {
      "cell_type": "code",
      "source": [
        "# Agrupamos por Tamaño univariadamente para lograr esta gráfica, y calculamos la suma de ventas netas, y la cuenta de empresas en cada grupo\n",
        "entidades_camara_T = entidades_camara.groupby('Tamaño').agg({'Total Valor Ventas Netas': 'sum','Matrícula':'count'}).reset_index()\n",
        "entidades_camara_T = entidades_camara_T.rename(columns={'Matrícula': 'Empresas'})\n",
        "entidades_camara_T = entidades_camara_T.sort_values('Total Valor Ventas Netas',ascending=False)"
      ],
      "metadata": {
        "id": "ONjTbp4QhTvQ"
      },
      "execution_count": 36,
      "outputs": []
    },
    {
      "cell_type": "code",
      "source": [
        "entidades_camara_T.head()"
      ],
      "metadata": {
        "id": "ceWZ3cNal67N",
        "outputId": "0d05c010-7103-46d4-c49d-8b5d93ff2bb5",
        "colab": {
          "base_uri": "https://localhost:8080/",
          "height": 175
        }
      },
      "execution_count": 37,
      "outputs": [
        {
          "output_type": "execute_result",
          "data": {
            "text/plain": [
              "          Tamaño  Total Valor Ventas Netas  Empresas\n",
              "3       Pequeñas              1.669590e+13     11839\n",
              "0        Grandes              9.840931e+12       253\n",
              "2  Microempresas              5.739420e+12    171836\n",
              "1       Medianas              3.893970e+12      1566"
            ],
            "text/html": [
              "\n",
              "  <div id=\"df-7889230f-3d99-4a9b-88a9-a51db76c8f67\" class=\"colab-df-container\">\n",
              "    <div>\n",
              "<style scoped>\n",
              "    .dataframe tbody tr th:only-of-type {\n",
              "        vertical-align: middle;\n",
              "    }\n",
              "\n",
              "    .dataframe tbody tr th {\n",
              "        vertical-align: top;\n",
              "    }\n",
              "\n",
              "    .dataframe thead th {\n",
              "        text-align: right;\n",
              "    }\n",
              "</style>\n",
              "<table border=\"1\" class=\"dataframe\">\n",
              "  <thead>\n",
              "    <tr style=\"text-align: right;\">\n",
              "      <th></th>\n",
              "      <th>Tamaño</th>\n",
              "      <th>Total Valor Ventas Netas</th>\n",
              "      <th>Empresas</th>\n",
              "    </tr>\n",
              "  </thead>\n",
              "  <tbody>\n",
              "    <tr>\n",
              "      <th>3</th>\n",
              "      <td>Pequeñas</td>\n",
              "      <td>1.669590e+13</td>\n",
              "      <td>11839</td>\n",
              "    </tr>\n",
              "    <tr>\n",
              "      <th>0</th>\n",
              "      <td>Grandes</td>\n",
              "      <td>9.840931e+12</td>\n",
              "      <td>253</td>\n",
              "    </tr>\n",
              "    <tr>\n",
              "      <th>2</th>\n",
              "      <td>Microempresas</td>\n",
              "      <td>5.739420e+12</td>\n",
              "      <td>171836</td>\n",
              "    </tr>\n",
              "    <tr>\n",
              "      <th>1</th>\n",
              "      <td>Medianas</td>\n",
              "      <td>3.893970e+12</td>\n",
              "      <td>1566</td>\n",
              "    </tr>\n",
              "  </tbody>\n",
              "</table>\n",
              "</div>\n",
              "    <div class=\"colab-df-buttons\">\n",
              "\n",
              "  <div class=\"colab-df-container\">\n",
              "    <button class=\"colab-df-convert\" onclick=\"convertToInteractive('df-7889230f-3d99-4a9b-88a9-a51db76c8f67')\"\n",
              "            title=\"Convert this dataframe to an interactive table.\"\n",
              "            style=\"display:none;\">\n",
              "\n",
              "  <svg xmlns=\"http://www.w3.org/2000/svg\" height=\"24px\" viewBox=\"0 -960 960 960\">\n",
              "    <path d=\"M120-120v-720h720v720H120Zm60-500h600v-160H180v160Zm220 220h160v-160H400v160Zm0 220h160v-160H400v160ZM180-400h160v-160H180v160Zm440 0h160v-160H620v160ZM180-180h160v-160H180v160Zm440 0h160v-160H620v160Z\"/>\n",
              "  </svg>\n",
              "    </button>\n",
              "\n",
              "  <style>\n",
              "    .colab-df-container {\n",
              "      display:flex;\n",
              "      gap: 12px;\n",
              "    }\n",
              "\n",
              "    .colab-df-convert {\n",
              "      background-color: #E8F0FE;\n",
              "      border: none;\n",
              "      border-radius: 50%;\n",
              "      cursor: pointer;\n",
              "      display: none;\n",
              "      fill: #1967D2;\n",
              "      height: 32px;\n",
              "      padding: 0 0 0 0;\n",
              "      width: 32px;\n",
              "    }\n",
              "\n",
              "    .colab-df-convert:hover {\n",
              "      background-color: #E2EBFA;\n",
              "      box-shadow: 0px 1px 2px rgba(60, 64, 67, 0.3), 0px 1px 3px 1px rgba(60, 64, 67, 0.15);\n",
              "      fill: #174EA6;\n",
              "    }\n",
              "\n",
              "    .colab-df-buttons div {\n",
              "      margin-bottom: 4px;\n",
              "    }\n",
              "\n",
              "    [theme=dark] .colab-df-convert {\n",
              "      background-color: #3B4455;\n",
              "      fill: #D2E3FC;\n",
              "    }\n",
              "\n",
              "    [theme=dark] .colab-df-convert:hover {\n",
              "      background-color: #434B5C;\n",
              "      box-shadow: 0px 1px 3px 1px rgba(0, 0, 0, 0.15);\n",
              "      filter: drop-shadow(0px 1px 2px rgba(0, 0, 0, 0.3));\n",
              "      fill: #FFFFFF;\n",
              "    }\n",
              "  </style>\n",
              "\n",
              "    <script>\n",
              "      const buttonEl =\n",
              "        document.querySelector('#df-7889230f-3d99-4a9b-88a9-a51db76c8f67 button.colab-df-convert');\n",
              "      buttonEl.style.display =\n",
              "        google.colab.kernel.accessAllowed ? 'block' : 'none';\n",
              "\n",
              "      async function convertToInteractive(key) {\n",
              "        const element = document.querySelector('#df-7889230f-3d99-4a9b-88a9-a51db76c8f67');\n",
              "        const dataTable =\n",
              "          await google.colab.kernel.invokeFunction('convertToInteractive',\n",
              "                                                    [key], {});\n",
              "        if (!dataTable) return;\n",
              "\n",
              "        const docLinkHtml = 'Like what you see? Visit the ' +\n",
              "          '<a target=\"_blank\" href=https://colab.research.google.com/notebooks/data_table.ipynb>data table notebook</a>'\n",
              "          + ' to learn more about interactive tables.';\n",
              "        element.innerHTML = '';\n",
              "        dataTable['output_type'] = 'display_data';\n",
              "        await google.colab.output.renderOutput(dataTable, element);\n",
              "        const docLink = document.createElement('div');\n",
              "        docLink.innerHTML = docLinkHtml;\n",
              "        element.appendChild(docLink);\n",
              "      }\n",
              "    </script>\n",
              "  </div>\n",
              "\n",
              "\n",
              "<div id=\"df-6eeb2fd5-ef51-4556-8513-d3e2941fb51a\">\n",
              "  <button class=\"colab-df-quickchart\" onclick=\"quickchart('df-6eeb2fd5-ef51-4556-8513-d3e2941fb51a')\"\n",
              "            title=\"Suggest charts\"\n",
              "            style=\"display:none;\">\n",
              "\n",
              "<svg xmlns=\"http://www.w3.org/2000/svg\" height=\"24px\"viewBox=\"0 0 24 24\"\n",
              "     width=\"24px\">\n",
              "    <g>\n",
              "        <path d=\"M19 3H5c-1.1 0-2 .9-2 2v14c0 1.1.9 2 2 2h14c1.1 0 2-.9 2-2V5c0-1.1-.9-2-2-2zM9 17H7v-7h2v7zm4 0h-2V7h2v10zm4 0h-2v-4h2v4z\"/>\n",
              "    </g>\n",
              "</svg>\n",
              "  </button>\n",
              "\n",
              "<style>\n",
              "  .colab-df-quickchart {\n",
              "      --bg-color: #E8F0FE;\n",
              "      --fill-color: #1967D2;\n",
              "      --hover-bg-color: #E2EBFA;\n",
              "      --hover-fill-color: #174EA6;\n",
              "      --disabled-fill-color: #AAA;\n",
              "      --disabled-bg-color: #DDD;\n",
              "  }\n",
              "\n",
              "  [theme=dark] .colab-df-quickchart {\n",
              "      --bg-color: #3B4455;\n",
              "      --fill-color: #D2E3FC;\n",
              "      --hover-bg-color: #434B5C;\n",
              "      --hover-fill-color: #FFFFFF;\n",
              "      --disabled-bg-color: #3B4455;\n",
              "      --disabled-fill-color: #666;\n",
              "  }\n",
              "\n",
              "  .colab-df-quickchart {\n",
              "    background-color: var(--bg-color);\n",
              "    border: none;\n",
              "    border-radius: 50%;\n",
              "    cursor: pointer;\n",
              "    display: none;\n",
              "    fill: var(--fill-color);\n",
              "    height: 32px;\n",
              "    padding: 0;\n",
              "    width: 32px;\n",
              "  }\n",
              "\n",
              "  .colab-df-quickchart:hover {\n",
              "    background-color: var(--hover-bg-color);\n",
              "    box-shadow: 0 1px 2px rgba(60, 64, 67, 0.3), 0 1px 3px 1px rgba(60, 64, 67, 0.15);\n",
              "    fill: var(--button-hover-fill-color);\n",
              "  }\n",
              "\n",
              "  .colab-df-quickchart-complete:disabled,\n",
              "  .colab-df-quickchart-complete:disabled:hover {\n",
              "    background-color: var(--disabled-bg-color);\n",
              "    fill: var(--disabled-fill-color);\n",
              "    box-shadow: none;\n",
              "  }\n",
              "\n",
              "  .colab-df-spinner {\n",
              "    border: 2px solid var(--fill-color);\n",
              "    border-color: transparent;\n",
              "    border-bottom-color: var(--fill-color);\n",
              "    animation:\n",
              "      spin 1s steps(1) infinite;\n",
              "  }\n",
              "\n",
              "  @keyframes spin {\n",
              "    0% {\n",
              "      border-color: transparent;\n",
              "      border-bottom-color: var(--fill-color);\n",
              "      border-left-color: var(--fill-color);\n",
              "    }\n",
              "    20% {\n",
              "      border-color: transparent;\n",
              "      border-left-color: var(--fill-color);\n",
              "      border-top-color: var(--fill-color);\n",
              "    }\n",
              "    30% {\n",
              "      border-color: transparent;\n",
              "      border-left-color: var(--fill-color);\n",
              "      border-top-color: var(--fill-color);\n",
              "      border-right-color: var(--fill-color);\n",
              "    }\n",
              "    40% {\n",
              "      border-color: transparent;\n",
              "      border-right-color: var(--fill-color);\n",
              "      border-top-color: var(--fill-color);\n",
              "    }\n",
              "    60% {\n",
              "      border-color: transparent;\n",
              "      border-right-color: var(--fill-color);\n",
              "    }\n",
              "    80% {\n",
              "      border-color: transparent;\n",
              "      border-right-color: var(--fill-color);\n",
              "      border-bottom-color: var(--fill-color);\n",
              "    }\n",
              "    90% {\n",
              "      border-color: transparent;\n",
              "      border-bottom-color: var(--fill-color);\n",
              "    }\n",
              "  }\n",
              "</style>\n",
              "\n",
              "  <script>\n",
              "    async function quickchart(key) {\n",
              "      const quickchartButtonEl =\n",
              "        document.querySelector('#' + key + ' button');\n",
              "      quickchartButtonEl.disabled = true;  // To prevent multiple clicks.\n",
              "      quickchartButtonEl.classList.add('colab-df-spinner');\n",
              "      try {\n",
              "        const charts = await google.colab.kernel.invokeFunction(\n",
              "            'suggestCharts', [key], {});\n",
              "      } catch (error) {\n",
              "        console.error('Error during call to suggestCharts:', error);\n",
              "      }\n",
              "      quickchartButtonEl.classList.remove('colab-df-spinner');\n",
              "      quickchartButtonEl.classList.add('colab-df-quickchart-complete');\n",
              "    }\n",
              "    (() => {\n",
              "      let quickchartButtonEl =\n",
              "        document.querySelector('#df-6eeb2fd5-ef51-4556-8513-d3e2941fb51a button');\n",
              "      quickchartButtonEl.style.display =\n",
              "        google.colab.kernel.accessAllowed ? 'block' : 'none';\n",
              "    })();\n",
              "  </script>\n",
              "</div>\n",
              "\n",
              "    </div>\n",
              "  </div>\n"
            ],
            "application/vnd.google.colaboratory.intrinsic+json": {
              "type": "dataframe",
              "variable_name": "entidades_camara_T",
              "summary": "{\n  \"name\": \"entidades_camara_T\",\n  \"rows\": 4,\n  \"fields\": [\n    {\n      \"column\": \"Tama\\u00f1o\",\n      \"properties\": {\n        \"dtype\": \"string\",\n        \"num_unique_values\": 4,\n        \"samples\": [\n          \"Grandes\",\n          \"Medianas\",\n          \"Peque\\u00f1as\"\n        ],\n        \"semantic_type\": \"\",\n        \"description\": \"\"\n      }\n    },\n    {\n      \"column\": \"Total Valor Ventas Netas\",\n      \"properties\": {\n        \"dtype\": \"number\",\n        \"std\": 5675375605661.943,\n        \"min\": 3893969781865.0,\n        \"max\": 16695896160771.0,\n        \"num_unique_values\": 4,\n        \"samples\": [\n          9840931399529.0,\n          3893969781865.0,\n          16695896160771.0\n        ],\n        \"semantic_type\": \"\",\n        \"description\": \"\"\n      }\n    },\n    {\n      \"column\": \"Empresas\",\n      \"properties\": {\n        \"dtype\": \"number\",\n        \"std\": 83801,\n        \"min\": 253,\n        \"max\": 171836,\n        \"num_unique_values\": 4,\n        \"samples\": [\n          253,\n          1566,\n          11839\n        ],\n        \"semantic_type\": \"\",\n        \"description\": \"\"\n      }\n    }\n  ]\n}"
            }
          },
          "metadata": {},
          "execution_count": 37
        }
      ]
    },
    {
      "cell_type": "code",
      "source": [
        "sns.barplot(y='Tamaño',x='Total Valor Ventas Netas',data=entidades_camara_T).set(title = \"Composición de las ventas por tipo de empresa\")"
      ],
      "metadata": {
        "id": "KnHMe9Uolhr6",
        "collapsed": true,
        "outputId": "be15335a-4a7a-4748-d99b-a0d6c8f37dc3",
        "colab": {
          "base_uri": "https://localhost:8080/",
          "height": 489
        }
      },
      "execution_count": 38,
      "outputs": [
        {
          "output_type": "execute_result",
          "data": {
            "text/plain": [
              "[Text(0.5, 1.0, 'Composición de las ventas por tipo de empresa')]"
            ]
          },
          "metadata": {},
          "execution_count": 38
        },
        {
          "output_type": "display_data",
          "data": {
            "text/plain": [
              "<Figure size 640x480 with 1 Axes>"
            ],
            "image/png": "[encoded data removed]"
          },
          "metadata": {}
        }
      ]
    },
    {
      "cell_type": "markdown",
      "source": [
        "#### Ejercicio 6\n",
        "Elabore el siguiente gráfico para continuar el análisis.\n",
        "Puede inspirarse en el algoritmo del anterior."
      ],
      "metadata": {
        "id": "_dNwK_OTh7mi"
      }
    },
    {
      "cell_type": "code",
      "source": [
        "# Este estilo de gráfica queremos lograr (recuerden poner los archivos de imágen en la carpeta sample_data)\n",
        "g1 = cv2.imread('sample_data/g2.png',1)\n",
        "plt.imshow(g1)\n",
        "plt.axis(\"off\")\n",
        "plt.show()"
      ],
      "metadata": {
        "id": "Ibu9tyqKC4vx",
        "outputId": "ef14345f-7cd2-42cc-cdd9-97911e5f2555",
        "colab": {
          "base_uri": "https://localhost:8080/",
          "height": 380
        }
      },
      "execution_count": 40,
      "outputs": [
        {
          "output_type": "display_data",
          "data": {
            "text/plain": [
              "<Figure size 640x480 with 1 Axes>"
            ],
            "image/png": "[encoded data removed]"
          },
          "metadata": {}
        }
      ]
    },
    {
      "cell_type": "code",
      "source": [
        "# Grupos univariados por organización jurídica EJERCICIO\n",
        "org_juridica = entidades_camara.groupby('Organización Jurídica').agg({'Total Valor Ventas Netas': 'sum','Matrícula':'count'}).reset_index()\n",
        "org_juridica = org_juridica.rename(columns={'Matrícula': 'Tipo de Organización Juridica'})\n",
        "org_juridica = org_juridica.sort_values('Total Valor Ventas Netas',ascending=False)"
      ],
      "metadata": {
        "id": "GdIG5lbvn5o9"
      },
      "execution_count": 42,
      "outputs": []
    },
    {
      "cell_type": "code",
      "source": [
        "# EJERCICIO: gráfico\n",
        "sns.barplot(y='Organización Jurídica',x='Total Valor Ventas Netas',data=org_juridica).set(title = \"Composición de las ventas por Organización Juridica\")"
      ],
      "metadata": {
        "id": "4iz31TvwoSMm",
        "outputId": "29929243-b5f4-4be7-dc1c-15fd2366111e",
        "colab": {
          "base_uri": "https://localhost:8080/",
          "height": 489
        }
      },
      "execution_count": 43,
      "outputs": [
        {
          "output_type": "execute_result",
          "data": {
            "text/plain": [
              "[Text(0.5, 1.0, 'Composición de las ventas por Organización Juridica')]"
            ]
          },
          "metadata": {},
          "execution_count": 43
        },
        {
          "output_type": "display_data",
          "data": {
            "text/plain": [
              "<Figure size 640x480 with 1 Axes>"
            ],
            "image/png": "[encoded data removed]"
          },
          "metadata": {}
        }
      ]
    },
    {
      "cell_type": "markdown",
      "source": [
        "#### Ejercicio 7\n",
        "Finalmente combinamos los grupos para lograr una gráfica como la siguiente:"
      ],
      "metadata": {
        "id": "yIo2wFd2DZZZ"
      }
    },
    {
      "cell_type": "code",
      "source": [
        "# Este estilo de gráfica queremos lograr (recuerden poner los archivos de imágen en la carpeta sample_data)\n",
        "g1 = cv2.imread('sample_data/g4.png',1)\n",
        "plt.imshow(g1)\n",
        "plt.axis(\"off\")\n",
        "plt.show()"
      ],
      "metadata": {
        "id": "N5lKh8a1DgAB",
        "outputId": "0330109d-8c77-4404-e25d-eb0e6577f08a",
        "colab": {
          "base_uri": "https://localhost:8080/",
          "height": 380
        }
      },
      "execution_count": 45,
      "outputs": [
        {
          "output_type": "display_data",
          "data": {
            "text/plain": [
              "<Figure size 640x480 with 1 Axes>"
            ],
            "image/png": "[encoded data removed]"
          },
          "metadata": {}
        }
      ]
    },
    {
      "cell_type": "code",
      "source": [
        "# Y ahora las combinamos, tenga en cuenta que ahora al groupby le proporcionamos una lista de dos columnas\n",
        "\n",
        "org_juridica_tamaño = entidades_camara.groupby(['Organización Jurídica', 'Tamaño']).agg({'Total Valor Ventas Netas': 'sum','Matrícula':'count'}).reset_index()\n",
        "org_juridica_tamaño = org_juridica_tamaño.rename(columns={'Matrícula': 'Tipo Organizacion Juridica'})\n",
        "org_juridica_tamaño = org_juridica_tamaño.sort_values('Total Valor Ventas Netas',ascending=False)"
      ],
      "metadata": {
        "id": "ETNK2OeIoemX"
      },
      "execution_count": 47,
      "outputs": []
    },
    {
      "cell_type": "code",
      "source": [
        "sns.barplot(y='Organización Jurídica',\n",
        "            x='Total Valor Ventas Netas',\n",
        "            hue='Tamaño',\n",
        "            data = org_juridica_tamaño\n",
        "            ).set(title = \"Composición de las ventas por Organización Juridica y tamaño\")"
      ],
      "metadata": {
        "id": "TMKz6N7bH81x",
        "outputId": "47b4dfbd-822a-4b9f-97d5-3ae37f8e4a6b",
        "colab": {
          "base_uri": "https://localhost:8080/",
          "height": 489
        }
      },
      "execution_count": 54,
      "outputs": [
        {
          "output_type": "execute_result",
          "data": {
            "text/plain": [
              "[Text(0.5, 1.0, 'Composición de las ventas por Organización Juridica y tamaño')]"
            ]
          },
          "metadata": {},
          "execution_count": 54
        },
        {
          "output_type": "display_data",
          "data": {
            "text/plain": [
              "<Figure size 640x480 with 1 Axes>"
            ],
            "image/png": "[encoded data removed]"
          },
          "metadata": {}
        }
      ]
    },
    {
      "cell_type": "markdown",
      "source": [
        "## Recomendaciones\n",
        "*(Recuerde la pregunta de negocio original y formule sus recomendaciones a continuación)*"
      ],
      "metadata": {
        "id": "8pipxjN637YK"
      }
    },
    {
      "cell_type": "markdown",
      "source": [],
      "metadata": {
        "id": "_hWkJ3UV39Cw"
      }
    }
  ]
}