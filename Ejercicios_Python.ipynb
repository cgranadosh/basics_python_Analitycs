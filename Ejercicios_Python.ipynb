{
  "cells": [
    {
      "cell_type": "markdown",
      "metadata": {
        "id": "view-in-github",
        "colab_type": "text"
      },
      "source": [
        "<a href=\"https://colab.research.google.com/github/cgranadosh/basics_python_Analitycs/blob/main/Ejercicios_Python.ipynb\" target=\"_parent\"><img src=\"https://colab.research.google.com/assets/colab-badge.svg\" alt=\"Open In Colab\"/></a>"
      ]
    },
    {
      "cell_type": "markdown",
      "id": "36175047",
      "metadata": {
        "id": "36175047"
      },
      "source": [
        "# Nivel Básico"
      ]
    },
    {
      "cell_type": "markdown",
      "id": "df29c7f0",
      "metadata": {
        "id": "df29c7f0"
      },
      "source": [
        "## Ejercicio 1: Sumar dos números\n",
        "- Descripción: Escribe una función que tome dos números como parámetros y devuelva su suma.\n",
        "- Parámetros: a (int), b (int)\n",
        "- Retorno: La suma de a y b (int).\n",
        "- Ejemplo: sumar(2, 3) retorna 5."
      ]
    },
    {
      "cell_type": "code",
      "execution_count": null,
      "id": "4234cf47",
      "metadata": {
        "vscode": {
          "languageId": "plaintext"
        },
        "id": "4234cf47"
      },
      "outputs": [],
      "source": []
    },
    {
      "cell_type": "markdown",
      "id": "d6070b1f",
      "metadata": {
        "id": "d6070b1f"
      },
      "source": [
        "## Ejercicio 2: Verificar si es par\n",
        "- Descripción: Escribe una función que determine si un número es par o no.\n",
        "- Parámetros: numero (int)\n",
        "- Retorno: True si el número es par, de lo contrario False.\n",
        "- Ejemplo: es_par(4) retorna True."
      ]
    },
    {
      "cell_type": "code",
      "execution_count": null,
      "id": "4b0844df",
      "metadata": {
        "vscode": {
          "languageId": "plaintext"
        },
        "id": "4b0844df",
        "outputId": "08e9d7e6-45e1-4e7c-a293-f3f6792ca171",
        "colab": {
          "base_uri": "https://localhost:8080/"
        }
      },
      "outputs": [
        {
          "output_type": "execute_result",
          "data": {
            "text/plain": [
              "True"
            ]
          },
          "metadata": {},
          "execution_count": 3
        }
      ],
      "source": [
        "import operator as op\n",
        "\n",
        "def es_par(num):\n",
        "  if op.imod(num, 2) == 0:\n",
        "    return True\n",
        "  else:\n",
        "    return False\n",
        "\n",
        "es_par(12356480)\n",
        "\n"
      ]
    },
    {
      "cell_type": "markdown",
      "id": "827b4baf",
      "metadata": {
        "id": "827b4baf"
      },
      "source": [
        "## Ejercicio 3: Contar vocales\n",
        "- Descripción: Escribe una función que cuente el número de vocales en una cadena de texto.\n",
        "- Parámetros: texto (str)\n",
        "- Retorno: Número de vocales en el texto (int).\n",
        "- Ejemplo: contar_vocales(\"hola\") retorna 2."
      ]
    },
    {
      "cell_type": "code",
      "execution_count": 62,
      "id": "cd0ca17d",
      "metadata": {
        "vscode": {
          "languageId": "plaintext"
        },
        "id": "cd0ca17d",
        "outputId": "9ed87b41-fcfb-480f-dd0e-6a6025dd7532",
        "colab": {
          "base_uri": "https://localhost:8080/"
        }
      },
      "outputs": [
        {
          "output_type": "execute_result",
          "data": {
            "text/plain": [
              "{'a': 2, 'e': 2, 'i': 2, 'o': 1, 'u': 2}"
            ]
          },
          "metadata": {},
          "execution_count": 62
        }
      ],
      "source": [
        "\n",
        "\n",
        "def count_vowels(vowel):\n",
        "  vowdict = {'a':0,'e':0,'i':0,'o':0,'u':0}\n",
        "  for letter in vowel:\n",
        "    if letter.lower() in vowdict:\n",
        "      vowdict[letter.lower()] += 1\n",
        "\n",
        "  return vowdict\n",
        "\n",
        "count_vowels('aeiou AEIU')"
      ]
    },
    {
      "cell_type": "markdown",
      "id": "b0b65d79",
      "metadata": {
        "id": "b0b65d79"
      },
      "source": [
        "## Ejercicio 4: Máximo de tres números\n",
        "- Descripción: Escribe una función que encuentre el máximo de tres números.\n",
        "- Parámetros: a (int), b (int), c (int)\n",
        "- Retorno: El valor máximo de los tres números (int).\n",
        "- Ejemplo: maximo_de_tres(1, 0, 3) retorna 3."
      ]
    },
    {
      "cell_type": "code",
      "execution_count": null,
      "id": "c634f731",
      "metadata": {
        "vscode": {
          "languageId": "plaintext"
        },
        "id": "c634f731",
        "outputId": "a0af5c91-3b56-49c8-cf28-0337c9d1b819",
        "colab": {
          "base_uri": "https://localhost:8080/"
        }
      },
      "outputs": [
        {
          "output_type": "execute_result",
          "data": {
            "text/plain": [
              "10"
            ]
          },
          "metadata": {},
          "execution_count": 22
        }
      ],
      "source": [
        "def max_of_three(a, b, c):\n",
        "  return max(a, b, c)\n",
        "\n",
        "max_of_three(1, 10, 3)"
      ]
    },
    {
      "cell_type": "code",
      "source": [
        "def max_number(list):\n",
        "  return max(list)\n",
        "\n",
        "max_number([1, 10, 3])"
      ],
      "metadata": {
        "id": "CkmkIwrHe5jU",
        "outputId": "80925bf2-3d7a-43d0-99de-7d1630e50ff3",
        "colab": {
          "base_uri": "https://localhost:8080/"
        }
      },
      "id": "CkmkIwrHe5jU",
      "execution_count": null,
      "outputs": [
        {
          "output_type": "execute_result",
          "data": {
            "text/plain": [
              "10"
            ]
          },
          "metadata": {},
          "execution_count": 23
        }
      ]
    },
    {
      "cell_type": "markdown",
      "id": "6139d049",
      "metadata": {
        "id": "6139d049"
      },
      "source": [
        "## Ejercicio 5: Invertir cadena\n",
        "- Descripción: Escribe una función que invierta una cadena de texto.\n",
        "- Parámetros: texto (str)\n",
        "- Retorno: La cadena invertida (str).\n",
        "- Ejemplo: invertir_cadena(\"hola\") retorna \"aloh\"."
      ]
    },
    {
      "cell_type": "code",
      "execution_count": null,
      "id": "91d7997d",
      "metadata": {
        "vscode": {
          "languageId": "plaintext"
        },
        "id": "91d7997d",
        "outputId": "73028d47-5372-449b-ea51-a851ef44eff0",
        "colab": {
          "base_uri": "https://localhost:8080/",
          "height": 36
        }
      },
      "outputs": [
        {
          "output_type": "execute_result",
          "data": {
            "text/plain": [
              "'otinam sam euq'"
            ],
            "application/vnd.google.colaboratory.intrinsic+json": {
              "type": "string"
            }
          },
          "metadata": {},
          "execution_count": 24
        }
      ],
      "source": [
        "def inver_chain(chain_text):\n",
        "  return chain_text[::-1]\n",
        "\n",
        "inver_chain(\"que mas manito\")"
      ]
    },
    {
      "cell_type": "markdown",
      "id": "04151c59",
      "metadata": {
        "id": "04151c59"
      },
      "source": [
        "# Nivel Medio\n",
        "\n",
        "## Ejercicio 6: FizzBuzz\n",
        "- Descripción: Escribe una función que implemente el juego FizzBuzz hasta un número dado. Para múltiplos de tres, retorna \"Fizz\" en lugar del número y para los múltiplos de cinco retorna \"Buzz\". Para números que son múltiplos de ambos tres y cinco, retorna \"FizzBuzz\".\n",
        "- Parámetros: n (int)\n",
        "- Retorno: Lista de strings con el resultado de FizzBuzz (List[str]).\n",
        "- Ejemplo: fizzbuzz(5) retorna [\"1\", \"2\", \"Fizz\", \"4\", \"Buzz\"]."
      ]
    },
    {
      "cell_type": "code",
      "execution_count": 9,
      "id": "7573328e",
      "metadata": {
        "vscode": {
          "languageId": "plaintext"
        },
        "id": "7573328e",
        "colab": {
          "base_uri": "https://localhost:8080/"
        },
        "outputId": "27b8642f-5db5-4dbe-911a-f747a6e57eff"
      },
      "outputs": [
        {
          "output_type": "execute_result",
          "data": {
            "text/plain": [
              "[1,\n",
              " 2,\n",
              " 'Fizz',\n",
              " 4,\n",
              " 'Buzz',\n",
              " 'Fizz',\n",
              " 7,\n",
              " 8,\n",
              " 'Fizz',\n",
              " 'Buzz',\n",
              " 11,\n",
              " 'Fizz',\n",
              " 13,\n",
              " 14,\n",
              " 'FizzBuzz']"
            ]
          },
          "metadata": {},
          "execution_count": 9
        }
      ],
      "source": [
        "def fizzBuzz(number):\n",
        "  list = []\n",
        "  number = number + 1\n",
        "  for n in range(1, number):\n",
        "    if n%3 == 0 and n%5 == 0:\n",
        "      list.append(\"FizzBuzz\")\n",
        "    elif n%3 == 0:\n",
        "      list.append(\"Fizz\")\n",
        "    elif n%5 == 0:\n",
        "      list.append('Buzz')\n",
        "    else:\n",
        "      list.append(n)\n",
        "  return list\n",
        "\n",
        "fizzBuzz(15)"
      ]
    },
    {
      "cell_type": "markdown",
      "id": "932393ad",
      "metadata": {
        "id": "932393ad"
      },
      "source": [
        "## Ejercicio 7: Factorial\n",
        "- Descripción: Escribe una función que calcule el factorial de un número dado.\n",
        "- Parámetros: n (int)\n",
        "- Retorno: El factorial de n (int).\n",
        "- Ejemplo: factorial(5) retorna 120."
      ]
    },
    {
      "cell_type": "code",
      "execution_count": 64,
      "id": "36c602ed",
      "metadata": {
        "vscode": {
          "languageId": "plaintext"
        },
        "id": "36c602ed",
        "colab": {
          "base_uri": "https://localhost:8080/"
        },
        "outputId": "3952f6f2-6799-4387-8bd1-749273dbe7d2"
      },
      "outputs": [
        {
          "output_type": "execute_result",
          "data": {
            "text/plain": [
              "93326215443944152681699238856266700490715968264381621468592963895217599993229915608941463976156518286253697920827223758251185210916864000000000000000000000000"
            ]
          },
          "metadata": {},
          "execution_count": 64
        }
      ],
      "source": [
        "def factorial(n):\n",
        "  if n == 0:\n",
        "    return 1\n",
        "  else:\n",
        "    return n * factorial(n-1)\n",
        "\n",
        "factorial(100)\n"
      ]
    },
    {
      "cell_type": "markdown",
      "id": "c038775c",
      "metadata": {
        "id": "c038775c"
      },
      "source": [
        "## Ejercicio 8: Fibonacci\n",
        "- Descripción: Escribe una función que genere una lista con los n primeros números de la secuencia de Fibonacci.\n",
        "- Parámetros: n (int)\n",
        "- Retorno: Lista con los n primeros números de Fibonacci (List[int]).\n",
        "- Ejemplo: fibonacci(5) retorna [0, 1, 1, 2, 3]."
      ]
    },
    {
      "cell_type": "code",
      "execution_count": 18,
      "id": "315599b7",
      "metadata": {
        "vscode": {
          "languageId": "plaintext"
        },
        "id": "315599b7",
        "colab": {
          "base_uri": "https://localhost:8080/"
        },
        "outputId": "aa8b511a-b04e-46b2-a0f0-13fedf7fd535"
      },
      "outputs": [
        {
          "output_type": "execute_result",
          "data": {
            "text/plain": [
              "[0, 1, 1, 2, 3, 5, 8, 13, 21, 34]"
            ]
          },
          "metadata": {},
          "execution_count": 18
        }
      ],
      "source": [
        "def fibonacci(n):\n",
        "  numbera = 0\n",
        "  numberb = 1\n",
        "  list = [numbera, numberb]\n",
        "\n",
        "  while len(list) < n:\n",
        "    numberc = numbera + numberb\n",
        "    list.append(numberc)\n",
        "    numbera = numberb\n",
        "    numberb = numberc\n",
        "  return list\n",
        "\n",
        "\n",
        "fibonacci(10)\n"
      ]
    },
    {
      "cell_type": "markdown",
      "id": "374e39b7",
      "metadata": {
        "id": "374e39b7"
      },
      "source": [
        "## Ejercicio 9: Eliminar duplicados\n",
        "- Descripción: Escribe una función que elimine los elementos duplicados de una lista.\n",
        "- Parámetros: lista (List[int])\n",
        "- Retorno: Una nueva lista sin duplicados (List[int]).\n",
        "- Ejemplo: eliminar_duplicados([1,2,2,3]) retorna [1,2,3]."
      ]
    },
    {
      "cell_type": "code",
      "execution_count": 60,
      "id": "65db82e6",
      "metadata": {
        "vscode": {
          "languageId": "plaintext"
        },
        "id": "65db82e6",
        "colab": {
          "base_uri": "https://localhost:8080/"
        },
        "outputId": "f0ead31e-088d-4dfc-c14e-43dccb66bba6"
      },
      "outputs": [
        {
          "output_type": "execute_result",
          "data": {
            "text/plain": [
              "[1, 2, 3]"
            ]
          },
          "metadata": {},
          "execution_count": 60
        }
      ],
      "source": [
        "def drop_duplicates(lis):\n",
        "  return list(dict.fromkeys(lis))\n",
        "\n",
        "drop_duplicates([1,2,2,3])\n"
      ]
    },
    {
      "cell_type": "code",
      "source": [
        "def drop_duplicates(lis):\n",
        "  return list(set(lis))\n",
        "\n",
        "drop_duplicates([1,2,2,3])"
      ],
      "metadata": {
        "colab": {
          "base_uri": "https://localhost:8080/"
        },
        "id": "2c9ZwMKwtGZY",
        "outputId": "18e49533-54fe-4e85-a752-6f88314ccf42"
      },
      "id": "2c9ZwMKwtGZY",
      "execution_count": 61,
      "outputs": [
        {
          "output_type": "execute_result",
          "data": {
            "text/plain": [
              "[1, 2, 3]"
            ]
          },
          "metadata": {},
          "execution_count": 61
        }
      ]
    },
    {
      "cell_type": "code",
      "source": [
        "import random as random\n",
        "\n",
        "def get_index(list):\n",
        "    number = max(list)\n",
        "    print(number)\n",
        "    count = list.count(number)\n",
        "    value_to_select = random.randint(1, count)\n",
        "    times = 0\n",
        "    index = 0\n",
        "    for num in list:\n",
        "        if num == number:\n",
        "            times = times +1\n",
        "            if times == value_to_select:\n",
        "                print(index)\n",
        "        index = index +1\n",
        "    return\n",
        "    # return print(index)\n",
        "\n",
        "get_index([15, 1,10,2, 15, 4,10, 11, 12,13, 15])"
      ],
      "metadata": {
        "colab": {
          "base_uri": "https://localhost:8080/"
        },
        "id": "U7eyOPopms05",
        "outputId": "c7e987d2-7c51-4c55-a5bf-7fb6e9baf01e"
      },
      "id": "U7eyOPopms05",
      "execution_count": 6,
      "outputs": [
        {
          "output_type": "stream",
          "name": "stdout",
          "text": [
            "15\n",
            "0\n"
          ]
        }
      ]
    },
    {
      "cell_type": "code",
      "source": [],
      "metadata": {
        "id": "_LHrIH02sQSa"
      },
      "id": "_LHrIH02sQSa",
      "execution_count": null,
      "outputs": []
    },
    {
      "cell_type": "markdown",
      "id": "e7f0f536",
      "metadata": {
        "id": "e7f0f536"
      },
      "source": [
        "## Ejercicio 10: Palíndromo\n",
        "- Descripción: Escribe una función que determine si una cadena de texto es un palíndromo.\n",
        "- Parámetros: texto (str)\n",
        "- Retorno: True si el texto es un palíndromo, de lo contrario False.\n",
        "- Ejemplo: es_palindromo(\"anilina\") retorna True."
      ]
    },
    {
      "cell_type": "code",
      "execution_count": 66,
      "id": "77d868b7",
      "metadata": {
        "vscode": {
          "languageId": "plaintext"
        },
        "id": "77d868b7",
        "colab": {
          "base_uri": "https://localhost:8080/"
        },
        "outputId": "368c4c0e-7d06-4b64-cc0c-3479b99c52ec"
      },
      "outputs": [
        {
          "output_type": "execute_result",
          "data": {
            "text/plain": [
              "False"
            ]
          },
          "metadata": {},
          "execution_count": 66
        }
      ],
      "source": [
        "def palindromo(text):\n",
        "  return text == text[::-1]\n",
        "\n",
        "palindromo(\"anilina\")"
      ]
    },
    {
      "cell_type": "markdown",
      "id": "7618624f",
      "metadata": {
        "id": "7618624f"
      },
      "source": [
        "# Nivel Difícil\n",
        "\n",
        "## Ejercicio 11: Números primos\n",
        "- Descripción: Escribe una función que genere una lista de todos los números primos hasta n.\n",
        "- Parámetros: n (int)\n",
        "- Retorno: Lista de números primos hasta n (List[int]).\n",
        "- Ejemplo: numeros_primos(10) retorna [2, 3, 5, 7]."
      ]
    },
    {
      "cell_type": "code",
      "execution_count": 81,
      "id": "be9ee9ac",
      "metadata": {
        "vscode": {
          "languageId": "plaintext"
        },
        "id": "be9ee9ac",
        "colab": {
          "base_uri": "https://localhost:8080/"
        },
        "outputId": "53f5872b-8b23-43a4-936b-205d79de1d70"
      },
      "outputs": [
        {
          "output_type": "execute_result",
          "data": {
            "text/plain": [
              "[2,\n",
              " 3,\n",
              " 5,\n",
              " 7,\n",
              " 11,\n",
              " 13,\n",
              " 17,\n",
              " 19,\n",
              " 23,\n",
              " 29,\n",
              " 31,\n",
              " 37,\n",
              " 41,\n",
              " 43,\n",
              " 47,\n",
              " 53,\n",
              " 59,\n",
              " 61,\n",
              " 67,\n",
              " 71,\n",
              " 73,\n",
              " 79,\n",
              " 83,\n",
              " 89,\n",
              " 97]"
            ]
          },
          "metadata": {},
          "execution_count": 81
        }
      ],
      "source": [
        "def primos(n):\n",
        "  primos_list = []\n",
        "  for n in range(2, n+1):\n",
        "    for x in range(2, n):\n",
        "      if n % x == 0:\n",
        "        break\n",
        "    else:\n",
        "      primos_list.append(n)\n",
        "  return primos_list\n",
        "\n",
        "primos(100)\n",
        "\n"
      ]
    },
    {
      "cell_type": "code",
      "source": [
        "def primos(number):\n",
        "  primos_list = []\n",
        "  for n in range(2, number+1):\n",
        "\n",
        "    if n > 2 and n%2 == 0:\n",
        "      None\n",
        "    elif n > 3 and n%3 == 0:\n",
        "      None\n",
        "    elif n > 5 and n%5 == 0:\n",
        "      None\n",
        "    elif n > 7 and n%7 == 0:\n",
        "      None\n",
        "    else:\n",
        "      primos_list.append(n)\n",
        "  return primos_list\n",
        "\n",
        "\n",
        "primos(100)"
      ],
      "metadata": {
        "id": "igB0cgP_AkMi",
        "outputId": "00adba35-3d20-4cc3-fefd-222586db3045",
        "colab": {
          "base_uri": "https://localhost:8080/"
        }
      },
      "id": "igB0cgP_AkMi",
      "execution_count": 80,
      "outputs": [
        {
          "output_type": "execute_result",
          "data": {
            "text/plain": [
              "[2,\n",
              " 3,\n",
              " 5,\n",
              " 7,\n",
              " 11,\n",
              " 13,\n",
              " 17,\n",
              " 19,\n",
              " 23,\n",
              " 29,\n",
              " 31,\n",
              " 37,\n",
              " 41,\n",
              " 43,\n",
              " 47,\n",
              " 53,\n",
              " 59,\n",
              " 61,\n",
              " 67,\n",
              " 71,\n",
              " 73,\n",
              " 79,\n",
              " 83,\n",
              " 89,\n",
              " 97]"
            ]
          },
          "metadata": {},
          "execution_count": 80
        }
      ]
    },
    {
      "cell_type": "markdown",
      "id": "1ef5680b",
      "metadata": {
        "id": "1ef5680b"
      },
      "source": [
        "## Ejercicio 12: Agrupar anagramas\n",
        "- Descripción: Escribe una función que agrupe palabras que son anagramas entre sí dada una lista de palabras.\n",
        "- Parámetros: palabras (List[str])\n",
        "- Retorno: Lista de listas con los grupos de anagramas (List[List[str]]).\n",
        "- Ejemplo: agrupar_anagramas([\"amor\", \"roma\", \"luz\", \"zul\"]) retorna [[\"amor\", \"roma\"], [\"luz\", \"zul\"]]."
      ]
    },
    {
      "cell_type": "code",
      "execution_count": 5,
      "id": "6d663ce9",
      "metadata": {
        "vscode": {
          "languageId": "plaintext"
        },
        "id": "6d663ce9",
        "colab": {
          "base_uri": "https://localhost:8080/",
          "height": 297
        },
        "outputId": "8cddab1b-ae5c-4a8a-d587-a6a68402fb98"
      },
      "outputs": [
        {
          "output_type": "error",
          "ename": "AttributeError",
          "evalue": "'str' object has no attribute 'sort'",
          "traceback": [
            "\u001b[0;31m---------------------------------------------------------------------------\u001b[0m",
            "\u001b[0;31mAttributeError\u001b[0m                            Traceback (most recent call last)",
            "\u001b[0;32m<ipython-input-5-8a008a99d4a0>\u001b[0m in \u001b[0;36m<cell line: 11>\u001b[0;34m()\u001b[0m\n\u001b[1;32m      9\u001b[0m   \u001b[0;32mreturn\u001b[0m \u001b[0mlist_anagramas\u001b[0m\u001b[0;34m\u001b[0m\u001b[0;34m\u001b[0m\u001b[0m\n\u001b[1;32m     10\u001b[0m \u001b[0;34m\u001b[0m\u001b[0m\n\u001b[0;32m---> 11\u001b[0;31m \u001b[0managramas\u001b[0m\u001b[0;34m(\u001b[0m\u001b[0;34m[\u001b[0m\u001b[0;34m\"amor\"\u001b[0m\u001b[0;34m,\u001b[0m \u001b[0;34m\"roma\"\u001b[0m\u001b[0;34m,\u001b[0m \u001b[0;34m\"luz\"\u001b[0m\u001b[0;34m,\u001b[0m \u001b[0;34m\"zul\"\u001b[0m\u001b[0;34m]\u001b[0m\u001b[0;34m)\u001b[0m\u001b[0;34m\u001b[0m\u001b[0;34m\u001b[0m\u001b[0m\n\u001b[0m",
            "\u001b[0;32m<ipython-input-5-8a008a99d4a0>\u001b[0m in \u001b[0;36managramas\u001b[0;34m(words)\u001b[0m\n\u001b[1;32m      3\u001b[0m   \u001b[0;32mfor\u001b[0m \u001b[0mword\u001b[0m \u001b[0;32min\u001b[0m \u001b[0mwords\u001b[0m\u001b[0;34m:\u001b[0m\u001b[0;34m\u001b[0m\u001b[0;34m\u001b[0m\u001b[0m\n\u001b[1;32m      4\u001b[0m     \u001b[0;32mfor\u001b[0m \u001b[0mword2\u001b[0m \u001b[0;32min\u001b[0m \u001b[0mwords\u001b[0m\u001b[0;34m:\u001b[0m\u001b[0;34m\u001b[0m\u001b[0;34m\u001b[0m\u001b[0m\n\u001b[0;32m----> 5\u001b[0;31m       \u001b[0mword\u001b[0m \u001b[0;34m=\u001b[0m \u001b[0mword\u001b[0m\u001b[0;34m.\u001b[0m\u001b[0msort\u001b[0m\u001b[0;34m(\u001b[0m\u001b[0;34m)\u001b[0m\u001b[0;34m\u001b[0m\u001b[0;34m\u001b[0m\u001b[0m\n\u001b[0m\u001b[1;32m      6\u001b[0m       \u001b[0mword2\u001b[0m \u001b[0;34m=\u001b[0m \u001b[0mword2\u001b[0m\u001b[0;34m.\u001b[0m\u001b[0msort\u001b[0m\u001b[0;34m(\u001b[0m\u001b[0;34m)\u001b[0m\u001b[0;34m\u001b[0m\u001b[0;34m\u001b[0m\u001b[0m\n\u001b[1;32m      7\u001b[0m       \u001b[0;32mif\u001b[0m \u001b[0mword\u001b[0m \u001b[0;34m==\u001b[0m \u001b[0mword2\u001b[0m\u001b[0;34m:\u001b[0m\u001b[0;34m\u001b[0m\u001b[0;34m\u001b[0m\u001b[0m\n",
            "\u001b[0;31mAttributeError\u001b[0m: 'str' object has no attribute 'sort'"
          ]
        }
      ],
      "source": [
        "def anagramas(words):\n",
        "  list_anagramas = []\n",
        "  for word in words:\n",
        "    for word2 in words:\n",
        "      word = word.sort()\n",
        "      word2 = word2.sort()\n",
        "      if word == word2:\n",
        "        list_anagramas.append(word)\n",
        "  return list_anagramas\n",
        "\n",
        "anagramas([\"amor\", \"roma\", \"luz\", \"zul\"])\n"
      ]
    },
    {
      "cell_type": "code",
      "source": [
        "lista = []\n",
        "lista.append([2,2,3])\n",
        "lista.append([1,2,3])\n",
        "print(lista)\n"
      ],
      "metadata": {
        "id": "L8WQyjH4_Vhk",
        "outputId": "65e95b9e-798f-40c3-f3d8-52794316423c",
        "colab": {
          "base_uri": "https://localhost:8080/"
        }
      },
      "id": "L8WQyjH4_Vhk",
      "execution_count": 1,
      "outputs": [
        {
          "output_type": "stream",
          "name": "stdout",
          "text": [
            "[[2, 2, 3], [1, 2, 3]]\n"
          ]
        }
      ]
    },
    {
      "cell_type": "code",
      "source": [
        "[[row[i] for row in lista] for i in range(3)]"
      ],
      "metadata": {
        "id": "x5nrrxjEcGa7"
      },
      "id": "x5nrrxjEcGa7",
      "execution_count": null,
      "outputs": []
    },
    {
      "cell_type": "code",
      "source": [],
      "metadata": {
        "id": "oOjHqQGFclYM"
      },
      "id": "oOjHqQGFclYM",
      "execution_count": null,
      "outputs": []
    },
    {
      "cell_type": "markdown",
      "id": "0ee82882",
      "metadata": {
        "id": "0ee82882"
      },
      "source": [
        "## Ejercicio 13: Codificar RLE\n",
        "- Descripción: Escribe una función que implemente la codificación por longitud de ejecución (Run-Length Encoding, RLE) para una cadena de texto.\n",
        "- Parámetros: texto (str)\n",
        "- Retorno: Texto codificado con RLE (str).\n",
        "- Ejemplo: codificar_rle(\"aabccc\") retorna \"2a1b3c\"."
      ]
    },
    {
      "cell_type": "code",
      "execution_count": 4,
      "id": "3bbb4323",
      "metadata": {
        "vscode": {
          "languageId": "plaintext"
        },
        "id": "3bbb4323",
        "colab": {
          "base_uri": "https://localhost:8080/"
        },
        "outputId": "7d61cff2-5073-49ce-f725-5ac5e65baaf2"
      },
      "outputs": [
        {
          "output_type": "execute_result",
          "data": {
            "text/plain": [
              "[[2, 1], [2, 2], [3, 3]]"
            ]
          },
          "metadata": {},
          "execution_count": 4
        }
      ],
      "source": []
    },
    {
      "cell_type": "markdown",
      "id": "44ec975d",
      "metadata": {
        "id": "44ec975d"
      },
      "source": [
        "## Ejercicio 14: Sudoku\n",
        "- Descripción: Escribe una función que verifique si una solución de Sudoku es válida.\n",
        "- Parámetros: tablero (List[List[int]])\n",
        "- Retorno: True si la solución es válida, de lo contrario False.\n",
        "- Ejemplo: Verificación de un tablero de Sudoku."
      ]
    },
    {
      "cell_type": "code",
      "execution_count": null,
      "id": "b95c256f",
      "metadata": {
        "vscode": {
          "languageId": "plaintext"
        },
        "id": "b95c256f"
      },
      "outputs": [],
      "source": []
    },
    {
      "cell_type": "markdown",
      "id": "06f07636",
      "metadata": {
        "id": "06f07636"
      },
      "source": [
        "## Ejercicio 15: Buscar en rotación\n",
        "- Descripción: Escribe una función que busque un elemento en una lista que ha sido rotada.\n",
        "- Parámetros: lista (List[int]), objetivo (int)\n",
        "- Retorno: Índice del objetivo en la lista o -1 si no se encuentra (int).\n",
        "- Ejemplo: buscar_en_rotacion([4,5,6,7,0,1,2], 0) retorna 4."
      ]
    },
    {
      "cell_type": "code",
      "execution_count": null,
      "id": "b373bbc3",
      "metadata": {
        "vscode": {
          "languageId": "plaintext"
        },
        "id": "b373bbc3"
      },
      "outputs": [],
      "source": []
    }
  ],
  "metadata": {
    "language_info": {
      "name": "python"
    },
    "colab": {
      "provenance": [],
      "include_colab_link": true
    },
    "kernelspec": {
      "name": "python3",
      "display_name": "Python 3"
    }
  },
  "nbformat": 4,
  "nbformat_minor": 5
}