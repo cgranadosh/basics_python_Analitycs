{
  "cells": [
    {
      "cell_type": "markdown",
      "metadata": {
        "id": "view-in-github",
        "colab_type": "text"
      },
      "source": [
        "<a href=\"https://colab.research.google.com/github/cgranadosh/basics_python_Analitycs/blob/main/Ejercicios_Python.ipynb\" target=\"_parent\"><img src=\"https://colab.research.google.com/assets/colab-badge.svg\" alt=\"Open In Colab\"/></a>"
      ]
    },
    {
      "cell_type": "markdown",
      "id": "36175047",
      "metadata": {
        "id": "36175047"
      },
      "source": [
        "# Nivel Básico"
      ]
    },
    {
      "cell_type": "markdown",
      "id": "df29c7f0",
      "metadata": {
        "id": "df29c7f0"
      },
      "source": [
        "## Ejercicio 1: Sumar dos números\n",
        "- Descripción: Escribe una función que tome dos números como parámetros y devuelva su suma.\n",
        "- Parámetros: a (int), b (int)\n",
        "- Retorno: La suma de a y b (int).\n",
        "- Ejemplo: sumar(2, 3) retorna 5."
      ]
    },
    {
      "cell_type": "code",
      "execution_count": null,
      "id": "4234cf47",
      "metadata": {
        "vscode": {
          "languageId": "plaintext"
        },
        "id": "4234cf47"
      },
      "outputs": [],
      "source": []
    },
    {
      "cell_type": "markdown",
      "id": "d6070b1f",
      "metadata": {
        "id": "d6070b1f"
      },
      "source": [
        "## Ejercicio 2: Verificar si es par\n",
        "- Descripción: Escribe una función que determine si un número es par o no.\n",
        "- Parámetros: numero (int)\n",
        "- Retorno: True si el número es par, de lo contrario False.\n",
        "- Ejemplo: es_par(4) retorna True."
      ]
    },
    {
      "cell_type": "code",
      "execution_count": null,
      "id": "4b0844df",
      "metadata": {
        "vscode": {
          "languageId": "plaintext"
        },
        "id": "4b0844df",
        "outputId": "08e9d7e6-45e1-4e7c-a293-f3f6792ca171",
        "colab": {
          "base_uri": "https://localhost:8080/"
        }
      },
      "outputs": [
        {
          "output_type": "execute_result",
          "data": {
            "text/plain": [
              "True"
            ]
          },
          "metadata": {},
          "execution_count": 3
        }
      ],
      "source": [
        "import operator as op\n",
        "\n",
        "def es_par(num):\n",
        "  if op.imod(num, 2) == 0:\n",
        "    return True\n",
        "  else:\n",
        "    return False\n",
        "\n",
        "es_par(12356480)\n",
        "\n"
      ]
    },
    {
      "cell_type": "markdown",
      "id": "827b4baf",
      "metadata": {
        "id": "827b4baf"
      },
      "source": [
        "## Ejercicio 3: Contar vocales\n",
        "- Descripción: Escribe una función que cuente el número de vocales en una cadena de texto.\n",
        "- Parámetros: texto (str)\n",
        "- Retorno: Número de vocales en el texto (int).\n",
        "- Ejemplo: contar_vocales(\"hola\") retorna 2."
      ]
    },
    {
      "cell_type": "code",
      "execution_count": null,
      "id": "cd0ca17d",
      "metadata": {
        "vscode": {
          "languageId": "plaintext"
        },
        "id": "cd0ca17d",
        "outputId": "c9c0bbed-4a98-4db0-ff7a-6e781ae4195f",
        "colab": {
          "base_uri": "https://localhost:8080/"
        }
      },
      "outputs": [
        {
          "output_type": "execute_result",
          "data": {
            "text/plain": [
              "{'a': 2, 'e': 2, 'i': 2, 'o': 1, 'u': 2}"
            ]
          },
          "metadata": {},
          "execution_count": 20
        }
      ],
      "source": [
        "\n",
        "\n",
        "def count_vowels(vowel):\n",
        "  vowdict = {'a':0,'e':0,'i':0,'o':0,'u':0}\n",
        "  for letter in vowel:\n",
        "    if letter.lower() in vowdict:\n",
        "      vowdict[letter.lower()] = vowdict[letter.lower()]+1\n",
        "\n",
        "  return vowdict\n",
        "\n",
        "count_vowels('aeiou AEIU')"
      ]
    },
    {
      "cell_type": "markdown",
      "id": "b0b65d79",
      "metadata": {
        "id": "b0b65d79"
      },
      "source": [
        "## Ejercicio 4: Máximo de tres números\n",
        "- Descripción: Escribe una función que encuentre el máximo de tres números.\n",
        "- Parámetros: a (int), b (int), c (int)\n",
        "- Retorno: El valor máximo de los tres números (int).\n",
        "- Ejemplo: maximo_de_tres(1, 0, 3) retorna 3."
      ]
    },
    {
      "cell_type": "code",
      "execution_count": null,
      "id": "c634f731",
      "metadata": {
        "vscode": {
          "languageId": "plaintext"
        },
        "id": "c634f731",
        "outputId": "a0af5c91-3b56-49c8-cf28-0337c9d1b819",
        "colab": {
          "base_uri": "https://localhost:8080/"
        }
      },
      "outputs": [
        {
          "output_type": "execute_result",
          "data": {
            "text/plain": [
              "10"
            ]
          },
          "metadata": {},
          "execution_count": 22
        }
      ],
      "source": [
        "def max_of_three(a, b, c):\n",
        "  return max(a, b, c)\n",
        "\n",
        "max_of_three(1, 10, 3)"
      ]
    },
    {
      "cell_type": "code",
      "source": [
        "def max_number(list):\n",
        "  return max(list)\n",
        "\n",
        "max_number([1, 10, 3])"
      ],
      "metadata": {
        "id": "CkmkIwrHe5jU",
        "outputId": "80925bf2-3d7a-43d0-99de-7d1630e50ff3",
        "colab": {
          "base_uri": "https://localhost:8080/"
        }
      },
      "id": "CkmkIwrHe5jU",
      "execution_count": null,
      "outputs": [
        {
          "output_type": "execute_result",
          "data": {
            "text/plain": [
              "10"
            ]
          },
          "metadata": {},
          "execution_count": 23
        }
      ]
    },
    {
      "cell_type": "markdown",
      "id": "6139d049",
      "metadata": {
        "id": "6139d049"
      },
      "source": [
        "## Ejercicio 5: Invertir cadena\n",
        "- Descripción: Escribe una función que invierta una cadena de texto.\n",
        "- Parámetros: texto (str)\n",
        "- Retorno: La cadena invertida (str).\n",
        "- Ejemplo: invertir_cadena(\"hola\") retorna \"aloh\"."
      ]
    },
    {
      "cell_type": "code",
      "execution_count": null,
      "id": "91d7997d",
      "metadata": {
        "vscode": {
          "languageId": "plaintext"
        },
        "id": "91d7997d",
        "outputId": "73028d47-5372-449b-ea51-a851ef44eff0",
        "colab": {
          "base_uri": "https://localhost:8080/",
          "height": 36
        }
      },
      "outputs": [
        {
          "output_type": "execute_result",
          "data": {
            "text/plain": [
              "'otinam sam euq'"
            ],
            "application/vnd.google.colaboratory.intrinsic+json": {
              "type": "string"
            }
          },
          "metadata": {},
          "execution_count": 24
        }
      ],
      "source": [
        "def inver_chain(chain_text):\n",
        "  return chain_text[::-1]\n",
        "\n",
        "inver_chain(\"que mas manito\")"
      ]
    },
    {
      "cell_type": "markdown",
      "id": "04151c59",
      "metadata": {
        "id": "04151c59"
      },
      "source": [
        "# Nivel Medio\n",
        "\n",
        "## Ejercicio 6: FizzBuzz\n",
        "- Descripción: Escribe una función que implemente el juego FizzBuzz hasta un número dado. Para múltiplos de tres, retorna \"Fizz\" en lugar del número y para los múltiplos de cinco retorna \"Buzz\". Para números que son múltiplos de ambos tres y cinco, retorna \"FizzBuzz\".\n",
        "- Parámetros: n (int)\n",
        "- Retorno: Lista de strings con el resultado de FizzBuzz (List[str]).\n",
        "- Ejemplo: fizzbuzz(5) retorna [\"1\", \"2\", \"Fizz\", \"4\", \"Buzz\"]."
      ]
    },
    {
      "cell_type": "code",
      "execution_count": 9,
      "id": "7573328e",
      "metadata": {
        "vscode": {
          "languageId": "plaintext"
        },
        "id": "7573328e",
        "outputId": "27b8642f-5db5-4dbe-911a-f747a6e57eff",
        "colab": {
          "base_uri": "https://localhost:8080/"
        }
      },
      "outputs": [
        {
          "output_type": "execute_result",
          "data": {
            "text/plain": [
              "[1,\n",
              " 2,\n",
              " 'Fizz',\n",
              " 4,\n",
              " 'Buzz',\n",
              " 'Fizz',\n",
              " 7,\n",
              " 8,\n",
              " 'Fizz',\n",
              " 'Buzz',\n",
              " 11,\n",
              " 'Fizz',\n",
              " 13,\n",
              " 14,\n",
              " 'FizzBuzz']"
            ]
          },
          "metadata": {},
          "execution_count": 9
        }
      ],
      "source": [
        "def fizzBuzz(number):\n",
        "  list = []\n",
        "  number = number + 1\n",
        "  for n in range(1, number):\n",
        "    if n%3 == 0 and n%5 == 0:\n",
        "      list.append(\"FizzBuzz\")\n",
        "    elif n%3 == 0:\n",
        "      list.append(\"Fizz\")\n",
        "    elif n%5 == 0:\n",
        "      list.append('Buzz')\n",
        "    else:\n",
        "      list.append(n)\n",
        "  return list\n",
        "\n",
        "fizzBuzz(15)"
      ]
    },
    {
      "cell_type": "markdown",
      "id": "932393ad",
      "metadata": {
        "id": "932393ad"
      },
      "source": [
        "## Ejercicio 7: Factorial\n",
        "- Descripción: Escribe una función que calcule el factorial de un número dado.\n",
        "- Parámetros: n (int)\n",
        "- Retorno: El factorial de n (int).\n",
        "- Ejemplo: factorial(5) retorna 120."
      ]
    },
    {
      "cell_type": "code",
      "execution_count": 14,
      "id": "36c602ed",
      "metadata": {
        "vscode": {
          "languageId": "plaintext"
        },
        "id": "36c602ed",
        "outputId": "7a59b473-c5a6-469d-e468-c51a88d93bb3",
        "colab": {
          "base_uri": "https://localhost:8080/"
        }
      },
      "outputs": [
        {
          "output_type": "execute_result",
          "data": {
            "text/plain": [
              "120"
            ]
          },
          "metadata": {},
          "execution_count": 14
        }
      ],
      "source": [
        "def factorial(n):\n",
        "  if n == 0:\n",
        "    return 1\n",
        "  else:\n",
        "    return n * factorial(n-1)\n",
        "\n",
        "factorial(5)\n"
      ]
    },
    {
      "cell_type": "markdown",
      "id": "c038775c",
      "metadata": {
        "id": "c038775c"
      },
      "source": [
        "## Ejercicio 8: Fibonacci\n",
        "- Descripción: Escribe una función que genere una lista con los n primeros números de la secuencia de Fibonacci.\n",
        "- Parámetros: n (int)\n",
        "- Retorno: Lista con los n primeros números de Fibonacci (List[int]).\n",
        "- Ejemplo: fibonacci(5) retorna [0, 1, 1, 2, 3]."
      ]
    },
    {
      "cell_type": "code",
      "execution_count": 18,
      "id": "315599b7",
      "metadata": {
        "vscode": {
          "languageId": "plaintext"
        },
        "id": "315599b7",
        "outputId": "aa8b511a-b04e-46b2-a0f0-13fedf7fd535",
        "colab": {
          "base_uri": "https://localhost:8080/"
        }
      },
      "outputs": [
        {
          "output_type": "execute_result",
          "data": {
            "text/plain": [
              "[0, 1, 1, 2, 3, 5, 8, 13, 21, 34]"
            ]
          },
          "metadata": {},
          "execution_count": 18
        }
      ],
      "source": [
        "def fibonacci(n):\n",
        "  numbera = 0\n",
        "  numberb = 1\n",
        "  list = [numbera, numberb]\n",
        "\n",
        "  while len(list) < n:\n",
        "    numberc = numbera + numberb\n",
        "    list.append(numberc)\n",
        "    numbera = numberb\n",
        "    numberb = numberc\n",
        "  return list\n",
        "\n",
        "\n",
        "fibonacci(10)\n"
      ]
    },
    {
      "cell_type": "markdown",
      "id": "374e39b7",
      "metadata": {
        "id": "374e39b7"
      },
      "source": [
        "## Ejercicio 9: Eliminar duplicados\n",
        "- Descripción: Escribe una función que elimine los elementos duplicados de una lista.\n",
        "- Parámetros: lista (List[int])\n",
        "- Retorno: Una nueva lista sin duplicados (List[int]).\n",
        "- Ejemplo: eliminar_duplicados([1,2,2,3]) retorna [1,2,3]."
      ]
    },
    {
      "cell_type": "code",
      "execution_count": 23,
      "id": "65db82e6",
      "metadata": {
        "vscode": {
          "languageId": "plaintext"
        },
        "id": "65db82e6",
        "outputId": "a0a3fcc5-f3de-4b9a-9cf9-8bb10e6cab70",
        "colab": {
          "base_uri": "https://localhost:8080/",
          "height": 280
        }
      },
      "outputs": [
        {
          "output_type": "error",
          "ename": "TypeError",
          "evalue": "'list' object is not callable",
          "traceback": [
            "\u001b[0;31m---------------------------------------------------------------------------\u001b[0m",
            "\u001b[0;31mTypeError\u001b[0m                                 Traceback (most recent call last)",
            "\u001b[0;32m<ipython-input-23-9ed1917e869d>\u001b[0m in \u001b[0;36m<cell line: 4>\u001b[0;34m()\u001b[0m\n\u001b[1;32m      2\u001b[0m   \u001b[0;32mreturn\u001b[0m \u001b[0mlist\u001b[0m\u001b[0;34m(\u001b[0m\u001b[0mset\u001b[0m\u001b[0;34m(\u001b[0m\u001b[0mlist\u001b[0m\u001b[0;34m)\u001b[0m\u001b[0;34m)\u001b[0m\u001b[0;34m\u001b[0m\u001b[0;34m\u001b[0m\u001b[0m\n\u001b[1;32m      3\u001b[0m \u001b[0;34m\u001b[0m\u001b[0m\n\u001b[0;32m----> 4\u001b[0;31m \u001b[0mdrop_duplicates\u001b[0m\u001b[0;34m(\u001b[0m\u001b[0;34m[\u001b[0m\u001b[0;36m1\u001b[0m\u001b[0;34m,\u001b[0m\u001b[0;36m2\u001b[0m\u001b[0;34m,\u001b[0m\u001b[0;36m2\u001b[0m\u001b[0;34m,\u001b[0m\u001b[0;36m3\u001b[0m\u001b[0;34m]\u001b[0m\u001b[0;34m)\u001b[0m\u001b[0;34m\u001b[0m\u001b[0;34m\u001b[0m\u001b[0m\n\u001b[0m",
            "\u001b[0;32m<ipython-input-23-9ed1917e869d>\u001b[0m in \u001b[0;36mdrop_duplicates\u001b[0;34m(list)\u001b[0m\n\u001b[1;32m      1\u001b[0m \u001b[0;32mdef\u001b[0m \u001b[0mdrop_duplicates\u001b[0m\u001b[0;34m(\u001b[0m\u001b[0mlist\u001b[0m\u001b[0;34m)\u001b[0m\u001b[0;34m:\u001b[0m\u001b[0;34m\u001b[0m\u001b[0;34m\u001b[0m\u001b[0m\n\u001b[0;32m----> 2\u001b[0;31m   \u001b[0;32mreturn\u001b[0m \u001b[0mlist\u001b[0m\u001b[0;34m(\u001b[0m\u001b[0mset\u001b[0m\u001b[0;34m(\u001b[0m\u001b[0mlist\u001b[0m\u001b[0;34m)\u001b[0m\u001b[0;34m)\u001b[0m\u001b[0;34m\u001b[0m\u001b[0;34m\u001b[0m\u001b[0m\n\u001b[0m\u001b[1;32m      3\u001b[0m \u001b[0;34m\u001b[0m\u001b[0m\n\u001b[1;32m      4\u001b[0m \u001b[0mdrop_duplicates\u001b[0m\u001b[0;34m(\u001b[0m\u001b[0;34m[\u001b[0m\u001b[0;36m1\u001b[0m\u001b[0;34m,\u001b[0m\u001b[0;36m2\u001b[0m\u001b[0;34m,\u001b[0m\u001b[0;36m2\u001b[0m\u001b[0;34m,\u001b[0m\u001b[0;36m3\u001b[0m\u001b[0;34m]\u001b[0m\u001b[0;34m)\u001b[0m\u001b[0;34m\u001b[0m\u001b[0;34m\u001b[0m\u001b[0m\n",
            "\u001b[0;31mTypeError\u001b[0m: 'list' object is not callable"
          ]
        }
      ],
      "source": [
        "def drop_duplicates(list):\n",
        "  return\n",
        "\n",
        "drop_duplicates([1,2,2,3])\n"
      ]
    },
    {
      "cell_type": "code",
      "source": [
        "import random as random\n",
        "\n",
        "def get_index(list):\n",
        "    number = max(list)\n",
        "    print(number)\n",
        "    count = list.count(number)\n",
        "    value_to_select = random.randint(1, count)\n",
        "    times = 0\n",
        "    index = 0\n",
        "    for num in list:\n",
        "        if num == number:\n",
        "            times = times +1\n",
        "            if times == value_to_select:\n",
        "                print(index)\n",
        "        index = index +1\n",
        "    return\n",
        "    # return print(index)\n",
        "\n",
        "get_index([15, 1,10,2, 15, 4,10, 11, 12,13, 15])"
      ],
      "metadata": {
        "id": "U7eyOPopms05",
        "outputId": "66a68fab-da89-46ea-bb7e-b1d108583fc4",
        "colab": {
          "base_uri": "https://localhost:8080/"
        }
      },
      "id": "U7eyOPopms05",
      "execution_count": 53,
      "outputs": [
        {
          "output_type": "stream",
          "name": "stdout",
          "text": [
            "15\n",
            "4\n"
          ]
        }
      ]
    },
    {
      "cell_type": "code",
      "source": [],
      "metadata": {
        "id": "_LHrIH02sQSa"
      },
      "id": "_LHrIH02sQSa",
      "execution_count": null,
      "outputs": []
    },
    {
      "cell_type": "markdown",
      "id": "e7f0f536",
      "metadata": {
        "id": "e7f0f536"
      },
      "source": [
        "## Ejercicio 10: Palíndromo\n",
        "- Descripción: Escribe una función que determine si una cadena de texto es un palíndromo.\n",
        "- Parámetros: texto (str)\n",
        "- Retorno: True si el texto es un palíndromo, de lo contrario False.\n",
        "- Ejemplo: es_palindromo(\"anilina\") retorna True."
      ]
    },
    {
      "cell_type": "code",
      "execution_count": null,
      "id": "77d868b7",
      "metadata": {
        "vscode": {
          "languageId": "plaintext"
        },
        "id": "77d868b7"
      },
      "outputs": [],
      "source": []
    },
    {
      "cell_type": "markdown",
      "id": "7618624f",
      "metadata": {
        "id": "7618624f"
      },
      "source": [
        "# Nivel Difícil\n",
        "\n",
        "## Ejercicio 11: Números primos\n",
        "- Descripción: Escribe una función que genere una lista de todos los números primos hasta n.\n",
        "- Parámetros: n (int)\n",
        "- Retorno: Lista de números primos hasta n (List[int]).\n",
        "- Ejemplo: numeros_primos(10) retorna [2, 3, 5, 7]."
      ]
    },
    {
      "cell_type": "code",
      "execution_count": null,
      "id": "be9ee9ac",
      "metadata": {
        "vscode": {
          "languageId": "plaintext"
        },
        "id": "be9ee9ac"
      },
      "outputs": [],
      "source": []
    },
    {
      "cell_type": "markdown",
      "id": "1ef5680b",
      "metadata": {
        "id": "1ef5680b"
      },
      "source": [
        "## Ejercicio 12: Agrupar anagramas\n",
        "- Descripción: Escribe una función que agrupe palabras que son anagramas entre sí dada una lista de palabras.\n",
        "- Parámetros: palabras (List[str])\n",
        "- Retorno: Lista de listas con los grupos de anagramas (List[List[str]]).\n",
        "- Ejemplo: agrupar_anagramas([\"amor\", \"roma\", \"luz\", \"zul\"]) retorna [[\"amor\", \"roma\"], [\"luz\", \"zul\"]]."
      ]
    },
    {
      "cell_type": "code",
      "execution_count": null,
      "id": "6d663ce9",
      "metadata": {
        "vscode": {
          "languageId": "plaintext"
        },
        "id": "6d663ce9"
      },
      "outputs": [],
      "source": []
    },
    {
      "cell_type": "markdown",
      "id": "0ee82882",
      "metadata": {
        "id": "0ee82882"
      },
      "source": [
        "## Ejercicio 13: Codificar RLE\n",
        "- Descripción: Escribe una función que implemente la codificación por longitud de ejecución (Run-Length Encoding, RLE) para una cadena de texto.\n",
        "- Parámetros: texto (str)\n",
        "- Retorno: Texto codificado con RLE (str).\n",
        "- Ejemplo: codificar_rle(\"aabccc\") retorna \"2a1b3c\"."
      ]
    },
    {
      "cell_type": "code",
      "execution_count": null,
      "id": "3bbb4323",
      "metadata": {
        "vscode": {
          "languageId": "plaintext"
        },
        "id": "3bbb4323"
      },
      "outputs": [],
      "source": []
    },
    {
      "cell_type": "markdown",
      "id": "44ec975d",
      "metadata": {
        "id": "44ec975d"
      },
      "source": [
        "## Ejercicio 14: Sudoku\n",
        "- Descripción: Escribe una función que verifique si una solución de Sudoku es válida.\n",
        "- Parámetros: tablero (List[List[int]])\n",
        "- Retorno: True si la solución es válida, de lo contrario False.\n",
        "- Ejemplo: Verificación de un tablero de Sudoku."
      ]
    },
    {
      "cell_type": "code",
      "execution_count": null,
      "id": "b95c256f",
      "metadata": {
        "vscode": {
          "languageId": "plaintext"
        },
        "id": "b95c256f"
      },
      "outputs": [],
      "source": []
    },
    {
      "cell_type": "markdown",
      "id": "06f07636",
      "metadata": {
        "id": "06f07636"
      },
      "source": [
        "## Ejercicio 15: Buscar en rotación\n",
        "- Descripción: Escribe una función que busque un elemento en una lista que ha sido rotada.\n",
        "- Parámetros: lista (List[int]), objetivo (int)\n",
        "- Retorno: Índice del objetivo en la lista o -1 si no se encuentra (int).\n",
        "- Ejemplo: buscar_en_rotacion([4,5,6,7,0,1,2], 0) retorna 4."
      ]
    },
    {
      "cell_type": "code",
      "execution_count": null,
      "id": "b373bbc3",
      "metadata": {
        "vscode": {
          "languageId": "plaintext"
        },
        "id": "b373bbc3"
      },
      "outputs": [],
      "source": []
    }
  ],
  "metadata": {
    "language_info": {
      "name": "python"
    },
    "colab": {
      "provenance": [],
      "include_colab_link": true
    },
    "kernelspec": {
      "name": "python3",
      "display_name": "Python 3"
    }
  },
  "nbformat": 4,
  "nbformat_minor": 5
}