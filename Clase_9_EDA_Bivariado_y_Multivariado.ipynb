{
  "cells": [
    {
      "cell_type": "markdown",
      "metadata": {
        "colab_type": "text",
        "id": "view-in-github"
      },
      "source": [
        "<a href=\"https://colab.research.google.com/github/jazaineam1/Andes_ADDBD/blob/main/Sesion9/Clase_9_EDA_Bivariado_y_Multivariado.ipynb\" target=\"_parent\"><img src=\"https://colab.research.google.com/assets/colab-badge.svg\" alt=\"Open In Colab\"/></a>"
      ]
    },
    {
      "cell_type": "markdown",
      "metadata": {
        "id": "gtLXXSiV48Ax"
      },
      "source": [
        "# ***Análisis de Datos y Big data***\n",
        "\n",
        "## ***Universidad de los Andes***\n",
        ">## **Dirección de Educación Continua.**\n",
        ">>## **Formación de habilidades escenciales.**\n",
        "\n",
        "![Imágen1](https://github.com/jazaineam1/Andes_ADDBD/blob/main/Imagenes/Presentaci%C3%B3n-removebg-preview.png?raw=true)\n",
        "\n",
        "**Ver la presentación  [acá](https://github.com/jazaineam1/Andes_ADDBD/raw/main/Sesion9/Clase%209%20-%20An%C3%A1lisis%20exploratorio%20de%20datos.pdf)**\n",
        "\n",
        "# Análisis Bivariado\n",
        "\n",
        "En este notebook, vamos a:\n",
        "* Aprender a calcular la correlación entre dos variables\n",
        "* Trabajar cómo se puede interpretar la correlación lineal\n",
        "* Aplicar el concepto de correlación con datos reales"
      ]
    },
    {
      "cell_type": "markdown",
      "metadata": {
        "id": "OKVyZmD65jG4"
      },
      "source": [
        "Primero vamos a importar nuestras librerías de trabajo"
      ]
    },
    {
      "cell_type": "code",
      "execution_count": 1,
      "metadata": {
        "id": "yjQMD-XTeJw6"
      },
      "outputs": [],
      "source": [
        "# importar librerías\n",
        "import pandas as pd\n",
        "import matplotlib.pyplot as plt\n",
        "import numpy as np"
      ]
    },
    {
      "cell_type": "markdown",
      "metadata": {
        "id": "vNNAiz96prKJ"
      },
      "source": [
        "## Carga de datos"
      ]
    },
    {
      "cell_type": "markdown",
      "metadata": {
        "id": "xwpovj4Q6mXO"
      },
      "source": [
        "### Carga de datos - Líderes"
      ]
    },
    {
      "cell_type": "code",
      "execution_count": 2,
      "metadata": {
        "colab": {
          "base_uri": "https://localhost:8080/"
        },
        "id": "MFnywyTWnrTd",
        "outputId": "8ff176c4-8033-46ca-b428-ef196ccd8e97"
      },
      "outputs": [
        {
          "name": "stderr",
          "output_type": "stream",
          "text": [
            "\"wget\" no se reconoce como un comando interno o externo,\n",
            "programa o archivo por lotes ejecutable.\n"
          ]
        }
      ],
      "source": [
        "!wget https://github.com/jazaineam1/Andes_ADDBD/raw/main/Sesion9/asesinatos_lideres.xlsx"
      ]
    },
    {
      "cell_type": "code",
      "execution_count": 3,
      "metadata": {
        "colab": {
          "base_uri": "https://localhost:8080/",
          "height": 206
        },
        "id": "ar6Dmj69lLny",
        "outputId": "6a9781ce-9078-4fd6-9bf6-931e7ab21348"
      },
      "outputs": [
        {
          "data": {
            "text/html": [
              "<div>\n",
              "<style scoped>\n",
              "    .dataframe tbody tr th:only-of-type {\n",
              "        vertical-align: middle;\n",
              "    }\n",
              "\n",
              "    .dataframe tbody tr th {\n",
              "        vertical-align: top;\n",
              "    }\n",
              "\n",
              "    .dataframe thead th {\n",
              "        text-align: right;\n",
              "    }\n",
              "</style>\n",
              "<table border=\"1\" class=\"dataframe\">\n",
              "  <thead>\n",
              "    <tr style=\"text-align: right;\">\n",
              "      <th></th>\n",
              "      <th>id</th>\n",
              "      <th>nombre</th>\n",
              "      <th>fuentes</th>\n",
              "      <th>genero</th>\n",
              "      <th>fecha</th>\n",
              "      <th>municipio</th>\n",
              "      <th>departamento</th>\n",
              "      <th>tipo_de_lider</th>\n",
              "      <th>cargo</th>\n",
              "      <th>movil</th>\n",
              "      <th>persona_cercana</th>\n",
              "      <th>otros</th>\n",
              "      <th>fuentes_prensa</th>\n",
              "    </tr>\n",
              "  </thead>\n",
              "  <tbody>\n",
              "    <tr>\n",
              "      <th>0</th>\n",
              "      <td>francisco-jaramillo-moreno</td>\n",
              "      <td>Francisco Jaramillo Moreno</td>\n",
              "      <td>Prensa,Indepaz,Col. Abogados JAR</td>\n",
              "      <td>Masculino</td>\n",
              "      <td>2016-01-02</td>\n",
              "      <td>Briceño</td>\n",
              "      <td>Antioquia</td>\n",
              "      <td>Líder campesino o agrario</td>\n",
              "      <td>NaN</td>\n",
              "      <td>El 1 de enero de 2016 desaparecieron dos herma...</td>\n",
              "      <td>NaN</td>\n",
              "      <td>NaN</td>\n",
              "      <td>http://prensarural.org/spip/spip.php?article18439</td>\n",
              "    </tr>\n",
              "    <tr>\n",
              "      <th>1</th>\n",
              "      <td>victor-jaramillo-moreno</td>\n",
              "      <td>Víctor Jaramillo Moreno</td>\n",
              "      <td>Prensa,Indepaz,Col. Abogados JAR</td>\n",
              "      <td>Masculino</td>\n",
              "      <td>2016-01-02</td>\n",
              "      <td>Briceño</td>\n",
              "      <td>Antioquia</td>\n",
              "      <td>Líder campesino o agrario</td>\n",
              "      <td>Campesino</td>\n",
              "      <td>El 1 de enero de 2016 desaparecieron dos herma...</td>\n",
              "      <td>NaN</td>\n",
              "      <td>NaN</td>\n",
              "      <td>http://prensarural.org/spip/spip.php?article18439</td>\n",
              "    </tr>\n",
              "    <tr>\n",
              "      <th>2</th>\n",
              "      <td>gilberto-de-jesus-quintero</td>\n",
              "      <td>Gilberto de Jesús Quintero</td>\n",
              "      <td>Prensa</td>\n",
              "      <td>Masculino</td>\n",
              "      <td>2016-02-29</td>\n",
              "      <td>Tarazá</td>\n",
              "      <td>Antioquia</td>\n",
              "      <td>Líder comunal - JAC</td>\n",
              "      <td>NaN</td>\n",
              "      <td>NaN</td>\n",
              "      <td>NaN</td>\n",
              "      <td>NaN</td>\n",
              "      <td>https://redhuerteros.org/b410&amp;registros=10&amp;pag...</td>\n",
              "    </tr>\n",
              "    <tr>\n",
              "      <th>3</th>\n",
              "      <td>william-castillo-chima</td>\n",
              "      <td>William Castillo Chima</td>\n",
              "      <td>Indepaz,Somos Defensores,Cinep Noche y Niebla,...</td>\n",
              "      <td>Masculino</td>\n",
              "      <td>2016-03-07</td>\n",
              "      <td>El Bagre</td>\n",
              "      <td>Antioquia</td>\n",
              "      <td>Líder campesino o agrario</td>\n",
              "      <td>NaN</td>\n",
              "      <td>NaN</td>\n",
              "      <td>NaN</td>\n",
              "      <td>NaN</td>\n",
              "      <td>http://www.telesurtv.net/news/Asesinan-a-lider...</td>\n",
              "    </tr>\n",
              "    <tr>\n",
              "      <th>4</th>\n",
              "      <td>wilson-hoyos-olano</td>\n",
              "      <td>Wilson Hoyos Olano</td>\n",
              "      <td>Indepaz,Somos Defensores,Col. Abogados JAR</td>\n",
              "      <td>Masculino</td>\n",
              "      <td>2016-04-28</td>\n",
              "      <td>El Bagre</td>\n",
              "      <td>Antioquia</td>\n",
              "      <td>Líder comunitario</td>\n",
              "      <td>NaN</td>\n",
              "      <td>NaN</td>\n",
              "      <td>NaN</td>\n",
              "      <td>NaN</td>\n",
              "      <td>http://caracol.com.co/emisora/2016/04/28/medel...</td>\n",
              "    </tr>\n",
              "  </tbody>\n",
              "</table>\n",
              "</div>"
            ],
            "text/plain": [
              "                           id                      nombre  \\\n",
              "0  francisco-jaramillo-moreno  Francisco Jaramillo Moreno   \n",
              "1     victor-jaramillo-moreno     Víctor Jaramillo Moreno   \n",
              "2  gilberto-de-jesus-quintero  Gilberto de Jesús Quintero   \n",
              "3      william-castillo-chima      William Castillo Chima   \n",
              "4          wilson-hoyos-olano          Wilson Hoyos Olano   \n",
              "\n",
              "                                             fuentes     genero      fecha  \\\n",
              "0                   Prensa,Indepaz,Col. Abogados JAR  Masculino 2016-01-02   \n",
              "1                   Prensa,Indepaz,Col. Abogados JAR  Masculino 2016-01-02   \n",
              "2                                             Prensa  Masculino 2016-02-29   \n",
              "3  Indepaz,Somos Defensores,Cinep Noche y Niebla,...  Masculino 2016-03-07   \n",
              "4         Indepaz,Somos Defensores,Col. Abogados JAR  Masculino 2016-04-28   \n",
              "\n",
              "  municipio departamento              tipo_de_lider      cargo  \\\n",
              "0   Briceño    Antioquia  Líder campesino o agrario        NaN   \n",
              "1   Briceño    Antioquia  Líder campesino o agrario  Campesino   \n",
              "2    Tarazá    Antioquia        Líder comunal - JAC        NaN   \n",
              "3  El Bagre    Antioquia  Líder campesino o agrario        NaN   \n",
              "4  El Bagre    Antioquia          Líder comunitario        NaN   \n",
              "\n",
              "                                               movil persona_cercana otros  \\\n",
              "0  El 1 de enero de 2016 desaparecieron dos herma...             NaN   NaN   \n",
              "1  El 1 de enero de 2016 desaparecieron dos herma...             NaN   NaN   \n",
              "2                                                NaN             NaN   NaN   \n",
              "3                                                NaN             NaN   NaN   \n",
              "4                                                NaN             NaN   NaN   \n",
              "\n",
              "                                      fuentes_prensa  \n",
              "0  http://prensarural.org/spip/spip.php?article18439  \n",
              "1  http://prensarural.org/spip/spip.php?article18439  \n",
              "2  https://redhuerteros.org/b410&registros=10&pag...  \n",
              "3  http://www.telesurtv.net/news/Asesinan-a-lider...  \n",
              "4  http://caracol.com.co/emisora/2016/04/28/medel...  "
            ]
          },
          "execution_count": 3,
          "metadata": {},
          "output_type": "execute_result"
        }
      ],
      "source": [
        "# Base de datos de líderes sociales asesinados\n",
        "df_lideres = pd.read_excel('asesinatos_lideres.xlsx')\n",
        "df_lideres.head()"
      ]
    },
    {
      "cell_type": "markdown",
      "metadata": {
        "id": "6RY3V03T55fP"
      },
      "source": [
        "Para caracterizar los datos, realizaremos un describe y un shape"
      ]
    },
    {
      "cell_type": "code",
      "execution_count": 4,
      "metadata": {
        "colab": {
          "base_uri": "https://localhost:8080/",
          "height": 269
        },
        "id": "2I4UE_ZI54we",
        "outputId": "7631c7c1-019a-4327-9b6a-97ee266bcd08"
      },
      "outputs": [
        {
          "data": {
            "text/html": [
              "<div>\n",
              "<style scoped>\n",
              "    .dataframe tbody tr th:only-of-type {\n",
              "        vertical-align: middle;\n",
              "    }\n",
              "\n",
              "    .dataframe tbody tr th {\n",
              "        vertical-align: top;\n",
              "    }\n",
              "\n",
              "    .dataframe thead th {\n",
              "        text-align: right;\n",
              "    }\n",
              "</style>\n",
              "<table border=\"1\" class=\"dataframe\">\n",
              "  <thead>\n",
              "    <tr style=\"text-align: right;\">\n",
              "      <th></th>\n",
              "      <th>fecha</th>\n",
              "    </tr>\n",
              "  </thead>\n",
              "  <tbody>\n",
              "    <tr>\n",
              "      <th>count</th>\n",
              "      <td>696</td>\n",
              "    </tr>\n",
              "    <tr>\n",
              "      <th>mean</th>\n",
              "      <td>2018-03-10 03:00:00</td>\n",
              "    </tr>\n",
              "    <tr>\n",
              "      <th>min</th>\n",
              "      <td>2016-01-02 00:00:00</td>\n",
              "    </tr>\n",
              "    <tr>\n",
              "      <th>25%</th>\n",
              "      <td>2017-02-22 00:00:00</td>\n",
              "    </tr>\n",
              "    <tr>\n",
              "      <th>50%</th>\n",
              "      <td>2018-03-13 12:00:00</td>\n",
              "    </tr>\n",
              "    <tr>\n",
              "      <th>75%</th>\n",
              "      <td>2019-01-19 00:00:00</td>\n",
              "    </tr>\n",
              "    <tr>\n",
              "      <th>max</th>\n",
              "      <td>2020-05-29 00:00:00</td>\n",
              "    </tr>\n",
              "  </tbody>\n",
              "</table>\n",
              "</div>"
            ],
            "text/plain": [
              "                     fecha\n",
              "count                  696\n",
              "mean   2018-03-10 03:00:00\n",
              "min    2016-01-02 00:00:00\n",
              "25%    2017-02-22 00:00:00\n",
              "50%    2018-03-13 12:00:00\n",
              "75%    2019-01-19 00:00:00\n",
              "max    2020-05-29 00:00:00"
            ]
          },
          "execution_count": 4,
          "metadata": {},
          "output_type": "execute_result"
        }
      ],
      "source": [
        "df_lideres.describe()"
      ]
    },
    {
      "cell_type": "markdown",
      "metadata": {
        "id": "2SpmvyMg6V_1"
      },
      "source": [
        "¿Qué notas tendríamos sobre este data frame? Si la mayoría de variables son categoricas ¿Cómo podemos usarla en un análisis de correlación?"
      ]
    },
    {
      "cell_type": "markdown",
      "metadata": {
        "id": "h3J2L1ABEZqo"
      },
      "source": [
        "### Carga de datos - Restitución"
      ]
    },
    {
      "cell_type": "code",
      "execution_count": 5,
      "metadata": {
        "colab": {
          "base_uri": "https://localhost:8080/",
          "height": 206
        },
        "id": "S8yyM4OZlpB3",
        "outputId": "a84cd4ca-2205-4f61-d360-8c9665fa3f65"
      },
      "outputs": [
        {
          "data": {
            "text/html": [
              "<div>\n",
              "<style scoped>\n",
              "    .dataframe tbody tr th:only-of-type {\n",
              "        vertical-align: middle;\n",
              "    }\n",
              "\n",
              "    .dataframe tbody tr th {\n",
              "        vertical-align: top;\n",
              "    }\n",
              "\n",
              "    .dataframe thead th {\n",
              "        text-align: right;\n",
              "    }\n",
              "</style>\n",
              "<table border=\"1\" class=\"dataframe\">\n",
              "  <thead>\n",
              "    <tr style=\"text-align: right;\">\n",
              "      <th></th>\n",
              "      <th>DepartamentoDelPredio</th>\n",
              "      <th>MunicipioDelPredio</th>\n",
              "      <th>CodigoDANE</th>\n",
              "      <th>NumeroDeSolicitudes</th>\n",
              "      <th>NumeroDePredios</th>\n",
              "      <th>NumeroDeTitulares</th>\n",
              "    </tr>\n",
              "  </thead>\n",
              "  <tbody>\n",
              "    <tr>\n",
              "      <th>0</th>\n",
              "      <td>Bolívar</td>\n",
              "      <td>Cantagallo</td>\n",
              "      <td>13160</td>\n",
              "      <td>112</td>\n",
              "      <td>102</td>\n",
              "      <td>99</td>\n",
              "    </tr>\n",
              "    <tr>\n",
              "      <th>1</th>\n",
              "      <td>Santander</td>\n",
              "      <td>San Benito</td>\n",
              "      <td>68673</td>\n",
              "      <td>2</td>\n",
              "      <td>2</td>\n",
              "      <td>2</td>\n",
              "    </tr>\n",
              "    <tr>\n",
              "      <th>2</th>\n",
              "      <td>Santander</td>\n",
              "      <td>Aguada</td>\n",
              "      <td>68013</td>\n",
              "      <td>3</td>\n",
              "      <td>3</td>\n",
              "      <td>2</td>\n",
              "    </tr>\n",
              "    <tr>\n",
              "      <th>3</th>\n",
              "      <td>Nariño</td>\n",
              "      <td>Chachagüí</td>\n",
              "      <td>52240</td>\n",
              "      <td>5</td>\n",
              "      <td>5</td>\n",
              "      <td>5</td>\n",
              "    </tr>\n",
              "    <tr>\n",
              "      <th>4</th>\n",
              "      <td>Casanare</td>\n",
              "      <td>Recetor</td>\n",
              "      <td>85279</td>\n",
              "      <td>15</td>\n",
              "      <td>14</td>\n",
              "      <td>13</td>\n",
              "    </tr>\n",
              "  </tbody>\n",
              "</table>\n",
              "</div>"
            ],
            "text/plain": [
              "  DepartamentoDelPredio MunicipioDelPredio  CodigoDANE  NumeroDeSolicitudes  \\\n",
              "0               Bolívar         Cantagallo       13160                  112   \n",
              "1             Santander         San Benito       68673                    2   \n",
              "2             Santander             Aguada       68013                    3   \n",
              "3                Nariño          Chachagüí       52240                    5   \n",
              "4              Casanare            Recetor       85279                   15   \n",
              "\n",
              "   NumeroDePredios  NumeroDeTitulares  \n",
              "0              102                 99  \n",
              "1                2                  2  \n",
              "2                3                  2  \n",
              "3                5                  5  \n",
              "4               14                 13  "
            ]
          },
          "execution_count": 5,
          "metadata": {},
          "output_type": "execute_result"
        }
      ],
      "source": [
        "df_restitucion = pd.read_csv('https://raw.githubusercontent.com/jazaineam1/Andes_ADDBD/main/Sesion9/restitucion_tierras_21_03.csv', delimiter=';')\n",
        "df_restitucion.head()"
      ]
    },
    {
      "cell_type": "code",
      "execution_count": 6,
      "metadata": {
        "id": "eG6nkAqlqzdW"
      },
      "outputs": [],
      "source": [
        "nuevos_nombres = {'DepartamentoDelPredio': 'departamento', 'MunicipioDelPredio': 'municipio'}\n",
        "df_restitucion.rename(columns=nuevos_nombres, inplace=True)"
      ]
    },
    {
      "cell_type": "markdown",
      "metadata": {
        "id": "5phhsRSWplUT"
      },
      "source": [
        "## Análisis de correlación\n",
        "\n",
        "Entre el número de solicitudes de restitución de tierra y la cantidad de líderes sociales asesinados"
      ]
    },
    {
      "cell_type": "code",
      "execution_count": 7,
      "metadata": {
        "colab": {
          "base_uri": "https://localhost:8080/"
        },
        "id": "HEJVxUyMoMt5",
        "outputId": "050f68c0-19e9-4ca3-cc64-e9514f157ebc"
      },
      "outputs": [
        {
          "data": {
            "text/plain": [
              "Index(['id', 'nombre', 'fuentes', 'genero', 'fecha', 'municipio',\n",
              "       'departamento', 'tipo_de_lider', 'cargo', 'movil', 'persona_cercana',\n",
              "       'otros', 'fuentes_prensa'],\n",
              "      dtype='object')"
            ]
          },
          "execution_count": 7,
          "metadata": {},
          "output_type": "execute_result"
        }
      ],
      "source": [
        "df_lideres.columns"
      ]
    },
    {
      "cell_type": "code",
      "execution_count": 8,
      "metadata": {
        "id": "pbPX_ZXvlUGM"
      },
      "outputs": [],
      "source": [
        "# Agrupamos los líderes por departamento y municipio. Realizamos un conteo de registros\n",
        "df_lideres_municipio=df_lideres.groupby(['departamento', 'municipio']).size().reset_index(name='Cantidad de Personas')"
      ]
    },
    {
      "cell_type": "code",
      "execution_count": 9,
      "metadata": {
        "colab": {
          "base_uri": "https://localhost:8080/"
        },
        "id": "XT_KQYkaoUfq",
        "outputId": "e532e1a7-4149-473e-b4cc-0237212b35d2"
      },
      "outputs": [
        {
          "data": {
            "text/plain": [
              "(287, 3)"
            ]
          },
          "execution_count": 9,
          "metadata": {},
          "output_type": "execute_result"
        }
      ],
      "source": [
        "df_lideres_municipio = df_lideres_municipio.sort_values('Cantidad de Personas', ascending=False)\n",
        "df_lideres_municipio.shape"
      ]
    },
    {
      "cell_type": "code",
      "execution_count": 10,
      "metadata": {
        "colab": {
          "base_uri": "https://localhost:8080/",
          "height": 206
        },
        "id": "gvqzaWfa7CI4",
        "outputId": "7c24dfb2-00ea-438c-e29e-bd24ed68103a"
      },
      "outputs": [
        {
          "data": {
            "text/html": [
              "<div>\n",
              "<style scoped>\n",
              "    .dataframe tbody tr th:only-of-type {\n",
              "        vertical-align: middle;\n",
              "    }\n",
              "\n",
              "    .dataframe tbody tr th {\n",
              "        vertical-align: top;\n",
              "    }\n",
              "\n",
              "    .dataframe thead th {\n",
              "        text-align: right;\n",
              "    }\n",
              "</style>\n",
              "<table border=\"1\" class=\"dataframe\">\n",
              "  <thead>\n",
              "    <tr style=\"text-align: right;\">\n",
              "      <th></th>\n",
              "      <th>departamento</th>\n",
              "      <th>municipio</th>\n",
              "      <th>Cantidad de Personas</th>\n",
              "    </tr>\n",
              "  </thead>\n",
              "  <tbody>\n",
              "    <tr>\n",
              "      <th>211</th>\n",
              "      <td>Nariño</td>\n",
              "      <td>Tumaco</td>\n",
              "      <td>31</td>\n",
              "    </tr>\n",
              "    <tr>\n",
              "      <th>93</th>\n",
              "      <td>Cauca</td>\n",
              "      <td>Caloto</td>\n",
              "      <td>22</td>\n",
              "    </tr>\n",
              "    <tr>\n",
              "      <th>95</th>\n",
              "      <td>Cauca</td>\n",
              "      <td>Corinto</td>\n",
              "      <td>21</td>\n",
              "    </tr>\n",
              "    <tr>\n",
              "      <th>268</th>\n",
              "      <td>Valle del Cauca</td>\n",
              "      <td>Buenaventura</td>\n",
              "      <td>14</td>\n",
              "    </tr>\n",
              "    <tr>\n",
              "      <th>97</th>\n",
              "      <td>Cauca</td>\n",
              "      <td>El Tambo</td>\n",
              "      <td>14</td>\n",
              "    </tr>\n",
              "  </tbody>\n",
              "</table>\n",
              "</div>"
            ],
            "text/plain": [
              "        departamento     municipio  Cantidad de Personas\n",
              "211           Nariño        Tumaco                    31\n",
              "93             Cauca        Caloto                    22\n",
              "95             Cauca       Corinto                    21\n",
              "268  Valle del Cauca  Buenaventura                    14\n",
              "97             Cauca      El Tambo                    14"
            ]
          },
          "execution_count": 10,
          "metadata": {},
          "output_type": "execute_result"
        }
      ],
      "source": [
        "df_lideres_municipio.head()"
      ]
    },
    {
      "cell_type": "markdown",
      "metadata": {
        "id": "MYIC1RxL7KK5"
      },
      "source": [
        "¿Con que llave podríamos unir los datos de lideres sociales asesinados con la base de restitución? ¿Ambas bases corresponden a la misma ventana de tiempo? ¿Qué consideraciones deberíamos tener en cuenta?"
      ]
    },
    {
      "cell_type": "code",
      "execution_count": 11,
      "metadata": {
        "colab": {
          "base_uri": "https://localhost:8080/"
        },
        "id": "D_AezkdAm_3c",
        "outputId": "9d4deddf-0a61-4c10-e4e1-20909bdb6355"
      },
      "outputs": [
        {
          "data": {
            "text/plain": [
              "(172, 7)"
            ]
          },
          "execution_count": 11,
          "metadata": {},
          "output_type": "execute_result"
        }
      ],
      "source": [
        "# Generamos una unión (join) de ambas bases usando el nombre del municipio y del departamento\n",
        "df_tabla_municipio = pd.merge(df_lideres_municipio, df_restitucion, on=['departamento','municipio'], how='inner')\n",
        "df_tabla_municipio.shape"
      ]
    },
    {
      "cell_type": "code",
      "execution_count": 12,
      "metadata": {
        "colab": {
          "base_uri": "https://localhost:8080/",
          "height": 423
        },
        "id": "wQn4kz2Xst7P",
        "outputId": "cf7da810-29e7-4ff0-dbb7-c3463221aa01"
      },
      "outputs": [
        {
          "data": {
            "text/html": [
              "<div>\n",
              "<style scoped>\n",
              "    .dataframe tbody tr th:only-of-type {\n",
              "        vertical-align: middle;\n",
              "    }\n",
              "\n",
              "    .dataframe tbody tr th {\n",
              "        vertical-align: top;\n",
              "    }\n",
              "\n",
              "    .dataframe thead th {\n",
              "        text-align: right;\n",
              "    }\n",
              "</style>\n",
              "<table border=\"1\" class=\"dataframe\">\n",
              "  <thead>\n",
              "    <tr style=\"text-align: right;\">\n",
              "      <th></th>\n",
              "      <th>departamento</th>\n",
              "      <th>municipio</th>\n",
              "      <th>Cantidad de Personas</th>\n",
              "      <th>CodigoDANE</th>\n",
              "      <th>NumeroDeSolicitudes</th>\n",
              "      <th>NumeroDePredios</th>\n",
              "      <th>NumeroDeTitulares</th>\n",
              "    </tr>\n",
              "  </thead>\n",
              "  <tbody>\n",
              "    <tr>\n",
              "      <th>0</th>\n",
              "      <td>Nariño</td>\n",
              "      <td>Tumaco</td>\n",
              "      <td>31</td>\n",
              "      <td>52835</td>\n",
              "      <td>1631</td>\n",
              "      <td>1449</td>\n",
              "      <td>1251</td>\n",
              "    </tr>\n",
              "    <tr>\n",
              "      <th>1</th>\n",
              "      <td>Cauca</td>\n",
              "      <td>Caloto</td>\n",
              "      <td>22</td>\n",
              "      <td>19142</td>\n",
              "      <td>66</td>\n",
              "      <td>54</td>\n",
              "      <td>55</td>\n",
              "    </tr>\n",
              "    <tr>\n",
              "      <th>2</th>\n",
              "      <td>Cauca</td>\n",
              "      <td>Corinto</td>\n",
              "      <td>21</td>\n",
              "      <td>19212</td>\n",
              "      <td>97</td>\n",
              "      <td>88</td>\n",
              "      <td>86</td>\n",
              "    </tr>\n",
              "    <tr>\n",
              "      <th>3</th>\n",
              "      <td>Cauca</td>\n",
              "      <td>El Tambo</td>\n",
              "      <td>14</td>\n",
              "      <td>19256</td>\n",
              "      <td>783</td>\n",
              "      <td>724</td>\n",
              "      <td>641</td>\n",
              "    </tr>\n",
              "    <tr>\n",
              "      <th>4</th>\n",
              "      <td>Antioquia</td>\n",
              "      <td>Tarazá</td>\n",
              "      <td>12</td>\n",
              "      <td>5790</td>\n",
              "      <td>510</td>\n",
              "      <td>480</td>\n",
              "      <td>438</td>\n",
              "    </tr>\n",
              "    <tr>\n",
              "      <th>...</th>\n",
              "      <td>...</td>\n",
              "      <td>...</td>\n",
              "      <td>...</td>\n",
              "      <td>...</td>\n",
              "      <td>...</td>\n",
              "      <td>...</td>\n",
              "      <td>...</td>\n",
              "    </tr>\n",
              "    <tr>\n",
              "      <th>167</th>\n",
              "      <td>Cauca</td>\n",
              "      <td>Villa Rica</td>\n",
              "      <td>1</td>\n",
              "      <td>19845</td>\n",
              "      <td>5</td>\n",
              "      <td>5</td>\n",
              "      <td>5</td>\n",
              "    </tr>\n",
              "    <tr>\n",
              "      <th>168</th>\n",
              "      <td>Cesar</td>\n",
              "      <td>Becerril</td>\n",
              "      <td>1</td>\n",
              "      <td>20045</td>\n",
              "      <td>523</td>\n",
              "      <td>406</td>\n",
              "      <td>434</td>\n",
              "    </tr>\n",
              "    <tr>\n",
              "      <th>169</th>\n",
              "      <td>Cesar</td>\n",
              "      <td>Chimichagua</td>\n",
              "      <td>1</td>\n",
              "      <td>20175</td>\n",
              "      <td>191</td>\n",
              "      <td>177</td>\n",
              "      <td>153</td>\n",
              "    </tr>\n",
              "    <tr>\n",
              "      <th>170</th>\n",
              "      <td>Cesar</td>\n",
              "      <td>Chiriguaná</td>\n",
              "      <td>1</td>\n",
              "      <td>20178</td>\n",
              "      <td>234</td>\n",
              "      <td>188</td>\n",
              "      <td>200</td>\n",
              "    </tr>\n",
              "    <tr>\n",
              "      <th>171</th>\n",
              "      <td>Cesar</td>\n",
              "      <td>Valledupar</td>\n",
              "      <td>1</td>\n",
              "      <td>20001</td>\n",
              "      <td>1284</td>\n",
              "      <td>1105</td>\n",
              "      <td>958</td>\n",
              "    </tr>\n",
              "  </tbody>\n",
              "</table>\n",
              "<p>172 rows × 7 columns</p>\n",
              "</div>"
            ],
            "text/plain": [
              "    departamento    municipio  Cantidad de Personas  CodigoDANE  \\\n",
              "0         Nariño       Tumaco                    31       52835   \n",
              "1          Cauca       Caloto                    22       19142   \n",
              "2          Cauca      Corinto                    21       19212   \n",
              "3          Cauca     El Tambo                    14       19256   \n",
              "4      Antioquia       Tarazá                    12        5790   \n",
              "..           ...          ...                   ...         ...   \n",
              "167        Cauca   Villa Rica                     1       19845   \n",
              "168        Cesar     Becerril                     1       20045   \n",
              "169        Cesar  Chimichagua                     1       20175   \n",
              "170        Cesar   Chiriguaná                     1       20178   \n",
              "171        Cesar   Valledupar                     1       20001   \n",
              "\n",
              "     NumeroDeSolicitudes  NumeroDePredios  NumeroDeTitulares  \n",
              "0                   1631             1449               1251  \n",
              "1                     66               54                 55  \n",
              "2                     97               88                 86  \n",
              "3                    783              724                641  \n",
              "4                    510              480                438  \n",
              "..                   ...              ...                ...  \n",
              "167                    5                5                  5  \n",
              "168                  523              406                434  \n",
              "169                  191              177                153  \n",
              "170                  234              188                200  \n",
              "171                 1284             1105                958  \n",
              "\n",
              "[172 rows x 7 columns]"
            ]
          },
          "execution_count": 12,
          "metadata": {},
          "output_type": "execute_result"
        }
      ],
      "source": [
        "df_tabla_municipio"
      ]
    },
    {
      "cell_type": "code",
      "execution_count": 13,
      "metadata": {
        "colab": {
          "base_uri": "https://localhost:8080/"
        },
        "id": "ZuRm1-k5toKe",
        "outputId": "971785b1-6aa8-43eb-d856-17dfc92c83c1"
      },
      "outputs": [
        {
          "name": "stdout",
          "output_type": "stream",
          "text": [
            "Correlación entre Cantidad de Personas y NumeroDeSolicitudes: 0.2715196137168074\n"
          ]
        }
      ],
      "source": [
        "# Calculamos la correlación, usando la función corr\n",
        "correlacion_mun = df_tabla_municipio['Cantidad de Personas'].corr(df_tabla_municipio['NumeroDeSolicitudes'])\n",
        "print(\"Correlación entre Cantidad de Personas y NumeroDeSolicitudes:\", correlacion_mun)"
      ]
    },
    {
      "cell_type": "markdown",
      "metadata": {
        "id": "1JEAozoh7uma"
      },
      "source": [
        "¿Consideramos esta correlación alta o baja? ¿Cual es el nivel al que están las observaciones? ¿Podría decir que una de las variables \"causa\" el comportamiento de la otra?"
      ]
    },
    {
      "cell_type": "code",
      "execution_count": 14,
      "metadata": {
        "colab": {
          "base_uri": "https://localhost:8080/",
          "height": 472
        },
        "id": "DaZsVrSVyJdK",
        "outputId": "e35e8892-9289-4b3b-b3e2-5c6b3655b25c"
      },
      "outputs": [
        {
          "data": {
            "image/png": "[encoded data removed]",
            "text/plain": [
              "<Figure size 640x480 with 1 Axes>"
            ]
          },
          "metadata": {},
          "output_type": "display_data"
        }
      ],
      "source": [
        "import matplotlib.pyplot as plt\n",
        "import numpy as np\n",
        "plt.scatter(df_tabla_municipio['NumeroDeSolicitudes'],df_tabla_municipio['Cantidad de Personas'])\n",
        "\n",
        "#linea de tendencia\n",
        "coefficients = np.polyfit(df_tabla_municipio['NumeroDeSolicitudes'], df_tabla_municipio['Cantidad de Personas'], 1)\n",
        "poly = np.poly1d(coefficients)\n",
        "x = np.linspace(df_tabla_municipio['NumeroDeSolicitudes'].min(), df_tabla_municipio['NumeroDeSolicitudes'].max(), 100)\n",
        "plt.plot(x, poly(x), color='red')\n",
        "\n",
        "\n",
        "# Agregar etiquetas y título al scatter plot\n",
        "plt.xlabel('NumeroDeSolicitudes')\n",
        "plt.ylabel('Cantidad de Personas')\n",
        "plt.title('Relación')\n",
        "\n",
        "# Mostrar el scatter plot\n",
        "plt.show()"
      ]
    },
    {
      "cell_type": "code",
      "execution_count": 15,
      "metadata": {
        "id": "Fe0Emp9yv0Yz"
      },
      "outputs": [],
      "source": [
        "# agregacion a nivel departamental\n",
        "df_tabla_dept=df_tabla_municipio.groupby('departamento')[['Cantidad de Personas','NumeroDeSolicitudes']].aggregate('sum').reset_index()"
      ]
    },
    {
      "cell_type": "code",
      "execution_count": 16,
      "metadata": {
        "colab": {
          "base_uri": "https://localhost:8080/",
          "height": 802
        },
        "id": "sR3ufy1hw8Ul",
        "outputId": "0ac2ae11-5328-48e4-f4df-1e14e2f09991"
      },
      "outputs": [
        {
          "data": {
            "text/html": [
              "<div>\n",
              "<style scoped>\n",
              "    .dataframe tbody tr th:only-of-type {\n",
              "        vertical-align: middle;\n",
              "    }\n",
              "\n",
              "    .dataframe tbody tr th {\n",
              "        vertical-align: top;\n",
              "    }\n",
              "\n",
              "    .dataframe thead th {\n",
              "        text-align: right;\n",
              "    }\n",
              "</style>\n",
              "<table border=\"1\" class=\"dataframe\">\n",
              "  <thead>\n",
              "    <tr style=\"text-align: right;\">\n",
              "      <th></th>\n",
              "      <th>departamento</th>\n",
              "      <th>Cantidad de Personas</th>\n",
              "      <th>NumeroDeSolicitudes</th>\n",
              "    </tr>\n",
              "  </thead>\n",
              "  <tbody>\n",
              "    <tr>\n",
              "      <th>0</th>\n",
              "      <td>Antioquia</td>\n",
              "      <td>73</td>\n",
              "      <td>10589</td>\n",
              "    </tr>\n",
              "    <tr>\n",
              "      <th>1</th>\n",
              "      <td>Arauca</td>\n",
              "      <td>15</td>\n",
              "      <td>1098</td>\n",
              "    </tr>\n",
              "    <tr>\n",
              "      <th>2</th>\n",
              "      <td>Atlántico</td>\n",
              "      <td>6</td>\n",
              "      <td>209</td>\n",
              "    </tr>\n",
              "    <tr>\n",
              "      <th>3</th>\n",
              "      <td>Bolívar</td>\n",
              "      <td>10</td>\n",
              "      <td>875</td>\n",
              "    </tr>\n",
              "    <tr>\n",
              "      <th>4</th>\n",
              "      <td>Boyacá</td>\n",
              "      <td>1</td>\n",
              "      <td>47</td>\n",
              "    </tr>\n",
              "    <tr>\n",
              "      <th>5</th>\n",
              "      <td>Caldas</td>\n",
              "      <td>6</td>\n",
              "      <td>642</td>\n",
              "    </tr>\n",
              "    <tr>\n",
              "      <th>6</th>\n",
              "      <td>Caquetá</td>\n",
              "      <td>11</td>\n",
              "      <td>1791</td>\n",
              "    </tr>\n",
              "    <tr>\n",
              "      <th>7</th>\n",
              "      <td>Casanare</td>\n",
              "      <td>4</td>\n",
              "      <td>333</td>\n",
              "    </tr>\n",
              "    <tr>\n",
              "      <th>8</th>\n",
              "      <td>Cauca</td>\n",
              "      <td>131</td>\n",
              "      <td>4763</td>\n",
              "    </tr>\n",
              "    <tr>\n",
              "      <th>9</th>\n",
              "      <td>Cesar</td>\n",
              "      <td>6</td>\n",
              "      <td>2893</td>\n",
              "    </tr>\n",
              "    <tr>\n",
              "      <th>10</th>\n",
              "      <td>Chocó</td>\n",
              "      <td>15</td>\n",
              "      <td>2024</td>\n",
              "    </tr>\n",
              "    <tr>\n",
              "      <th>11</th>\n",
              "      <td>Cundinamarca</td>\n",
              "      <td>6</td>\n",
              "      <td>63</td>\n",
              "    </tr>\n",
              "    <tr>\n",
              "      <th>12</th>\n",
              "      <td>Córdoba</td>\n",
              "      <td>19</td>\n",
              "      <td>2838</td>\n",
              "    </tr>\n",
              "    <tr>\n",
              "      <th>13</th>\n",
              "      <td>Guaviare</td>\n",
              "      <td>2</td>\n",
              "      <td>1021</td>\n",
              "    </tr>\n",
              "    <tr>\n",
              "      <th>14</th>\n",
              "      <td>Huila</td>\n",
              "      <td>12</td>\n",
              "      <td>915</td>\n",
              "    </tr>\n",
              "    <tr>\n",
              "      <th>15</th>\n",
              "      <td>La Guajira</td>\n",
              "      <td>9</td>\n",
              "      <td>427</td>\n",
              "    </tr>\n",
              "    <tr>\n",
              "      <th>16</th>\n",
              "      <td>Magdalena</td>\n",
              "      <td>10</td>\n",
              "      <td>2837</td>\n",
              "    </tr>\n",
              "    <tr>\n",
              "      <th>17</th>\n",
              "      <td>Meta</td>\n",
              "      <td>16</td>\n",
              "      <td>4787</td>\n",
              "    </tr>\n",
              "    <tr>\n",
              "      <th>18</th>\n",
              "      <td>Nariño</td>\n",
              "      <td>52</td>\n",
              "      <td>3695</td>\n",
              "    </tr>\n",
              "    <tr>\n",
              "      <th>19</th>\n",
              "      <td>Putumayo</td>\n",
              "      <td>25</td>\n",
              "      <td>4294</td>\n",
              "    </tr>\n",
              "    <tr>\n",
              "      <th>20</th>\n",
              "      <td>Risaralda</td>\n",
              "      <td>6</td>\n",
              "      <td>417</td>\n",
              "    </tr>\n",
              "    <tr>\n",
              "      <th>21</th>\n",
              "      <td>Santander</td>\n",
              "      <td>5</td>\n",
              "      <td>453</td>\n",
              "    </tr>\n",
              "    <tr>\n",
              "      <th>22</th>\n",
              "      <td>Sucre</td>\n",
              "      <td>10</td>\n",
              "      <td>1703</td>\n",
              "    </tr>\n",
              "    <tr>\n",
              "      <th>23</th>\n",
              "      <td>Tolima</td>\n",
              "      <td>7</td>\n",
              "      <td>1417</td>\n",
              "    </tr>\n",
              "  </tbody>\n",
              "</table>\n",
              "</div>"
            ],
            "text/plain": [
              "    departamento  Cantidad de Personas  NumeroDeSolicitudes\n",
              "0      Antioquia                    73                10589\n",
              "1         Arauca                    15                 1098\n",
              "2      Atlántico                     6                  209\n",
              "3        Bolívar                    10                  875\n",
              "4         Boyacá                     1                   47\n",
              "5         Caldas                     6                  642\n",
              "6        Caquetá                    11                 1791\n",
              "7       Casanare                     4                  333\n",
              "8          Cauca                   131                 4763\n",
              "9          Cesar                     6                 2893\n",
              "10         Chocó                    15                 2024\n",
              "11  Cundinamarca                     6                   63\n",
              "12       Córdoba                    19                 2838\n",
              "13      Guaviare                     2                 1021\n",
              "14         Huila                    12                  915\n",
              "15    La Guajira                     9                  427\n",
              "16     Magdalena                    10                 2837\n",
              "17          Meta                    16                 4787\n",
              "18        Nariño                    52                 3695\n",
              "19      Putumayo                    25                 4294\n",
              "20     Risaralda                     6                  417\n",
              "21     Santander                     5                  453\n",
              "22         Sucre                    10                 1703\n",
              "23        Tolima                     7                 1417"
            ]
          },
          "execution_count": 16,
          "metadata": {},
          "output_type": "execute_result"
        }
      ],
      "source": [
        "df_tabla_dept"
      ]
    },
    {
      "cell_type": "code",
      "execution_count": 17,
      "metadata": {
        "colab": {
          "base_uri": "https://localhost:8080/"
        },
        "id": "W7_pvdIzxUB6",
        "outputId": "0bd17a49-f0a0-49c8-80eb-cb5b18c07e28"
      },
      "outputs": [
        {
          "name": "stdout",
          "output_type": "stream",
          "text": [
            "Correlación entre Cantidad de Personas y NumeroDeSolicitudes: 0.6739260611672582\n"
          ]
        }
      ],
      "source": [
        "correlacion_dept = df_tabla_dept['Cantidad de Personas'].corr(df_tabla_dept['NumeroDeSolicitudes'])\n",
        "print(\"Correlación entre Cantidad de Personas y NumeroDeSolicitudes:\", correlacion_dept)"
      ]
    },
    {
      "cell_type": "code",
      "execution_count": 18,
      "metadata": {
        "colab": {
          "base_uri": "https://localhost:8080/",
          "height": 472
        },
        "id": "Rz-whMYMxnz_",
        "outputId": "f50e33a3-1aad-4c57-e7ef-19c3a59438ca"
      },
      "outputs": [
        {
          "data": {
            "image/png": "[encoded data removed]",
            "text/plain": [
              "<Figure size 640x480 with 1 Axes>"
            ]
          },
          "metadata": {},
          "output_type": "display_data"
        }
      ],
      "source": [
        "import matplotlib.pyplot as plt\n",
        "import numpy as np\n",
        "\n",
        "plt.scatter(df_tabla_dept['NumeroDeSolicitudes'], df_tabla_dept['Cantidad de Personas'])\n",
        "\n",
        "#linea de tendencia\n",
        "coefficients = np.polyfit(df_tabla_dept['NumeroDeSolicitudes'], df_tabla_dept['Cantidad de Personas'], 1)\n",
        "poly = np.poly1d(coefficients)\n",
        "x = np.linspace(df_tabla_dept['NumeroDeSolicitudes'].min(), df_tabla_dept['NumeroDeSolicitudes'].max(), 100)\n",
        "plt.plot(x, poly(x), color='red')\n",
        "\n",
        "# Agregar etiquetas y título al scatter plot\n",
        "plt.xlabel('NumeroDeSolicitudes')\n",
        "plt.ylabel('Cantidad de Personas')\n",
        "plt.title('Relación')\n",
        "\n",
        "# Mostrar el scatter plot\n",
        "plt.show()"
      ]
    },
    {
      "cell_type": "markdown",
      "metadata": {
        "id": "CDUh4mI28INE"
      },
      "source": [
        "* ¿Qué sucede al cambiar el nivel de agregación a departamento?\n",
        "* ¿Cuál de los dos niveles de análisis - municipal o departamental- es más adecuado para estudiar este tema?\n",
        "* ¿Qué comportamiento de los datos a nivel municipal pueden explicar este comportamiento?"
      ]
    },
    {
      "cell_type": "markdown",
      "metadata": {
        "id": "aXlwsNmI9r_2"
      },
      "source": [
        "También es relevante ver la correlación de la variable de interés (lideres asesinados) con las variables explicativas (solicitudes restitución) y entre las variables explicativas."
      ]
    },
    {
      "cell_type": "code",
      "execution_count": 19,
      "metadata": {
        "colab": {
          "base_uri": "https://localhost:8080/",
          "height": 423
        },
        "id": "QjcipIrsm4eO",
        "outputId": "353757bb-f7bd-4d6e-d0e7-94e3be82ca59"
      },
      "outputs": [
        {
          "data": {
            "text/html": [
              "<div>\n",
              "<style scoped>\n",
              "    .dataframe tbody tr th:only-of-type {\n",
              "        vertical-align: middle;\n",
              "    }\n",
              "\n",
              "    .dataframe tbody tr th {\n",
              "        vertical-align: top;\n",
              "    }\n",
              "\n",
              "    .dataframe thead th {\n",
              "        text-align: right;\n",
              "    }\n",
              "</style>\n",
              "<table border=\"1\" class=\"dataframe\">\n",
              "  <thead>\n",
              "    <tr style=\"text-align: right;\">\n",
              "      <th></th>\n",
              "      <th>departamento</th>\n",
              "      <th>municipio</th>\n",
              "      <th>Cantidad de Personas</th>\n",
              "      <th>CodigoDANE</th>\n",
              "      <th>NumeroDeSolicitudes</th>\n",
              "      <th>NumeroDePredios</th>\n",
              "      <th>NumeroDeTitulares</th>\n",
              "    </tr>\n",
              "  </thead>\n",
              "  <tbody>\n",
              "    <tr>\n",
              "      <th>0</th>\n",
              "      <td>Nariño</td>\n",
              "      <td>Tumaco</td>\n",
              "      <td>31</td>\n",
              "      <td>52835</td>\n",
              "      <td>1631</td>\n",
              "      <td>1449</td>\n",
              "      <td>1251</td>\n",
              "    </tr>\n",
              "    <tr>\n",
              "      <th>1</th>\n",
              "      <td>Cauca</td>\n",
              "      <td>Caloto</td>\n",
              "      <td>22</td>\n",
              "      <td>19142</td>\n",
              "      <td>66</td>\n",
              "      <td>54</td>\n",
              "      <td>55</td>\n",
              "    </tr>\n",
              "    <tr>\n",
              "      <th>2</th>\n",
              "      <td>Cauca</td>\n",
              "      <td>Corinto</td>\n",
              "      <td>21</td>\n",
              "      <td>19212</td>\n",
              "      <td>97</td>\n",
              "      <td>88</td>\n",
              "      <td>86</td>\n",
              "    </tr>\n",
              "    <tr>\n",
              "      <th>3</th>\n",
              "      <td>Cauca</td>\n",
              "      <td>El Tambo</td>\n",
              "      <td>14</td>\n",
              "      <td>19256</td>\n",
              "      <td>783</td>\n",
              "      <td>724</td>\n",
              "      <td>641</td>\n",
              "    </tr>\n",
              "    <tr>\n",
              "      <th>4</th>\n",
              "      <td>Antioquia</td>\n",
              "      <td>Tarazá</td>\n",
              "      <td>12</td>\n",
              "      <td>5790</td>\n",
              "      <td>510</td>\n",
              "      <td>480</td>\n",
              "      <td>438</td>\n",
              "    </tr>\n",
              "    <tr>\n",
              "      <th>...</th>\n",
              "      <td>...</td>\n",
              "      <td>...</td>\n",
              "      <td>...</td>\n",
              "      <td>...</td>\n",
              "      <td>...</td>\n",
              "      <td>...</td>\n",
              "      <td>...</td>\n",
              "    </tr>\n",
              "    <tr>\n",
              "      <th>167</th>\n",
              "      <td>Cauca</td>\n",
              "      <td>Villa Rica</td>\n",
              "      <td>1</td>\n",
              "      <td>19845</td>\n",
              "      <td>5</td>\n",
              "      <td>5</td>\n",
              "      <td>5</td>\n",
              "    </tr>\n",
              "    <tr>\n",
              "      <th>168</th>\n",
              "      <td>Cesar</td>\n",
              "      <td>Becerril</td>\n",
              "      <td>1</td>\n",
              "      <td>20045</td>\n",
              "      <td>523</td>\n",
              "      <td>406</td>\n",
              "      <td>434</td>\n",
              "    </tr>\n",
              "    <tr>\n",
              "      <th>169</th>\n",
              "      <td>Cesar</td>\n",
              "      <td>Chimichagua</td>\n",
              "      <td>1</td>\n",
              "      <td>20175</td>\n",
              "      <td>191</td>\n",
              "      <td>177</td>\n",
              "      <td>153</td>\n",
              "    </tr>\n",
              "    <tr>\n",
              "      <th>170</th>\n",
              "      <td>Cesar</td>\n",
              "      <td>Chiriguaná</td>\n",
              "      <td>1</td>\n",
              "      <td>20178</td>\n",
              "      <td>234</td>\n",
              "      <td>188</td>\n",
              "      <td>200</td>\n",
              "    </tr>\n",
              "    <tr>\n",
              "      <th>171</th>\n",
              "      <td>Cesar</td>\n",
              "      <td>Valledupar</td>\n",
              "      <td>1</td>\n",
              "      <td>20001</td>\n",
              "      <td>1284</td>\n",
              "      <td>1105</td>\n",
              "      <td>958</td>\n",
              "    </tr>\n",
              "  </tbody>\n",
              "</table>\n",
              "<p>172 rows × 7 columns</p>\n",
              "</div>"
            ],
            "text/plain": [
              "    departamento    municipio  Cantidad de Personas  CodigoDANE  \\\n",
              "0         Nariño       Tumaco                    31       52835   \n",
              "1          Cauca       Caloto                    22       19142   \n",
              "2          Cauca      Corinto                    21       19212   \n",
              "3          Cauca     El Tambo                    14       19256   \n",
              "4      Antioquia       Tarazá                    12        5790   \n",
              "..           ...          ...                   ...         ...   \n",
              "167        Cauca   Villa Rica                     1       19845   \n",
              "168        Cesar     Becerril                     1       20045   \n",
              "169        Cesar  Chimichagua                     1       20175   \n",
              "170        Cesar   Chiriguaná                     1       20178   \n",
              "171        Cesar   Valledupar                     1       20001   \n",
              "\n",
              "     NumeroDeSolicitudes  NumeroDePredios  NumeroDeTitulares  \n",
              "0                   1631             1449               1251  \n",
              "1                     66               54                 55  \n",
              "2                     97               88                 86  \n",
              "3                    783              724                641  \n",
              "4                    510              480                438  \n",
              "..                   ...              ...                ...  \n",
              "167                    5                5                  5  \n",
              "168                  523              406                434  \n",
              "169                  191              177                153  \n",
              "170                  234              188                200  \n",
              "171                 1284             1105                958  \n",
              "\n",
              "[172 rows x 7 columns]"
            ]
          },
          "execution_count": 19,
          "metadata": {},
          "output_type": "execute_result"
        }
      ],
      "source": [
        "df_tabla_municipio"
      ]
    },
    {
      "cell_type": "code",
      "execution_count": 20,
      "metadata": {
        "colab": {
          "base_uri": "https://localhost:8080/",
          "height": 206
        },
        "id": "eibzIQwJ96-5",
        "outputId": "5a83ef9b-1392-4d01-e04c-d06429de7e3a"
      },
      "outputs": [
        {
          "data": {
            "text/html": [
              "<div>\n",
              "<style scoped>\n",
              "    .dataframe tbody tr th:only-of-type {\n",
              "        vertical-align: middle;\n",
              "    }\n",
              "\n",
              "    .dataframe tbody tr th {\n",
              "        vertical-align: top;\n",
              "    }\n",
              "\n",
              "    .dataframe thead th {\n",
              "        text-align: right;\n",
              "    }\n",
              "</style>\n",
              "<table border=\"1\" class=\"dataframe\">\n",
              "  <thead>\n",
              "    <tr style=\"text-align: right;\">\n",
              "      <th></th>\n",
              "      <th>Cantidad de Personas</th>\n",
              "      <th>CodigoDANE</th>\n",
              "      <th>NumeroDeSolicitudes</th>\n",
              "      <th>NumeroDePredios</th>\n",
              "      <th>NumeroDeTitulares</th>\n",
              "    </tr>\n",
              "  </thead>\n",
              "  <tbody>\n",
              "    <tr>\n",
              "      <th>Cantidad de Personas</th>\n",
              "      <td>1.000000</td>\n",
              "      <td>-0.023023</td>\n",
              "      <td>0.271520</td>\n",
              "      <td>0.272467</td>\n",
              "      <td>0.276589</td>\n",
              "    </tr>\n",
              "    <tr>\n",
              "      <th>CodigoDANE</th>\n",
              "      <td>-0.023023</td>\n",
              "      <td>1.000000</td>\n",
              "      <td>0.098001</td>\n",
              "      <td>0.100838</td>\n",
              "      <td>0.119145</td>\n",
              "    </tr>\n",
              "    <tr>\n",
              "      <th>NumeroDeSolicitudes</th>\n",
              "      <td>0.271520</td>\n",
              "      <td>0.098001</td>\n",
              "      <td>1.000000</td>\n",
              "      <td>0.996638</td>\n",
              "      <td>0.995625</td>\n",
              "    </tr>\n",
              "    <tr>\n",
              "      <th>NumeroDePredios</th>\n",
              "      <td>0.272467</td>\n",
              "      <td>0.100838</td>\n",
              "      <td>0.996638</td>\n",
              "      <td>1.000000</td>\n",
              "      <td>0.994138</td>\n",
              "    </tr>\n",
              "    <tr>\n",
              "      <th>NumeroDeTitulares</th>\n",
              "      <td>0.276589</td>\n",
              "      <td>0.119145</td>\n",
              "      <td>0.995625</td>\n",
              "      <td>0.994138</td>\n",
              "      <td>1.000000</td>\n",
              "    </tr>\n",
              "  </tbody>\n",
              "</table>\n",
              "</div>"
            ],
            "text/plain": [
              "                      Cantidad de Personas  CodigoDANE  NumeroDeSolicitudes  \\\n",
              "Cantidad de Personas              1.000000   -0.023023             0.271520   \n",
              "CodigoDANE                       -0.023023    1.000000             0.098001   \n",
              "NumeroDeSolicitudes               0.271520    0.098001             1.000000   \n",
              "NumeroDePredios                   0.272467    0.100838             0.996638   \n",
              "NumeroDeTitulares                 0.276589    0.119145             0.995625   \n",
              "\n",
              "                      NumeroDePredios  NumeroDeTitulares  \n",
              "Cantidad de Personas         0.272467           0.276589  \n",
              "CodigoDANE                   0.100838           0.119145  \n",
              "NumeroDeSolicitudes          0.996638           0.995625  \n",
              "NumeroDePredios              1.000000           0.994138  \n",
              "NumeroDeTitulares            0.994138           1.000000  "
            ]
          },
          "execution_count": 20,
          "metadata": {},
          "output_type": "execute_result"
        }
      ],
      "source": [
        "# Correlación de las variables numericas\n",
        "df_tabla_municipio.select_dtypes(include=[float, int]).corr(method ='pearson')"
      ]
    },
    {
      "cell_type": "markdown",
      "metadata": {
        "id": "cdLjtKA5-ZIS"
      },
      "source": [
        "Y también lo pódemos hacer con una visualización"
      ]
    },
    {
      "cell_type": "code",
      "execution_count": 21,
      "metadata": {
        "colab": {
          "base_uri": "https://localhost:8080/",
          "height": 836
        },
        "id": "JutG-g4r-KNJ",
        "outputId": "6282132f-6c5a-4870-dad5-be8f6c871fff"
      },
      "outputs": [
        {
          "data": {
            "image/png": "[encoded data removed]",
            "text/plain": [
              "<Figure size 1000x800 with 2 Axes>"
            ]
          },
          "metadata": {},
          "output_type": "display_data"
        }
      ],
      "source": [
        "import seaborn as sns\n",
        "import matplotlib.pyplot as plt\n",
        "\n",
        "# Calcular la matriz de correlación\n",
        "correlation_matrix = df_tabla_municipio.select_dtypes(include=[float, int]).corr()\n",
        "\n",
        "# Generar la gráfica de correlación utilizando Seaborn\n",
        "plt.figure(figsize=(10, 8))\n",
        "sns.heatmap(correlation_matrix, annot=True, cmap='RdYlGn')\n",
        "plt.title('Gráfica de Correlación')\n",
        "plt.show()"
      ]
    },
    {
      "cell_type": "markdown",
      "metadata": {
        "id": "bxTKy7FWvKNb"
      },
      "source": [
        "# Análisis Multivariado\n",
        "<b>Objetivos:</b>\n",
        "<ul>\n",
        "<li>Ver la importancia de ordenar la información en estructuras que permitan comparar variables.</li>\n",
        "<li>Repasar cuáles son algunos gráficos que nos permiten graficar múltiples variables en un solo cuadro</li>\n",
        "<li>Entender la importancia de la Varianza y la Covarianza y cómo la podemos calcular y graficar</li>\n",
        "</ul>\n"
      ]
    },
    {
      "cell_type": "code",
      "execution_count": 22,
      "metadata": {
        "id": "425a28f8"
      },
      "outputs": [],
      "source": [
        "import pandas as pd\n",
        "pd.options.display.float_format = '{:,.2f}'.format\n",
        "import numpy as np\n",
        "import matplotlib.pyplot as plt\n",
        "import seaborn as sns"
      ]
    },
    {
      "cell_type": "markdown",
      "metadata": {
        "id": "5W0jbn9yONKO"
      },
      "source": [
        "# Contexto y objetivo de análisis\n",
        "Disponemos de datos de rentas de apartamentos o casas en la India, donde tenemos datos de características de los inmuebles y el costo.\n",
        "\n",
        "<b>Objetivo del análisis: explorar la relación entre las características de una vivienda afectan el valor de su renta."
      ]
    },
    {
      "cell_type": "markdown",
      "metadata": {
        "id": "cf996eaf"
      },
      "source": [
        "## Tablas de Contingencias\n",
        "Las tablas de contigencias o `crosstab()` en python tienen la misma función que una tabla dinámica en Excel con variables en las columnas.<br>\n",
        "Son bastante útiles cuando queremos comparar los medidas estadísticas (media, moda, frecuencias, etc) entre diferentes grupos o categorías de un conjunto de datos.\n",
        "### Crosstab\n",
        "Primero importemos el conjunto de datos.<br>\n"
      ]
    },
    {
      "cell_type": "code",
      "execution_count": 23,
      "metadata": {
        "colab": {
          "base_uri": "https://localhost:8080/",
          "height": 224
        },
        "id": "2c693292",
        "outputId": "ceec8749-e848-4249-8e9a-f0b58d263d9d"
      },
      "outputs": [
        {
          "name": "stdout",
          "output_type": "stream",
          "text": [
            "(4746, 12)\n"
          ]
        },
        {
          "data": {
            "text/html": [
              "<div>\n",
              "<style scoped>\n",
              "    .dataframe tbody tr th:only-of-type {\n",
              "        vertical-align: middle;\n",
              "    }\n",
              "\n",
              "    .dataframe tbody tr th {\n",
              "        vertical-align: top;\n",
              "    }\n",
              "\n",
              "    .dataframe thead th {\n",
              "        text-align: right;\n",
              "    }\n",
              "</style>\n",
              "<table border=\"1\" class=\"dataframe\">\n",
              "  <thead>\n",
              "    <tr style=\"text-align: right;\">\n",
              "      <th></th>\n",
              "      <th>Posted On</th>\n",
              "      <th>BHK</th>\n",
              "      <th>Rent</th>\n",
              "      <th>Size</th>\n",
              "      <th>Floor</th>\n",
              "      <th>Area Type</th>\n",
              "      <th>Area Locality</th>\n",
              "      <th>City</th>\n",
              "      <th>Furnishing Status</th>\n",
              "      <th>Tenant Preferred</th>\n",
              "      <th>Bathroom</th>\n",
              "      <th>Point of Contact</th>\n",
              "    </tr>\n",
              "  </thead>\n",
              "  <tbody>\n",
              "    <tr>\n",
              "      <th>0</th>\n",
              "      <td>2022-05-18</td>\n",
              "      <td>2</td>\n",
              "      <td>10000</td>\n",
              "      <td>1100</td>\n",
              "      <td>Ground out of 2</td>\n",
              "      <td>Super Area</td>\n",
              "      <td>Bandel</td>\n",
              "      <td>Kolkata</td>\n",
              "      <td>Unfurnished</td>\n",
              "      <td>Bachelors/Family</td>\n",
              "      <td>2</td>\n",
              "      <td>Contact Owner</td>\n",
              "    </tr>\n",
              "    <tr>\n",
              "      <th>1</th>\n",
              "      <td>2022-05-13</td>\n",
              "      <td>2</td>\n",
              "      <td>20000</td>\n",
              "      <td>800</td>\n",
              "      <td>1 out of 3</td>\n",
              "      <td>Super Area</td>\n",
              "      <td>Phool Bagan, Kankurgachi</td>\n",
              "      <td>Kolkata</td>\n",
              "      <td>Semi-Furnished</td>\n",
              "      <td>Bachelors/Family</td>\n",
              "      <td>1</td>\n",
              "      <td>Contact Owner</td>\n",
              "    </tr>\n",
              "    <tr>\n",
              "      <th>2</th>\n",
              "      <td>2022-05-16</td>\n",
              "      <td>2</td>\n",
              "      <td>17000</td>\n",
              "      <td>1000</td>\n",
              "      <td>1 out of 3</td>\n",
              "      <td>Super Area</td>\n",
              "      <td>Salt Lake City Sector 2</td>\n",
              "      <td>Kolkata</td>\n",
              "      <td>Semi-Furnished</td>\n",
              "      <td>Bachelors/Family</td>\n",
              "      <td>1</td>\n",
              "      <td>Contact Owner</td>\n",
              "    </tr>\n",
              "    <tr>\n",
              "      <th>3</th>\n",
              "      <td>2022-07-04</td>\n",
              "      <td>2</td>\n",
              "      <td>10000</td>\n",
              "      <td>800</td>\n",
              "      <td>1 out of 2</td>\n",
              "      <td>Super Area</td>\n",
              "      <td>Dumdum Park</td>\n",
              "      <td>Kolkata</td>\n",
              "      <td>Unfurnished</td>\n",
              "      <td>Bachelors/Family</td>\n",
              "      <td>1</td>\n",
              "      <td>Contact Owner</td>\n",
              "    </tr>\n",
              "    <tr>\n",
              "      <th>4</th>\n",
              "      <td>2022-05-09</td>\n",
              "      <td>2</td>\n",
              "      <td>7500</td>\n",
              "      <td>850</td>\n",
              "      <td>1 out of 2</td>\n",
              "      <td>Carpet Area</td>\n",
              "      <td>South Dum Dum</td>\n",
              "      <td>Kolkata</td>\n",
              "      <td>Unfurnished</td>\n",
              "      <td>Bachelors</td>\n",
              "      <td>1</td>\n",
              "      <td>Contact Owner</td>\n",
              "    </tr>\n",
              "  </tbody>\n",
              "</table>\n",
              "</div>"
            ],
            "text/plain": [
              "    Posted On  BHK   Rent  Size            Floor    Area Type  \\\n",
              "0  2022-05-18    2  10000  1100  Ground out of 2   Super Area   \n",
              "1  2022-05-13    2  20000   800       1 out of 3   Super Area   \n",
              "2  2022-05-16    2  17000  1000       1 out of 3   Super Area   \n",
              "3  2022-07-04    2  10000   800       1 out of 2   Super Area   \n",
              "4  2022-05-09    2   7500   850       1 out of 2  Carpet Area   \n",
              "\n",
              "              Area Locality     City Furnishing Status  Tenant Preferred  \\\n",
              "0                    Bandel  Kolkata       Unfurnished  Bachelors/Family   \n",
              "1  Phool Bagan, Kankurgachi  Kolkata    Semi-Furnished  Bachelors/Family   \n",
              "2   Salt Lake City Sector 2  Kolkata    Semi-Furnished  Bachelors/Family   \n",
              "3               Dumdum Park  Kolkata       Unfurnished  Bachelors/Family   \n",
              "4             South Dum Dum  Kolkata       Unfurnished         Bachelors   \n",
              "\n",
              "   Bathroom Point of Contact  \n",
              "0         2    Contact Owner  \n",
              "1         1    Contact Owner  \n",
              "2         1    Contact Owner  \n",
              "3         1    Contact Owner  \n",
              "4         1    Contact Owner  "
            ]
          },
          "execution_count": 23,
          "metadata": {},
          "output_type": "execute_result"
        }
      ],
      "source": [
        "df_house = pd.read_csv( \"https://raw.githubusercontent.com/jazaineam1/Andes_ADDBD/main/Sesion9/House_Rent_Dataset.csv\")\n",
        "print(df_house.shape)\n",
        "df_house.head()"
      ]
    },
    {
      "cell_type": "markdown",
      "metadata": {
        "id": "A9RqfVWay-Ch"
      },
      "source": [
        "Vamos a usar las fechas más adelante, entonces aprovechemos para dejarlas en el formato correcto."
      ]
    },
    {
      "cell_type": "code",
      "execution_count": 24,
      "metadata": {
        "id": "f35d2d23"
      },
      "outputs": [],
      "source": [
        "df_house[\"Posted On\"] = pd.to_datetime(df_house[\"Posted On\"])"
      ]
    },
    {
      "cell_type": "code",
      "execution_count": 25,
      "metadata": {
        "colab": {
          "base_uri": "https://localhost:8080/"
        },
        "id": "212dd48d",
        "outputId": "e70c6b32-b1d9-4f43-baba-4108edcc55f5"
      },
      "outputs": [
        {
          "name": "stdout",
          "output_type": "stream",
          "text": [
            "<class 'pandas.core.frame.DataFrame'>\n",
            "RangeIndex: 4746 entries, 0 to 4745\n",
            "Data columns (total 12 columns):\n",
            " #   Column             Non-Null Count  Dtype         \n",
            "---  ------             --------------  -----         \n",
            " 0   Posted On          4746 non-null   datetime64[ns]\n",
            " 1   BHK                4746 non-null   int64         \n",
            " 2   Rent               4746 non-null   int64         \n",
            " 3   Size               4746 non-null   int64         \n",
            " 4   Floor              4746 non-null   object        \n",
            " 5   Area Type          4746 non-null   object        \n",
            " 6   Area Locality      4746 non-null   object        \n",
            " 7   City               4746 non-null   object        \n",
            " 8   Furnishing Status  4746 non-null   object        \n",
            " 9   Tenant Preferred   4746 non-null   object        \n",
            " 10  Bathroom           4746 non-null   int64         \n",
            " 11  Point of Contact   4746 non-null   object        \n",
            "dtypes: datetime64[ns](1), int64(4), object(7)\n",
            "memory usage: 445.1+ KB\n"
          ]
        }
      ],
      "source": [
        "df_house.info()"
      ]
    },
    {
      "cell_type": "markdown",
      "metadata": {
        "id": "dYnEkM9lzHnK"
      },
      "source": [
        "Para la función `crosstab()` en Python, al igual que en Excel, usamos variables cualitativas o de las variables categóricas, usando `.describe(include = \"O\")` en las filas o columnas.\n",
        "\n",
        "También es posible usar variables cuantitativas en las filas o columnas, pero se generaríam muchos grupos pequeños, cuya interpretación no es útil, dificultaría visualizar y afectaría el sentido de la agrupación.<br>\n"
      ]
    },
    {
      "cell_type": "code",
      "execution_count": 26,
      "metadata": {
        "colab": {
          "base_uri": "https://localhost:8080/",
          "height": 175
        },
        "id": "db1905f4",
        "outputId": "e2b41558-db6f-48b9-f471-30dee4eaf179"
      },
      "outputs": [
        {
          "data": {
            "text/html": [
              "<div>\n",
              "<style scoped>\n",
              "    .dataframe tbody tr th:only-of-type {\n",
              "        vertical-align: middle;\n",
              "    }\n",
              "\n",
              "    .dataframe tbody tr th {\n",
              "        vertical-align: top;\n",
              "    }\n",
              "\n",
              "    .dataframe thead th {\n",
              "        text-align: right;\n",
              "    }\n",
              "</style>\n",
              "<table border=\"1\" class=\"dataframe\">\n",
              "  <thead>\n",
              "    <tr style=\"text-align: right;\">\n",
              "      <th></th>\n",
              "      <th>Floor</th>\n",
              "      <th>Area Type</th>\n",
              "      <th>Area Locality</th>\n",
              "      <th>City</th>\n",
              "      <th>Furnishing Status</th>\n",
              "      <th>Tenant Preferred</th>\n",
              "      <th>Point of Contact</th>\n",
              "    </tr>\n",
              "  </thead>\n",
              "  <tbody>\n",
              "    <tr>\n",
              "      <th>count</th>\n",
              "      <td>4746</td>\n",
              "      <td>4746</td>\n",
              "      <td>4746</td>\n",
              "      <td>4746</td>\n",
              "      <td>4746</td>\n",
              "      <td>4746</td>\n",
              "      <td>4746</td>\n",
              "    </tr>\n",
              "    <tr>\n",
              "      <th>unique</th>\n",
              "      <td>480</td>\n",
              "      <td>3</td>\n",
              "      <td>2235</td>\n",
              "      <td>6</td>\n",
              "      <td>3</td>\n",
              "      <td>3</td>\n",
              "      <td>3</td>\n",
              "    </tr>\n",
              "    <tr>\n",
              "      <th>top</th>\n",
              "      <td>1 out of 2</td>\n",
              "      <td>Super Area</td>\n",
              "      <td>Bandra West</td>\n",
              "      <td>Mumbai</td>\n",
              "      <td>Semi-Furnished</td>\n",
              "      <td>Bachelors/Family</td>\n",
              "      <td>Contact Owner</td>\n",
              "    </tr>\n",
              "    <tr>\n",
              "      <th>freq</th>\n",
              "      <td>379</td>\n",
              "      <td>2446</td>\n",
              "      <td>37</td>\n",
              "      <td>972</td>\n",
              "      <td>2251</td>\n",
              "      <td>3444</td>\n",
              "      <td>3216</td>\n",
              "    </tr>\n",
              "  </tbody>\n",
              "</table>\n",
              "</div>"
            ],
            "text/plain": [
              "             Floor   Area Type Area Locality    City Furnishing Status  \\\n",
              "count         4746        4746          4746    4746              4746   \n",
              "unique         480           3          2235       6                 3   \n",
              "top     1 out of 2  Super Area   Bandra West  Mumbai    Semi-Furnished   \n",
              "freq           379        2446            37     972              2251   \n",
              "\n",
              "        Tenant Preferred Point of Contact  \n",
              "count               4746             4746  \n",
              "unique                 3                3  \n",
              "top     Bachelors/Family    Contact Owner  \n",
              "freq                3444             3216  "
            ]
          },
          "execution_count": 26,
          "metadata": {},
          "output_type": "execute_result"
        }
      ],
      "source": [
        "df_house.describe(include=\"O\")"
      ]
    },
    {
      "cell_type": "markdown",
      "metadata": {
        "id": "dYYYxbFsz3sS"
      },
      "source": [
        "Primero veamos cómo sería un ejercicio agrupando 2 variables en un `groupby()` y comparemos esto con `crosstab()`."
      ]
    },
    {
      "cell_type": "code",
      "execution_count": 27,
      "metadata": {
        "colab": {
          "base_uri": "https://localhost:8080/",
          "height": 645
        },
        "id": "b1e3a0c0",
        "outputId": "5c3c2b84-57f0-4c2e-c106-b1a278b810fb"
      },
      "outputs": [
        {
          "data": {
            "text/html": [
              "<div>\n",
              "<style scoped>\n",
              "    .dataframe tbody tr th:only-of-type {\n",
              "        vertical-align: middle;\n",
              "    }\n",
              "\n",
              "    .dataframe tbody tr th {\n",
              "        vertical-align: top;\n",
              "    }\n",
              "\n",
              "    .dataframe thead th {\n",
              "        text-align: right;\n",
              "    }\n",
              "</style>\n",
              "<table border=\"1\" class=\"dataframe\">\n",
              "  <thead>\n",
              "    <tr style=\"text-align: right;\">\n",
              "      <th></th>\n",
              "      <th></th>\n",
              "      <th>Posted On</th>\n",
              "    </tr>\n",
              "    <tr>\n",
              "      <th>City</th>\n",
              "      <th>Furnishing Status</th>\n",
              "      <th></th>\n",
              "    </tr>\n",
              "  </thead>\n",
              "  <tbody>\n",
              "    <tr>\n",
              "      <th rowspan=\"3\" valign=\"top\">Bangalore</th>\n",
              "      <th>Furnished</th>\n",
              "      <td>91</td>\n",
              "    </tr>\n",
              "    <tr>\n",
              "      <th>Semi-Furnished</th>\n",
              "      <td>584</td>\n",
              "    </tr>\n",
              "    <tr>\n",
              "      <th>Unfurnished</th>\n",
              "      <td>211</td>\n",
              "    </tr>\n",
              "    <tr>\n",
              "      <th rowspan=\"3\" valign=\"top\">Chennai</th>\n",
              "      <th>Furnished</th>\n",
              "      <td>81</td>\n",
              "    </tr>\n",
              "    <tr>\n",
              "      <th>Semi-Furnished</th>\n",
              "      <td>448</td>\n",
              "    </tr>\n",
              "    <tr>\n",
              "      <th>Unfurnished</th>\n",
              "      <td>362</td>\n",
              "    </tr>\n",
              "    <tr>\n",
              "      <th rowspan=\"3\" valign=\"top\">Delhi</th>\n",
              "      <th>Furnished</th>\n",
              "      <td>97</td>\n",
              "    </tr>\n",
              "    <tr>\n",
              "      <th>Semi-Furnished</th>\n",
              "      <td>278</td>\n",
              "    </tr>\n",
              "    <tr>\n",
              "      <th>Unfurnished</th>\n",
              "      <td>230</td>\n",
              "    </tr>\n",
              "    <tr>\n",
              "      <th rowspan=\"3\" valign=\"top\">Hyderabad</th>\n",
              "      <th>Furnished</th>\n",
              "      <td>111</td>\n",
              "    </tr>\n",
              "    <tr>\n",
              "      <th>Semi-Furnished</th>\n",
              "      <td>402</td>\n",
              "    </tr>\n",
              "    <tr>\n",
              "      <th>Unfurnished</th>\n",
              "      <td>355</td>\n",
              "    </tr>\n",
              "    <tr>\n",
              "      <th rowspan=\"3\" valign=\"top\">Kolkata</th>\n",
              "      <th>Furnished</th>\n",
              "      <td>61</td>\n",
              "    </tr>\n",
              "    <tr>\n",
              "      <th>Semi-Furnished</th>\n",
              "      <td>142</td>\n",
              "    </tr>\n",
              "    <tr>\n",
              "      <th>Unfurnished</th>\n",
              "      <td>321</td>\n",
              "    </tr>\n",
              "    <tr>\n",
              "      <th rowspan=\"3\" valign=\"top\">Mumbai</th>\n",
              "      <th>Furnished</th>\n",
              "      <td>239</td>\n",
              "    </tr>\n",
              "    <tr>\n",
              "      <th>Semi-Furnished</th>\n",
              "      <td>397</td>\n",
              "    </tr>\n",
              "    <tr>\n",
              "      <th>Unfurnished</th>\n",
              "      <td>336</td>\n",
              "    </tr>\n",
              "  </tbody>\n",
              "</table>\n",
              "</div>"
            ],
            "text/plain": [
              "                             Posted On\n",
              "City      Furnishing Status           \n",
              "Bangalore Furnished                 91\n",
              "          Semi-Furnished           584\n",
              "          Unfurnished              211\n",
              "Chennai   Furnished                 81\n",
              "          Semi-Furnished           448\n",
              "          Unfurnished              362\n",
              "Delhi     Furnished                 97\n",
              "          Semi-Furnished           278\n",
              "          Unfurnished              230\n",
              "Hyderabad Furnished                111\n",
              "          Semi-Furnished           402\n",
              "          Unfurnished              355\n",
              "Kolkata   Furnished                 61\n",
              "          Semi-Furnished           142\n",
              "          Unfurnished              321\n",
              "Mumbai    Furnished                239\n",
              "          Semi-Furnished           397\n",
              "          Unfurnished              336"
            ]
          },
          "execution_count": 27,
          "metadata": {},
          "output_type": "execute_result"
        }
      ],
      "source": [
        "df_house[[\"City\", \"Furnishing Status\", \"Posted On\"]].groupby([\"City\", \"Furnishing Status\"]).count()"
      ]
    },
    {
      "cell_type": "code",
      "execution_count": 28,
      "metadata": {
        "colab": {
          "base_uri": "https://localhost:8080/",
          "height": 269
        },
        "id": "ef409ce3",
        "outputId": "285dcb21-df24-4774-a8c8-efaa3c6f73a5"
      },
      "outputs": [
        {
          "data": {
            "text/html": [
              "<div>\n",
              "<style scoped>\n",
              "    .dataframe tbody tr th:only-of-type {\n",
              "        vertical-align: middle;\n",
              "    }\n",
              "\n",
              "    .dataframe tbody tr th {\n",
              "        vertical-align: top;\n",
              "    }\n",
              "\n",
              "    .dataframe thead th {\n",
              "        text-align: right;\n",
              "    }\n",
              "</style>\n",
              "<table border=\"1\" class=\"dataframe\">\n",
              "  <thead>\n",
              "    <tr style=\"text-align: right;\">\n",
              "      <th>Furnishing Status</th>\n",
              "      <th>Furnished</th>\n",
              "      <th>Semi-Furnished</th>\n",
              "      <th>Unfurnished</th>\n",
              "    </tr>\n",
              "    <tr>\n",
              "      <th>City</th>\n",
              "      <th></th>\n",
              "      <th></th>\n",
              "      <th></th>\n",
              "    </tr>\n",
              "  </thead>\n",
              "  <tbody>\n",
              "    <tr>\n",
              "      <th>Bangalore</th>\n",
              "      <td>91</td>\n",
              "      <td>584</td>\n",
              "      <td>211</td>\n",
              "    </tr>\n",
              "    <tr>\n",
              "      <th>Chennai</th>\n",
              "      <td>81</td>\n",
              "      <td>448</td>\n",
              "      <td>362</td>\n",
              "    </tr>\n",
              "    <tr>\n",
              "      <th>Delhi</th>\n",
              "      <td>97</td>\n",
              "      <td>278</td>\n",
              "      <td>230</td>\n",
              "    </tr>\n",
              "    <tr>\n",
              "      <th>Hyderabad</th>\n",
              "      <td>111</td>\n",
              "      <td>402</td>\n",
              "      <td>355</td>\n",
              "    </tr>\n",
              "    <tr>\n",
              "      <th>Kolkata</th>\n",
              "      <td>61</td>\n",
              "      <td>142</td>\n",
              "      <td>321</td>\n",
              "    </tr>\n",
              "    <tr>\n",
              "      <th>Mumbai</th>\n",
              "      <td>239</td>\n",
              "      <td>397</td>\n",
              "      <td>336</td>\n",
              "    </tr>\n",
              "  </tbody>\n",
              "</table>\n",
              "</div>"
            ],
            "text/plain": [
              "Furnishing Status  Furnished  Semi-Furnished  Unfurnished\n",
              "City                                                     \n",
              "Bangalore                 91             584          211\n",
              "Chennai                   81             448          362\n",
              "Delhi                     97             278          230\n",
              "Hyderabad                111             402          355\n",
              "Kolkata                   61             142          321\n",
              "Mumbai                   239             397          336"
            ]
          },
          "execution_count": 28,
          "metadata": {},
          "output_type": "execute_result"
        }
      ],
      "source": [
        "pd.crosstab(df_house[\"City\"], df_house[\"Furnishing Status\"])"
      ]
    },
    {
      "cell_type": "markdown",
      "metadata": {
        "id": "cc50i5820Lu7"
      },
      "source": [
        "La función `crosstab()` tiene otros argumentos que nos pueden ayudar a crear tablas más ordenadas o con más información."
      ]
    },
    {
      "cell_type": "code",
      "execution_count": 29,
      "metadata": {
        "colab": {
          "base_uri": "https://localhost:8080/",
          "height": 300
        },
        "id": "628cdf80",
        "outputId": "0bc640bc-b628-4de2-f0e5-8f06c02fd6d0"
      },
      "outputs": [
        {
          "data": {
            "text/html": [
              "<div>\n",
              "<style scoped>\n",
              "    .dataframe tbody tr th:only-of-type {\n",
              "        vertical-align: middle;\n",
              "    }\n",
              "\n",
              "    .dataframe tbody tr th {\n",
              "        vertical-align: top;\n",
              "    }\n",
              "\n",
              "    .dataframe thead th {\n",
              "        text-align: right;\n",
              "    }\n",
              "</style>\n",
              "<table border=\"1\" class=\"dataframe\">\n",
              "  <thead>\n",
              "    <tr style=\"text-align: right;\">\n",
              "      <th>Furnishing Status</th>\n",
              "      <th>Furnished</th>\n",
              "      <th>Semi-Furnished</th>\n",
              "      <th>Unfurnished</th>\n",
              "      <th>All</th>\n",
              "    </tr>\n",
              "    <tr>\n",
              "      <th>City</th>\n",
              "      <th></th>\n",
              "      <th></th>\n",
              "      <th></th>\n",
              "      <th></th>\n",
              "    </tr>\n",
              "  </thead>\n",
              "  <tbody>\n",
              "    <tr>\n",
              "      <th>Bangalore</th>\n",
              "      <td>91</td>\n",
              "      <td>584</td>\n",
              "      <td>211</td>\n",
              "      <td>886</td>\n",
              "    </tr>\n",
              "    <tr>\n",
              "      <th>Chennai</th>\n",
              "      <td>81</td>\n",
              "      <td>448</td>\n",
              "      <td>362</td>\n",
              "      <td>891</td>\n",
              "    </tr>\n",
              "    <tr>\n",
              "      <th>Delhi</th>\n",
              "      <td>97</td>\n",
              "      <td>278</td>\n",
              "      <td>230</td>\n",
              "      <td>605</td>\n",
              "    </tr>\n",
              "    <tr>\n",
              "      <th>Hyderabad</th>\n",
              "      <td>111</td>\n",
              "      <td>402</td>\n",
              "      <td>355</td>\n",
              "      <td>868</td>\n",
              "    </tr>\n",
              "    <tr>\n",
              "      <th>Kolkata</th>\n",
              "      <td>61</td>\n",
              "      <td>142</td>\n",
              "      <td>321</td>\n",
              "      <td>524</td>\n",
              "    </tr>\n",
              "    <tr>\n",
              "      <th>Mumbai</th>\n",
              "      <td>239</td>\n",
              "      <td>397</td>\n",
              "      <td>336</td>\n",
              "      <td>972</td>\n",
              "    </tr>\n",
              "    <tr>\n",
              "      <th>All</th>\n",
              "      <td>680</td>\n",
              "      <td>2251</td>\n",
              "      <td>1815</td>\n",
              "      <td>4746</td>\n",
              "    </tr>\n",
              "  </tbody>\n",
              "</table>\n",
              "</div>"
            ],
            "text/plain": [
              "Furnishing Status  Furnished  Semi-Furnished  Unfurnished   All\n",
              "City                                                           \n",
              "Bangalore                 91             584          211   886\n",
              "Chennai                   81             448          362   891\n",
              "Delhi                     97             278          230   605\n",
              "Hyderabad                111             402          355   868\n",
              "Kolkata                   61             142          321   524\n",
              "Mumbai                   239             397          336   972\n",
              "All                      680            2251         1815  4746"
            ]
          },
          "execution_count": 29,
          "metadata": {},
          "output_type": "execute_result"
        }
      ],
      "source": [
        "pd.crosstab(df_house[\"City\"], df_house[\"Furnishing Status\"], margins=True)#Agrega una columna y una fila con los Valores Totales"
      ]
    },
    {
      "cell_type": "code",
      "execution_count": 30,
      "metadata": {
        "colab": {
          "base_uri": "https://localhost:8080/",
          "height": 331
        },
        "id": "42bb9e13",
        "outputId": "d6cd66d6-d691-4ec7-cb1e-e428ef4eccf3"
      },
      "outputs": [
        {
          "data": {
            "text/html": [
              "<div>\n",
              "<style scoped>\n",
              "    .dataframe tbody tr th:only-of-type {\n",
              "        vertical-align: middle;\n",
              "    }\n",
              "\n",
              "    .dataframe tbody tr th {\n",
              "        vertical-align: top;\n",
              "    }\n",
              "\n",
              "    .dataframe thead tr th {\n",
              "        text-align: left;\n",
              "    }\n",
              "\n",
              "    .dataframe thead tr:last-of-type th {\n",
              "        text-align: right;\n",
              "    }\n",
              "</style>\n",
              "<table border=\"1\" class=\"dataframe\">\n",
              "  <thead>\n",
              "    <tr>\n",
              "      <th>Furnishing Status</th>\n",
              "      <th colspan=\"3\" halign=\"left\">Furnished</th>\n",
              "      <th colspan=\"3\" halign=\"left\">Semi-Furnished</th>\n",
              "      <th colspan=\"3\" halign=\"left\">Unfurnished</th>\n",
              "      <th>All</th>\n",
              "    </tr>\n",
              "    <tr>\n",
              "      <th>Tenant Preferred</th>\n",
              "      <th>Bachelors</th>\n",
              "      <th>Bachelors/Family</th>\n",
              "      <th>Family</th>\n",
              "      <th>Bachelors</th>\n",
              "      <th>Bachelors/Family</th>\n",
              "      <th>Family</th>\n",
              "      <th>Bachelors</th>\n",
              "      <th>Bachelors/Family</th>\n",
              "      <th>Family</th>\n",
              "      <th></th>\n",
              "    </tr>\n",
              "    <tr>\n",
              "      <th>City</th>\n",
              "      <th></th>\n",
              "      <th></th>\n",
              "      <th></th>\n",
              "      <th></th>\n",
              "      <th></th>\n",
              "      <th></th>\n",
              "      <th></th>\n",
              "      <th></th>\n",
              "      <th></th>\n",
              "      <th></th>\n",
              "    </tr>\n",
              "  </thead>\n",
              "  <tbody>\n",
              "    <tr>\n",
              "      <th>Bangalore</th>\n",
              "      <td>11</td>\n",
              "      <td>73</td>\n",
              "      <td>7</td>\n",
              "      <td>70</td>\n",
              "      <td>470</td>\n",
              "      <td>44</td>\n",
              "      <td>54</td>\n",
              "      <td>151</td>\n",
              "      <td>6</td>\n",
              "      <td>886</td>\n",
              "    </tr>\n",
              "    <tr>\n",
              "      <th>Chennai</th>\n",
              "      <td>8</td>\n",
              "      <td>67</td>\n",
              "      <td>6</td>\n",
              "      <td>58</td>\n",
              "      <td>320</td>\n",
              "      <td>70</td>\n",
              "      <td>71</td>\n",
              "      <td>262</td>\n",
              "      <td>29</td>\n",
              "      <td>891</td>\n",
              "    </tr>\n",
              "    <tr>\n",
              "      <th>Delhi</th>\n",
              "      <td>20</td>\n",
              "      <td>77</td>\n",
              "      <td>0</td>\n",
              "      <td>81</td>\n",
              "      <td>191</td>\n",
              "      <td>6</td>\n",
              "      <td>61</td>\n",
              "      <td>164</td>\n",
              "      <td>5</td>\n",
              "      <td>605</td>\n",
              "    </tr>\n",
              "    <tr>\n",
              "      <th>Hyderabad</th>\n",
              "      <td>12</td>\n",
              "      <td>84</td>\n",
              "      <td>15</td>\n",
              "      <td>36</td>\n",
              "      <td>311</td>\n",
              "      <td>55</td>\n",
              "      <td>54</td>\n",
              "      <td>281</td>\n",
              "      <td>20</td>\n",
              "      <td>868</td>\n",
              "    </tr>\n",
              "    <tr>\n",
              "      <th>Kolkata</th>\n",
              "      <td>11</td>\n",
              "      <td>49</td>\n",
              "      <td>1</td>\n",
              "      <td>20</td>\n",
              "      <td>115</td>\n",
              "      <td>7</td>\n",
              "      <td>91</td>\n",
              "      <td>215</td>\n",
              "      <td>15</td>\n",
              "      <td>524</td>\n",
              "    </tr>\n",
              "    <tr>\n",
              "      <th>Mumbai</th>\n",
              "      <td>35</td>\n",
              "      <td>158</td>\n",
              "      <td>46</td>\n",
              "      <td>59</td>\n",
              "      <td>268</td>\n",
              "      <td>70</td>\n",
              "      <td>78</td>\n",
              "      <td>188</td>\n",
              "      <td>70</td>\n",
              "      <td>972</td>\n",
              "    </tr>\n",
              "    <tr>\n",
              "      <th>All</th>\n",
              "      <td>97</td>\n",
              "      <td>508</td>\n",
              "      <td>75</td>\n",
              "      <td>324</td>\n",
              "      <td>1675</td>\n",
              "      <td>252</td>\n",
              "      <td>409</td>\n",
              "      <td>1261</td>\n",
              "      <td>145</td>\n",
              "      <td>4746</td>\n",
              "    </tr>\n",
              "  </tbody>\n",
              "</table>\n",
              "</div>"
            ],
            "text/plain": [
              "Furnishing Status Furnished                         Semi-Furnished  \\\n",
              "Tenant Preferred  Bachelors Bachelors/Family Family      Bachelors   \n",
              "City                                                                 \n",
              "Bangalore                11               73      7             70   \n",
              "Chennai                   8               67      6             58   \n",
              "Delhi                    20               77      0             81   \n",
              "Hyderabad                12               84     15             36   \n",
              "Kolkata                  11               49      1             20   \n",
              "Mumbai                   35              158     46             59   \n",
              "All                      97              508     75            324   \n",
              "\n",
              "Furnishing Status                         Unfurnished                          \\\n",
              "Tenant Preferred  Bachelors/Family Family   Bachelors Bachelors/Family Family   \n",
              "City                                                                            \n",
              "Bangalore                      470     44          54              151      6   \n",
              "Chennai                        320     70          71              262     29   \n",
              "Delhi                          191      6          61              164      5   \n",
              "Hyderabad                      311     55          54              281     20   \n",
              "Kolkata                        115      7          91              215     15   \n",
              "Mumbai                         268     70          78              188     70   \n",
              "All                           1675    252         409             1261    145   \n",
              "\n",
              "Furnishing Status   All  \n",
              "Tenant Preferred         \n",
              "City                     \n",
              "Bangalore           886  \n",
              "Chennai             891  \n",
              "Delhi               605  \n",
              "Hyderabad           868  \n",
              "Kolkata             524  \n",
              "Mumbai              972  \n",
              "All                4746  "
            ]
          },
          "execution_count": 30,
          "metadata": {},
          "output_type": "execute_result"
        }
      ],
      "source": [
        "pd.crosstab(df_house[\"City\"], [df_house[\"Furnishing Status\"],df_house[\"Tenant Preferred\"]], margins=True)#Totales#2 variables en el eje x, se puede hacer lo mismo con el y"
      ]
    },
    {
      "cell_type": "code",
      "execution_count": 31,
      "metadata": {
        "colab": {
          "base_uri": "https://localhost:8080/",
          "height": 269
        },
        "id": "e8c55655",
        "outputId": "efdc7bbb-319c-4797-89c1-d46358c186a9"
      },
      "outputs": [
        {
          "data": {
            "text/html": [
              "<div>\n",
              "<style scoped>\n",
              "    .dataframe tbody tr th:only-of-type {\n",
              "        vertical-align: middle;\n",
              "    }\n",
              "\n",
              "    .dataframe tbody tr th {\n",
              "        vertical-align: top;\n",
              "    }\n",
              "\n",
              "    .dataframe thead th {\n",
              "        text-align: right;\n",
              "    }\n",
              "</style>\n",
              "<table border=\"1\" class=\"dataframe\">\n",
              "  <thead>\n",
              "    <tr style=\"text-align: right;\">\n",
              "      <th>Furnishing Status</th>\n",
              "      <th>Furnished</th>\n",
              "      <th>Semi-Furnished</th>\n",
              "      <th>Unfurnished</th>\n",
              "    </tr>\n",
              "    <tr>\n",
              "      <th>City</th>\n",
              "      <th></th>\n",
              "      <th></th>\n",
              "      <th></th>\n",
              "    </tr>\n",
              "  </thead>\n",
              "  <tbody>\n",
              "    <tr>\n",
              "      <th>Bangalore</th>\n",
              "      <td>0.10</td>\n",
              "      <td>0.66</td>\n",
              "      <td>0.24</td>\n",
              "    </tr>\n",
              "    <tr>\n",
              "      <th>Chennai</th>\n",
              "      <td>0.09</td>\n",
              "      <td>0.50</td>\n",
              "      <td>0.41</td>\n",
              "    </tr>\n",
              "    <tr>\n",
              "      <th>Delhi</th>\n",
              "      <td>0.16</td>\n",
              "      <td>0.46</td>\n",
              "      <td>0.38</td>\n",
              "    </tr>\n",
              "    <tr>\n",
              "      <th>Hyderabad</th>\n",
              "      <td>0.13</td>\n",
              "      <td>0.46</td>\n",
              "      <td>0.41</td>\n",
              "    </tr>\n",
              "    <tr>\n",
              "      <th>Kolkata</th>\n",
              "      <td>0.12</td>\n",
              "      <td>0.27</td>\n",
              "      <td>0.61</td>\n",
              "    </tr>\n",
              "    <tr>\n",
              "      <th>Mumbai</th>\n",
              "      <td>0.25</td>\n",
              "      <td>0.41</td>\n",
              "      <td>0.35</td>\n",
              "    </tr>\n",
              "  </tbody>\n",
              "</table>\n",
              "</div>"
            ],
            "text/plain": [
              "Furnishing Status  Furnished  Semi-Furnished  Unfurnished\n",
              "City                                                     \n",
              "Bangalore               0.10            0.66         0.24\n",
              "Chennai                 0.09            0.50         0.41\n",
              "Delhi                   0.16            0.46         0.38\n",
              "Hyderabad               0.13            0.46         0.41\n",
              "Kolkata                 0.12            0.27         0.61\n",
              "Mumbai                  0.25            0.41         0.35"
            ]
          },
          "execution_count": 31,
          "metadata": {},
          "output_type": "execute_result"
        }
      ],
      "source": [
        "pd.crosstab(df_house[\"City\"], df_house[\"Furnishing Status\"], normalize=\"index\")#normaliza respecto a un elemento | index para filas | columns para columnas | True o all para el total | mostrar en la documentación"
      ]
    },
    {
      "cell_type": "code",
      "execution_count": 32,
      "metadata": {
        "colab": {
          "base_uri": "https://localhost:8080/"
        },
        "id": "be7e4d87",
        "outputId": "98a75c6c-7093-4f29-dfd6-92b3a3475ba6"
      },
      "outputs": [
        {
          "data": {
            "text/plain": [
              "1.0"
            ]
          },
          "execution_count": 32,
          "metadata": {},
          "output_type": "execute_result"
        }
      ],
      "source": [
        "0.102709 + 0.659142 + 0.238149"
      ]
    },
    {
      "cell_type": "markdown",
      "metadata": {
        "id": "6UnAYVIv36jp"
      },
      "source": [
        "También se puede crear la tabla usando funciones sobre valores, no solo con las frecuencias."
      ]
    },
    {
      "cell_type": "code",
      "execution_count": 33,
      "metadata": {
        "colab": {
          "base_uri": "https://localhost:8080/",
          "height": 269
        },
        "id": "4392f727",
        "outputId": "ee07b7ce-1fe0-4c5e-f039-e6cc98e1cde6"
      },
      "outputs": [
        {
          "data": {
            "text/html": [
              "<div>\n",
              "<style scoped>\n",
              "    .dataframe tbody tr th:only-of-type {\n",
              "        vertical-align: middle;\n",
              "    }\n",
              "\n",
              "    .dataframe tbody tr th {\n",
              "        vertical-align: top;\n",
              "    }\n",
              "\n",
              "    .dataframe thead th {\n",
              "        text-align: right;\n",
              "    }\n",
              "</style>\n",
              "<table border=\"1\" class=\"dataframe\">\n",
              "  <thead>\n",
              "    <tr style=\"text-align: right;\">\n",
              "      <th>Furnishing Status</th>\n",
              "      <th>Furnished</th>\n",
              "      <th>Semi-Furnished</th>\n",
              "      <th>Unfurnished</th>\n",
              "    </tr>\n",
              "    <tr>\n",
              "      <th>City</th>\n",
              "      <th></th>\n",
              "      <th></th>\n",
              "      <th></th>\n",
              "    </tr>\n",
              "  </thead>\n",
              "  <tbody>\n",
              "    <tr>\n",
              "      <th>Bangalore</th>\n",
              "      <td>32,531.87</td>\n",
              "      <td>26,879.45</td>\n",
              "      <td>16,408.53</td>\n",
              "    </tr>\n",
              "    <tr>\n",
              "      <th>Chennai</th>\n",
              "      <td>32,961.67</td>\n",
              "      <td>23,900.58</td>\n",
              "      <td>16,245.30</td>\n",
              "    </tr>\n",
              "    <tr>\n",
              "      <th>Delhi</th>\n",
              "      <td>30,214.44</td>\n",
              "      <td>33,945.32</td>\n",
              "      <td>23,725.65</td>\n",
              "    </tr>\n",
              "    <tr>\n",
              "      <th>Hyderabad</th>\n",
              "      <td>24,353.15</td>\n",
              "      <td>25,002.44</td>\n",
              "      <td>14,331.27</td>\n",
              "    </tr>\n",
              "    <tr>\n",
              "      <th>Kolkata</th>\n",
              "      <td>13,865.57</td>\n",
              "      <td>11,722.54</td>\n",
              "      <td>11,189.01</td>\n",
              "    </tr>\n",
              "    <tr>\n",
              "      <th>Mumbai</th>\n",
              "      <td>108,974.53</td>\n",
              "      <td>99,744.59</td>\n",
              "      <td>51,454.46</td>\n",
              "    </tr>\n",
              "  </tbody>\n",
              "</table>\n",
              "</div>"
            ],
            "text/plain": [
              "Furnishing Status  Furnished  Semi-Furnished  Unfurnished\n",
              "City                                                     \n",
              "Bangalore          32,531.87       26,879.45    16,408.53\n",
              "Chennai            32,961.67       23,900.58    16,245.30\n",
              "Delhi              30,214.44       33,945.32    23,725.65\n",
              "Hyderabad          24,353.15       25,002.44    14,331.27\n",
              "Kolkata            13,865.57       11,722.54    11,189.01\n",
              "Mumbai            108,974.53       99,744.59    51,454.46"
            ]
          },
          "execution_count": 33,
          "metadata": {},
          "output_type": "execute_result"
        }
      ],
      "source": [
        "pd.crosstab(df_house[\"City\"], df_house[\"Furnishing Status\"], values=df_house[\"Rent\"], aggfunc=np.average)"
      ]
    },
    {
      "cell_type": "code",
      "execution_count": 34,
      "metadata": {
        "colab": {
          "base_uri": "https://localhost:8080/",
          "height": 269
        },
        "id": "919b80b9",
        "outputId": "b507aee5-5fd4-467e-a9e9-c2686a73b82b"
      },
      "outputs": [
        {
          "data": {
            "text/html": [
              "<div>\n",
              "<style scoped>\n",
              "    .dataframe tbody tr th:only-of-type {\n",
              "        vertical-align: middle;\n",
              "    }\n",
              "\n",
              "    .dataframe tbody tr th {\n",
              "        vertical-align: top;\n",
              "    }\n",
              "\n",
              "    .dataframe thead th {\n",
              "        text-align: right;\n",
              "    }\n",
              "</style>\n",
              "<table border=\"1\" class=\"dataframe\">\n",
              "  <thead>\n",
              "    <tr style=\"text-align: right;\">\n",
              "      <th>Furnishing Status</th>\n",
              "      <th>Furnished</th>\n",
              "      <th>Semi-Furnished</th>\n",
              "      <th>Unfurnished</th>\n",
              "    </tr>\n",
              "    <tr>\n",
              "      <th>City</th>\n",
              "      <th></th>\n",
              "      <th></th>\n",
              "      <th></th>\n",
              "    </tr>\n",
              "  </thead>\n",
              "  <tbody>\n",
              "    <tr>\n",
              "      <th>Bangalore</th>\n",
              "      <td>32,531.87</td>\n",
              "      <td>26,879.45</td>\n",
              "      <td>16,408.53</td>\n",
              "    </tr>\n",
              "    <tr>\n",
              "      <th>Chennai</th>\n",
              "      <td>32,961.67</td>\n",
              "      <td>23,900.58</td>\n",
              "      <td>16,245.30</td>\n",
              "    </tr>\n",
              "    <tr>\n",
              "      <th>Delhi</th>\n",
              "      <td>30,214.44</td>\n",
              "      <td>33,945.32</td>\n",
              "      <td>23,725.65</td>\n",
              "    </tr>\n",
              "    <tr>\n",
              "      <th>Hyderabad</th>\n",
              "      <td>24,353.15</td>\n",
              "      <td>25,002.44</td>\n",
              "      <td>14,331.27</td>\n",
              "    </tr>\n",
              "    <tr>\n",
              "      <th>Kolkata</th>\n",
              "      <td>13,865.57</td>\n",
              "      <td>11,722.54</td>\n",
              "      <td>11,189.01</td>\n",
              "    </tr>\n",
              "    <tr>\n",
              "      <th>Mumbai</th>\n",
              "      <td>108,974.53</td>\n",
              "      <td>99,744.59</td>\n",
              "      <td>51,454.46</td>\n",
              "    </tr>\n",
              "  </tbody>\n",
              "</table>\n",
              "</div>"
            ],
            "text/plain": [
              "Furnishing Status  Furnished  Semi-Furnished  Unfurnished\n",
              "City                                                     \n",
              "Bangalore          32,531.87       26,879.45    16,408.53\n",
              "Chennai            32,961.67       23,900.58    16,245.30\n",
              "Delhi              30,214.44       33,945.32    23,725.65\n",
              "Hyderabad          24,353.15       25,002.44    14,331.27\n",
              "Kolkata            13,865.57       11,722.54    11,189.01\n",
              "Mumbai            108,974.53       99,744.59    51,454.46"
            ]
          },
          "execution_count": 34,
          "metadata": {},
          "output_type": "execute_result"
        }
      ],
      "source": [
        "pd.crosstab(df_house[\"City\"], df_house[\"Furnishing Status\"], values=df_house[\"Rent\"], aggfunc=\"mean\")"
      ]
    },
    {
      "cell_type": "code",
      "execution_count": 35,
      "metadata": {
        "colab": {
          "base_uri": "https://localhost:8080/",
          "height": 269
        },
        "id": "859a0f17",
        "outputId": "e27a90f2-e4dd-4189-fa2e-d122c9d71fe3"
      },
      "outputs": [
        {
          "data": {
            "text/html": [
              "<div>\n",
              "<style scoped>\n",
              "    .dataframe tbody tr th:only-of-type {\n",
              "        vertical-align: middle;\n",
              "    }\n",
              "\n",
              "    .dataframe tbody tr th {\n",
              "        vertical-align: top;\n",
              "    }\n",
              "\n",
              "    .dataframe thead th {\n",
              "        text-align: right;\n",
              "    }\n",
              "</style>\n",
              "<table border=\"1\" class=\"dataframe\">\n",
              "  <thead>\n",
              "    <tr style=\"text-align: right;\">\n",
              "      <th>Estado</th>\n",
              "      <th>Furnished</th>\n",
              "      <th>Semi-Furnished</th>\n",
              "      <th>Unfurnished</th>\n",
              "    </tr>\n",
              "    <tr>\n",
              "      <th>Ciudad</th>\n",
              "      <th></th>\n",
              "      <th></th>\n",
              "      <th></th>\n",
              "    </tr>\n",
              "  </thead>\n",
              "  <tbody>\n",
              "    <tr>\n",
              "      <th>Bangalore</th>\n",
              "      <td>5000</td>\n",
              "      <td>4000</td>\n",
              "      <td>3500</td>\n",
              "    </tr>\n",
              "    <tr>\n",
              "      <th>Chennai</th>\n",
              "      <td>6500</td>\n",
              "      <td>3500</td>\n",
              "      <td>3000</td>\n",
              "    </tr>\n",
              "    <tr>\n",
              "      <th>Delhi</th>\n",
              "      <td>5000</td>\n",
              "      <td>5000</td>\n",
              "      <td>2000</td>\n",
              "    </tr>\n",
              "    <tr>\n",
              "      <th>Hyderabad</th>\n",
              "      <td>1200</td>\n",
              "      <td>3000</td>\n",
              "      <td>3300</td>\n",
              "    </tr>\n",
              "    <tr>\n",
              "      <th>Kolkata</th>\n",
              "      <td>2200</td>\n",
              "      <td>1500</td>\n",
              "      <td>2200</td>\n",
              "    </tr>\n",
              "    <tr>\n",
              "      <th>Mumbai</th>\n",
              "      <td>11000</td>\n",
              "      <td>6000</td>\n",
              "      <td>4500</td>\n",
              "    </tr>\n",
              "  </tbody>\n",
              "</table>\n",
              "</div>"
            ],
            "text/plain": [
              "Estado     Furnished  Semi-Furnished  Unfurnished\n",
              "Ciudad                                           \n",
              "Bangalore       5000            4000         3500\n",
              "Chennai         6500            3500         3000\n",
              "Delhi           5000            5000         2000\n",
              "Hyderabad       1200            3000         3300\n",
              "Kolkata         2200            1500         2200\n",
              "Mumbai         11000            6000         4500"
            ]
          },
          "execution_count": 35,
          "metadata": {},
          "output_type": "execute_result"
        }
      ],
      "source": [
        "pd.crosstab(df_house[\"City\"], df_house[\"Furnishing Status\"], values=df_house[\"Rent\"], aggfunc=\"min\", rownames= [\"Ciudad\"], colnames=[\"Estado\"])"
      ]
    },
    {
      "cell_type": "code",
      "execution_count": 36,
      "metadata": {
        "colab": {
          "base_uri": "https://localhost:8080/",
          "height": 457
        },
        "id": "ef73a8d5",
        "outputId": "47af13c3-7a30-436f-e5b6-67f2b4de73bf"
      },
      "outputs": [
        {
          "data": {
            "text/html": [
              "<div>\n",
              "<style scoped>\n",
              "    .dataframe tbody tr th:only-of-type {\n",
              "        vertical-align: middle;\n",
              "    }\n",
              "\n",
              "    .dataframe tbody tr th {\n",
              "        vertical-align: top;\n",
              "    }\n",
              "\n",
              "    .dataframe thead th {\n",
              "        text-align: right;\n",
              "    }\n",
              "</style>\n",
              "<table border=\"1\" class=\"dataframe\">\n",
              "  <thead>\n",
              "    <tr style=\"text-align: right;\">\n",
              "      <th></th>\n",
              "      <th>Furnishing Status</th>\n",
              "      <th>Furnished</th>\n",
              "      <th>Semi-Furnished</th>\n",
              "      <th>Unfurnished</th>\n",
              "    </tr>\n",
              "    <tr>\n",
              "      <th>City</th>\n",
              "      <th>Posted On</th>\n",
              "      <th></th>\n",
              "      <th></th>\n",
              "      <th></th>\n",
              "    </tr>\n",
              "  </thead>\n",
              "  <tbody>\n",
              "    <tr>\n",
              "      <th rowspan=\"2\" valign=\"top\">Bangalore</th>\n",
              "      <th>2</th>\n",
              "      <td>5000</td>\n",
              "      <td>4000</td>\n",
              "      <td>3500</td>\n",
              "    </tr>\n",
              "    <tr>\n",
              "      <th>3</th>\n",
              "      <td>12000</td>\n",
              "      <td>4500</td>\n",
              "      <td>5000</td>\n",
              "    </tr>\n",
              "    <tr>\n",
              "      <th rowspan=\"2\" valign=\"top\">Chennai</th>\n",
              "      <th>2</th>\n",
              "      <td>6500</td>\n",
              "      <td>3500</td>\n",
              "      <td>3000</td>\n",
              "    </tr>\n",
              "    <tr>\n",
              "      <th>3</th>\n",
              "      <td>8000</td>\n",
              "      <td>5700</td>\n",
              "      <td>3500</td>\n",
              "    </tr>\n",
              "    <tr>\n",
              "      <th rowspan=\"2\" valign=\"top\">Delhi</th>\n",
              "      <th>2</th>\n",
              "      <td>5000</td>\n",
              "      <td>5000</td>\n",
              "      <td>2000</td>\n",
              "    </tr>\n",
              "    <tr>\n",
              "      <th>3</th>\n",
              "      <td>9500</td>\n",
              "      <td>5000</td>\n",
              "      <td>5500</td>\n",
              "    </tr>\n",
              "    <tr>\n",
              "      <th rowspan=\"2\" valign=\"top\">Hyderabad</th>\n",
              "      <th>2</th>\n",
              "      <td>1200</td>\n",
              "      <td>3000</td>\n",
              "      <td>3300</td>\n",
              "    </tr>\n",
              "    <tr>\n",
              "      <th>3</th>\n",
              "      <td>8000</td>\n",
              "      <td>3000</td>\n",
              "      <td>5000</td>\n",
              "    </tr>\n",
              "    <tr>\n",
              "      <th rowspan=\"2\" valign=\"top\">Kolkata</th>\n",
              "      <th>2</th>\n",
              "      <td>2200</td>\n",
              "      <td>1500</td>\n",
              "      <td>2200</td>\n",
              "    </tr>\n",
              "    <tr>\n",
              "      <th>3</th>\n",
              "      <td>4700</td>\n",
              "      <td>6500</td>\n",
              "      <td>4000</td>\n",
              "    </tr>\n",
              "    <tr>\n",
              "      <th rowspan=\"2\" valign=\"top\">Mumbai</th>\n",
              "      <th>2</th>\n",
              "      <td>11000</td>\n",
              "      <td>6000</td>\n",
              "      <td>4500</td>\n",
              "    </tr>\n",
              "    <tr>\n",
              "      <th>3</th>\n",
              "      <td>28000</td>\n",
              "      <td>7500</td>\n",
              "      <td>6000</td>\n",
              "    </tr>\n",
              "  </tbody>\n",
              "</table>\n",
              "</div>"
            ],
            "text/plain": [
              "Furnishing Status    Furnished  Semi-Furnished  Unfurnished\n",
              "City      Posted On                                        \n",
              "Bangalore 2               5000            4000         3500\n",
              "          3              12000            4500         5000\n",
              "Chennai   2               6500            3500         3000\n",
              "          3               8000            5700         3500\n",
              "Delhi     2               5000            5000         2000\n",
              "          3               9500            5000         5500\n",
              "Hyderabad 2               1200            3000         3300\n",
              "          3               8000            3000         5000\n",
              "Kolkata   2               2200            1500         2200\n",
              "          3               4700            6500         4000\n",
              "Mumbai    2              11000            6000         4500\n",
              "          3              28000            7500         6000"
            ]
          },
          "execution_count": 36,
          "metadata": {},
          "output_type": "execute_result"
        }
      ],
      "source": [
        "pd.crosstab([df_house[\"City\"], df_house[\"Posted On\"].dt.quarter], df_house[\"Furnishing Status\"], values=df_house[\"Rent\"], aggfunc=\"min\") #Acá estamos usando una función sobre los valores de fecha para organizar los registros en trimestres."
      ]
    },
    {
      "cell_type": "markdown",
      "metadata": {
        "id": "d4f6e026"
      },
      "source": [
        "Como se ha mostrado en clases anteriores, los gráficos también son una forma útil de observar el comportamiento de los datos y ver si observamos agrupaciones (clusters) que nos permitan empezar a formular hipótesis.\n",
        "### Gráficos"
      ]
    },
    {
      "cell_type": "markdown",
      "metadata": {
        "id": "snVUmjGb8CyY"
      },
      "source": [
        "Empecemos con un gráfico de burbujas, este se realiza con el mismo código del gráfico de dispersión, donde hacemos uso de las características de las marcas para graficar otro tipo de variables.\n",
        "<ul>\n",
        "<li>Eje X: Continua</li>\n",
        "<li>Eje Y: Continua</li>\n",
        "<li>Tamaño de los marcadores: Puede ser continua o categórica</li>\n",
        "<li>Color de los marcadores: Puede ser continua o categórica</li>\n",
        "</ul>"
      ]
    },
    {
      "cell_type": "code",
      "execution_count": 37,
      "metadata": {
        "colab": {
          "base_uri": "https://localhost:8080/",
          "height": 883
        },
        "id": "9942c78e",
        "outputId": "1742775b-c266-4010-8c6c-4422dd0c0a35"
      },
      "outputs": [
        {
          "data": {
            "text/plain": [
              "<Axes: xlabel='Posted On', ylabel='Rent'>"
            ]
          },
          "execution_count": 37,
          "metadata": {},
          "output_type": "execute_result"
        },
        {
          "data": {
            "image/png": "[encoded data removed]",
            "text/plain": [
              "<Figure size 1500x1000 with 1 Axes>"
            ]
          },
          "metadata": {},
          "output_type": "display_data"
        }
      ],
      "source": [
        "plt.figure(figsize=(15,10))\n",
        "sns.scatterplot(data=df_house, x=\"Posted On\", y=\"Rent\", hue=\"City\", size=\"Bathroom\", legend=True, sizes=(10, 500))"
      ]
    },
    {
      "cell_type": "markdown",
      "metadata": {
        "id": "53I9oH4B-KYx"
      },
      "source": [
        "El diagrama de caja y bigotes también nos puede agrupar por una variable categórica los gráficos realizados.\n",
        "\n",
        "<b>Pregunta:</b> ¿Qué información adicional brindaría el diagrama de violín frente al de caja y bigotes?"
      ]
    },
    {
      "cell_type": "code",
      "execution_count": 38,
      "metadata": {
        "colab": {
          "base_uri": "https://localhost:8080/",
          "height": 883
        },
        "id": "a7369461",
        "outputId": "1a8deb76-f522-4b39-e8ae-14a063da3fd4"
      },
      "outputs": [
        {
          "data": {
            "text/plain": [
              "<Axes: xlabel='Area Type', ylabel='Rent'>"
            ]
          },
          "execution_count": 38,
          "metadata": {},
          "output_type": "execute_result"
        },
        {
          "data": {
            "image/png": "[encoded data removed]",
            "text/plain": [
              "<Figure size 1500x1000 with 1 Axes>"
            ]
          },
          "metadata": {},
          "output_type": "display_data"
        }
      ],
      "source": [
        "plt.figure(figsize=(15,10))\n",
        "sns.boxplot(data=df_house, x=\"Area Type\", y=\"Rent\", hue=\"Point of Contact\")"
      ]
    },
    {
      "cell_type": "markdown",
      "metadata": {
        "id": "G2x9_isk_I7W"
      },
      "source": [
        "De forma similar, en un diagrama de barras también se pueden agrupar las columnas por otras variables categóricas."
      ]
    },
    {
      "cell_type": "code",
      "execution_count": 39,
      "metadata": {
        "colab": {
          "base_uri": "https://localhost:8080/",
          "height": 868
        },
        "id": "fda5f59d",
        "outputId": "786b404e-c013-4249-bc29-1f1f472b4d0f"
      },
      "outputs": [
        {
          "data": {
            "text/plain": [
              "<Axes: xlabel='Bathroom', ylabel='Rent'>"
            ]
          },
          "execution_count": 39,
          "metadata": {},
          "output_type": "execute_result"
        },
        {
          "data": {
            "image/png": "[encoded data removed]",
            "text/plain": [
              "<Figure size 1500x1000 with 1 Axes>"
            ]
          },
          "metadata": {},
          "output_type": "display_data"
        }
      ],
      "source": [
        "plt.figure(figsize=(15,10))\n",
        "sns.barplot(data=df_house, x = \"Bathroom\", y = \"Rent\")"
      ]
    },
    {
      "cell_type": "code",
      "execution_count": 40,
      "metadata": {
        "colab": {
          "base_uri": "https://localhost:8080/",
          "height": 868
        },
        "id": "7cd4514a",
        "outputId": "1e6fd45f-d353-4de8-bd95-153395fa31d9"
      },
      "outputs": [
        {
          "data": {
            "text/plain": [
              "<Axes: xlabel='Bathroom', ylabel='Rent'>"
            ]
          },
          "execution_count": 40,
          "metadata": {},
          "output_type": "execute_result"
        },
        {
          "data": {
            "image/png": "[encoded data removed]",
            "text/plain": [
              "<Figure size 1500x1000 with 1 Axes>"
            ]
          },
          "metadata": {},
          "output_type": "display_data"
        }
      ],
      "source": [
        "plt.figure(figsize=(15,10))\n",
        "sns.barplot(data=df_house, x = \"Bathroom\", y = \"Rent\", hue=\"Tenant Preferred\")"
      ]
    },
    {
      "cell_type": "markdown",
      "metadata": {
        "id": "297e3b83"
      },
      "source": [
        "### Matriz de varianza covarianza"
      ]
    },
    {
      "cell_type": "markdown",
      "metadata": {
        "id": "df3c55ac"
      },
      "source": [
        "La covarianza es una medida de cómo los cambios en una variable se asocian con los cambios en una segunda variable. Específicamente, es una medida del grado en que dos variables están asociadas linealmente.<br>\n",
        "La varianza es la distancia promedio de los valores respecto a su media.<br>\n",
        "En una matriz de varianza-covarianza tenemos en la diagonal la <b>varianza</b> de una variable respecto a sí misma, mientras que los otros valores son la <b>covarianza</b> entre dos variables."
      ]
    },
    {
      "cell_type": "code",
      "execution_count": 41,
      "metadata": {
        "colab": {
          "base_uri": "https://localhost:8080/",
          "height": 175
        },
        "id": "9508d654",
        "outputId": "0639a58c-367d-40e0-c708-65d638dd1b9e"
      },
      "outputs": [
        {
          "data": {
            "text/html": [
              "<div>\n",
              "<style scoped>\n",
              "    .dataframe tbody tr th:only-of-type {\n",
              "        vertical-align: middle;\n",
              "    }\n",
              "\n",
              "    .dataframe tbody tr th {\n",
              "        vertical-align: top;\n",
              "    }\n",
              "\n",
              "    .dataframe thead th {\n",
              "        text-align: right;\n",
              "    }\n",
              "</style>\n",
              "<table border=\"1\" class=\"dataframe\">\n",
              "  <thead>\n",
              "    <tr style=\"text-align: right;\">\n",
              "      <th></th>\n",
              "      <th>BHK</th>\n",
              "      <th>Rent</th>\n",
              "      <th>Size</th>\n",
              "      <th>Bathroom</th>\n",
              "    </tr>\n",
              "  </thead>\n",
              "  <tbody>\n",
              "    <tr>\n",
              "      <th>BHK</th>\n",
              "      <td>0.69</td>\n",
              "      <td>24,033.31</td>\n",
              "      <td>377.99</td>\n",
              "      <td>0.59</td>\n",
              "    </tr>\n",
              "    <tr>\n",
              "      <th>Rent</th>\n",
              "      <td>24,033.31</td>\n",
              "      <td>6,100,611,741.94</td>\n",
              "      <td>20,485,348.00</td>\n",
              "      <td>30,482.50</td>\n",
              "    </tr>\n",
              "    <tr>\n",
              "      <th>Size</th>\n",
              "      <td>377.99</td>\n",
              "      <td>20,485,348.00</td>\n",
              "      <td>402,212.59</td>\n",
              "      <td>415.51</td>\n",
              "    </tr>\n",
              "    <tr>\n",
              "      <th>Bathroom</th>\n",
              "      <td>0.59</td>\n",
              "      <td>30,482.50</td>\n",
              "      <td>415.51</td>\n",
              "      <td>0.78</td>\n",
              "    </tr>\n",
              "  </tbody>\n",
              "</table>\n",
              "</div>"
            ],
            "text/plain": [
              "               BHK             Rent          Size  Bathroom\n",
              "BHK           0.69        24,033.31        377.99      0.59\n",
              "Rent     24,033.31 6,100,611,741.94 20,485,348.00 30,482.50\n",
              "Size        377.99    20,485,348.00    402,212.59    415.51\n",
              "Bathroom      0.59        30,482.50        415.51      0.78"
            ]
          },
          "execution_count": 41,
          "metadata": {},
          "output_type": "execute_result"
        }
      ],
      "source": [
        "df_house.select_dtypes(include=[float, int]).cov()"
      ]
    },
    {
      "cell_type": "code",
      "execution_count": 42,
      "metadata": {
        "colab": {
          "base_uri": "https://localhost:8080/",
          "height": 863
        },
        "id": "c9a07576",
        "outputId": "11de06a9-7d67-4493-832a-43d4b45422bd"
      },
      "outputs": [
        {
          "data": {
            "text/plain": [
              "<Axes: >"
            ]
          },
          "execution_count": 42,
          "metadata": {},
          "output_type": "execute_result"
        },
        {
          "data": {
            "image/png": "[encoded data removed]",
            "text/plain": [
              "<Figure size 1500x1000 with 2 Axes>"
            ]
          },
          "metadata": {},
          "output_type": "display_data"
        }
      ],
      "source": [
        "plt.figure(figsize=(15,10))\n",
        "sns.heatmap(data = df_house.select_dtypes(include=[float, int]).cov(), annot=True, fmt=\".2f\", vmax=20000000, vmin=-1)"
      ]
    },
    {
      "cell_type": "code",
      "execution_count": 43,
      "metadata": {
        "colab": {
          "base_uri": "https://localhost:8080/",
          "height": 854
        },
        "id": "6b6c8ddc",
        "outputId": "9e925722-7b2c-4590-b904-575e040e8572"
      },
      "outputs": [
        {
          "data": {
            "text/plain": [
              "<Axes: >"
            ]
          },
          "execution_count": 43,
          "metadata": {},
          "output_type": "execute_result"
        },
        {
          "data": {
            "image/png": "[encoded data removed]",
            "text/plain": [
              "<Figure size 1500x1000 with 2 Axes>"
            ]
          },
          "metadata": {},
          "output_type": "display_data"
        }
      ],
      "source": [
        "plt.figure(figsize=(15,10))\n",
        "sns.heatmap(data = df_house.select_dtypes(include=[float, int]).corr(), annot=True, fmt=\".2f\", vmax=1, vmin=-1)"
      ]
    },
    {
      "cell_type": "markdown",
      "metadata": {
        "id": "mFBpWTPIDLdm"
      },
      "source": [
        "En nuestra tabla de varianza-covarianza, no vemos un comportamiento útil, esto es debido a que la varianza de la variable <b>Renta</b> es demasiado alta.<br>\n",
        "\n",
        "<b>Ejercicio:</b> intente solucionar este problema.<br>\n",
        "\n",
        "<i>Tip 1:</i> Realice un análisis univariado del campo renta.\n",
        "\n",
        "<i>Tip 2:</i> Realice un análisis bivariado del campo renta con campos con los que se pueda argumentar alguna relación interesante, por ejemplo, el campo con el que mas se correlaciona.\n",
        "\n",
        "<i>Tip 3:</i> Realice un análisis multivariado sin incluir el campo renta.\n",
        "\n"
      ]
    },
    {
      "cell_type": "markdown",
      "metadata": {
        "id": "_SpoR6q1ULPo"
      },
      "source": [
        "**Ahora, con otra base de datos y variables que se encuentran en la misma unidad evaluaremos ¿Como se ve la matriz de covarianza?**"
      ]
    },
    {
      "cell_type": "code",
      "execution_count": 44,
      "metadata": {
        "id": "vZDjqKj-UK3b"
      },
      "outputs": [],
      "source": [
        "calificaciones = pd.read_csv('https://raw.githubusercontent.com/jazaineam1/Andes_ADDBD/main/Sesion9/Original_data_with_more_rows.csv')"
      ]
    },
    {
      "cell_type": "code",
      "execution_count": 45,
      "metadata": {
        "colab": {
          "base_uri": "https://localhost:8080/",
          "height": 448
        },
        "id": "qAfjp0z5UKwv",
        "outputId": "8ae8cc31-5af1-4bdb-dd77-44a431354a9b"
      },
      "outputs": [
        {
          "data": {
            "text/plain": [
              "<Axes: >"
            ]
          },
          "execution_count": 45,
          "metadata": {},
          "output_type": "execute_result"
        },
        {
          "data": {
            "image/png": "[encoded data removed]",
            "text/plain": [
              "<Figure size 640x480 with 2 Axes>"
            ]
          },
          "metadata": {},
          "output_type": "display_data"
        }
      ],
      "source": [
        "sns.heatmap(data = calificaciones[['MathScore',\t'ReadingScore',\t'WritingScore']].cov(), annot=True, fmt=\".2f\")"
      ]
    },
    {
      "cell_type": "markdown",
      "metadata": {
        "id": "Puixl1_oU54j"
      },
      "source": [
        "**¿Existen variables que tengan una relación lineal positiva o relación lineal negativa?**"
      ]
    },
    {
      "cell_type": "markdown",
      "metadata": {
        "id": "fJKfcLXAUp4F"
      },
      "source": [
        "Usted puede utilizar la covarianza para determinar la dirección de una relación lineal entre dos variables, de la siguiente manera:\n",
        "Si ambas variables tienden a aumentar o disminuir a la vez, el coeficiente es positivo.\n",
        "Si una variable tiende a incrementarse mientras la otra disminuye, el coeficiente es negativo.\n",
        "La covarianza es similar a la correlación, pero cuando se calcula la covarianza, los datos no están estandarizados. Por lo tanto, la covarianza se expresa en unidades que varían con los datos y no se convierte a una escala estandarizada de −1 a +1. Puesto que los datos no están estandarizados, usted no puede utilizar el estadístico de covarianza para evaluar la fuerza de una relación lineal. Si lo que requiere, es evaluar la fuerza de la relación, utilizaremos la correlación."
      ]
    },
    {
      "cell_type": "markdown",
      "metadata": {
        "id": "e7b9c2a2"
      },
      "source": [
        "### Paradoja de Simpson\n",
        "En clases anteriores hemos hablado de las conclusiones que se pueden sacar de los datos por medio del análisis de la información. No obstante, al analizar los datos es importante que tengamos en cuenta que los datos también pueden engañar.<br>\n",
        "Ahora vemos 4 gráficos creados de la misma base de datos, pero posiblemente la conclusión que sacamos de una va a diferir de la conslusión que sacamos de otra gráfica.<br>\n",
        "No podemos decir que la renta a familias es más costosa o que los apartamentos de familias tienen más baños.<br>\n",
        "<b>Vamos a ver lo que es la paradoja de Simpson.</b>"
      ]
    },
    {
      "cell_type": "code",
      "execution_count": 46,
      "metadata": {
        "colab": {
          "base_uri": "https://localhost:8080/",
          "height": 868
        },
        "id": "d90e832f",
        "outputId": "4af7f799-8b5d-4669-8e55-de4b5dcf8367"
      },
      "outputs": [
        {
          "data": {
            "text/plain": [
              "<Axes: xlabel='Tenant Preferred', ylabel='Bathroom'>"
            ]
          },
          "execution_count": 46,
          "metadata": {},
          "output_type": "execute_result"
        },
        {
          "data": {
            "image/png": "[encoded data removed]",
            "text/plain": [
              "<Figure size 1500x1000 with 1 Axes>"
            ]
          },
          "metadata": {},
          "output_type": "display_data"
        }
      ],
      "source": [
        "plt.figure(figsize=(15,10))\n",
        "sns.barplot(data=df_house, x = \"Tenant Preferred\", y = \"Bathroom\")"
      ]
    },
    {
      "cell_type": "code",
      "execution_count": 47,
      "metadata": {
        "colab": {
          "base_uri": "https://localhost:8080/",
          "height": 868
        },
        "id": "e6368f70",
        "outputId": "8d26b0a1-2ada-47d4-f1ce-4ee44ac6f9cd"
      },
      "outputs": [
        {
          "data": {
            "text/plain": [
              "<Axes: xlabel='City', ylabel='Bathroom'>"
            ]
          },
          "execution_count": 47,
          "metadata": {},
          "output_type": "execute_result"
        },
        {
          "data": {
            "image/png": "[encoded data removed]",
            "text/plain": [
              "<Figure size 1500x1000 with 1 Axes>"
            ]
          },
          "metadata": {},
          "output_type": "display_data"
        }
      ],
      "source": [
        "plt.figure(figsize=(15,10))\n",
        "sns.barplot(data=df_house, x = \"City\", y = \"Bathroom\")"
      ]
    },
    {
      "cell_type": "code",
      "execution_count": 48,
      "metadata": {
        "colab": {
          "base_uri": "https://localhost:8080/",
          "height": 300
        },
        "id": "f830f3b3",
        "outputId": "c658942a-258b-4acf-983a-70cf54407db9"
      },
      "outputs": [
        {
          "data": {
            "text/html": [
              "<div>\n",
              "<style scoped>\n",
              "    .dataframe tbody tr th:only-of-type {\n",
              "        vertical-align: middle;\n",
              "    }\n",
              "\n",
              "    .dataframe tbody tr th {\n",
              "        vertical-align: top;\n",
              "    }\n",
              "\n",
              "    .dataframe thead th {\n",
              "        text-align: right;\n",
              "    }\n",
              "</style>\n",
              "<table border=\"1\" class=\"dataframe\">\n",
              "  <thead>\n",
              "    <tr style=\"text-align: right;\">\n",
              "      <th></th>\n",
              "      <th>Rent</th>\n",
              "    </tr>\n",
              "  </thead>\n",
              "  <tbody>\n",
              "    <tr>\n",
              "      <th>count</th>\n",
              "      <td>4,746.00</td>\n",
              "    </tr>\n",
              "    <tr>\n",
              "      <th>mean</th>\n",
              "      <td>34,993.45</td>\n",
              "    </tr>\n",
              "    <tr>\n",
              "      <th>std</th>\n",
              "      <td>78,106.41</td>\n",
              "    </tr>\n",
              "    <tr>\n",
              "      <th>min</th>\n",
              "      <td>1,200.00</td>\n",
              "    </tr>\n",
              "    <tr>\n",
              "      <th>25%</th>\n",
              "      <td>10,000.00</td>\n",
              "    </tr>\n",
              "    <tr>\n",
              "      <th>50%</th>\n",
              "      <td>16,000.00</td>\n",
              "    </tr>\n",
              "    <tr>\n",
              "      <th>75%</th>\n",
              "      <td>33,000.00</td>\n",
              "    </tr>\n",
              "    <tr>\n",
              "      <th>max</th>\n",
              "      <td>3,500,000.00</td>\n",
              "    </tr>\n",
              "  </tbody>\n",
              "</table>\n",
              "</div>"
            ],
            "text/plain": [
              "              Rent\n",
              "count     4,746.00\n",
              "mean     34,993.45\n",
              "std      78,106.41\n",
              "min       1,200.00\n",
              "25%      10,000.00\n",
              "50%      16,000.00\n",
              "75%      33,000.00\n",
              "max   3,500,000.00"
            ]
          },
          "execution_count": 48,
          "metadata": {},
          "output_type": "execute_result"
        }
      ],
      "source": [
        "df_house[[\"Rent\"]].describe()"
      ]
    },
    {
      "cell_type": "code",
      "execution_count": 49,
      "metadata": {
        "id": "f2161a05"
      },
      "outputs": [],
      "source": [
        "def costo_renta(renta):\n",
        "    if renta <= 10000:\n",
        "        return \"Barato\"\n",
        "    elif renta <= 16000:\n",
        "        return \"Buen precio\"\n",
        "    elif renta <= 33000:\n",
        "        return \"Costoso\"\n",
        "    else:\n",
        "        return \"Caro\"\n",
        "\n",
        "df_house[\"Tipo Renta\"] = df_house[\"Rent\"].apply(costo_renta)"
      ]
    },
    {
      "cell_type": "code",
      "execution_count": 50,
      "metadata": {
        "colab": {
          "base_uri": "https://localhost:8080/",
          "height": 868
        },
        "id": "78a6f2e4",
        "outputId": "ea4876f3-fc84-4ca3-c386-6b29bf613dff"
      },
      "outputs": [
        {
          "data": {
            "text/plain": [
              "<Axes: xlabel='Tenant Preferred', ylabel='Bathroom'>"
            ]
          },
          "execution_count": 50,
          "metadata": {},
          "output_type": "execute_result"
        },
        {
          "data": {
            "image/png": "[encoded data removed]",
            "text/plain": [
              "<Figure size 1500x1000 with 1 Axes>"
            ]
          },
          "metadata": {},
          "output_type": "display_data"
        }
      ],
      "source": [
        "plt.figure(figsize=(15,10))\n",
        "sns.barplot(data=df_house, x = \"Tenant Preferred\", y = \"Bathroom\", hue= \"City\")"
      ]
    },
    {
      "cell_type": "code",
      "execution_count": 51,
      "metadata": {
        "colab": {
          "base_uri": "https://localhost:8080/",
          "height": 868
        },
        "id": "f2405e50",
        "outputId": "a4a3a873-2741-4278-d534-72de94e985c9"
      },
      "outputs": [
        {
          "data": {
            "text/plain": [
              "<Axes: xlabel='Tenant Preferred', ylabel='Bathroom'>"
            ]
          },
          "execution_count": 51,
          "metadata": {},
          "output_type": "execute_result"
        },
        {
          "data": {
            "image/png": "[encoded data removed]",
            "text/plain": [
              "<Figure size 1500x1000 with 1 Axes>"
            ]
          },
          "metadata": {},
          "output_type": "display_data"
        }
      ],
      "source": [
        "plt.figure(figsize=(15,10))\n",
        "sns.barplot(data=df_house, x = \"Tenant Preferred\", y = \"Bathroom\", hue= \"Tipo Renta\")"
      ]
    }
  ],
  "metadata": {
    "colab": {
      "include_colab_link": true,
      "provenance": []
    },
    "kernelspec": {
      "display_name": "Python 3",
      "name": "python3"
    },
    "language_info": {
      "codemirror_mode": {
        "name": "ipython",
        "version": 3
      },
      "file_extension": ".py",
      "mimetype": "text/x-python",
      "name": "python",
      "nbconvert_exporter": "python",
      "pygments_lexer": "ipython3",
      "version": "3.12.0"
    }
  },
  "nbformat": 4,
  "nbformat_minor": 0
}
