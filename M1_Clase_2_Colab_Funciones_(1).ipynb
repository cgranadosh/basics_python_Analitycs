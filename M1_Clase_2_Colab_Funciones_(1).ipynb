{
  "nbformat": 4,
  "nbformat_minor": 0,
  "metadata": {
    "colab": {
      "provenance": [],
      "include_colab_link": true
    },
    "kernelspec": {
      "name": "python3",
      "display_name": "Python 3"
    },
    "language_info": {
      "name": "python"
    }
  },
  "cells": [
    {
      "cell_type": "markdown",
      "metadata": {
        "id": "view-in-github",
        "colab_type": "text"
      },
      "source": [
        "<a href=\"https://colab.research.google.com/github/cgranadosh/basics_python_Analitycs/blob/main/M1_Clase_2_Colab_Funciones_(1).ipynb\" target=\"_parent\"><img src=\"https://colab.research.google.com/assets/colab-badge.svg\" alt=\"Open In Colab\"/></a>"
      ]
    },
    {
      "cell_type": "markdown",
      "source": [
        "# Módulo 1\n",
        "**Pensamiento algorítmico**"
      ],
      "metadata": {
        "id": "6rbRxEihXJqC"
      }
    },
    {
      "cell_type": "markdown",
      "source": [
        "## Funciones"
      ],
      "metadata": {
        "id": "G276XmfAbfbK"
      }
    },
    {
      "cell_type": "markdown",
      "source": [
        "### Definir e invocar funciones"
      ],
      "metadata": {
        "id": "B8hAJPjrezgj"
      }
    },
    {
      "cell_type": "markdown",
      "source": [
        "Para definir funciones empleamos la palabra clave **def**. Si definimos una función no se ejecuta inmediatamente, simplemente queda lista para ser invocada."
      ],
      "metadata": {
        "id": "H7Jh6uM9blQW"
      }
    },
    {
      "cell_type": "code",
      "source": [
        "def saludar():\n",
        "  print('¡Hola! Qué onda')"
      ],
      "metadata": {
        "id": "i5eV71pKFL7c"
      },
      "execution_count": null,
      "outputs": []
    },
    {
      "cell_type": "markdown",
      "source": [
        "Para invocar la función empleamos el nombre de la función. Si la función no lleva parámetros abrimos y cerramos paréntesis, para indicar que invocamos a una función, sin nada adentro."
      ],
      "metadata": {
        "id": "-XTq02VSSMez"
      }
    },
    {
      "cell_type": "code",
      "execution_count": null,
      "metadata": {
        "id": "vKlup6L6Wgcd"
      },
      "outputs": [],
      "source": [
        "saludar()"
      ]
    },
    {
      "cell_type": "code",
      "source": [
        "def saludar():\n",
        "  print('¿Ya tomaste tu aguita?')"
      ],
      "metadata": {
        "id": "nsNuzBwNBAh2"
      },
      "execution_count": null,
      "outputs": []
    },
    {
      "cell_type": "markdown",
      "source": [
        "**Ejercicio** Modificar la función saludar( ) para que diga '¿Ya tomaste tu aguita?'. Para correrla de nuevo en la siguiente celda y que muestre el nuevo resultado, hay que definirla de nuevo (correr la celda de definición)."
      ],
      "metadata": {
        "id": "Ptf4nQZvb_VY"
      }
    },
    {
      "cell_type": "code",
      "source": [
        "saludar()"
      ],
      "metadata": {
        "id": "mJ4yTxvYT8r0",
        "colab": {
          "base_uri": "https://localhost:8080/"
        },
        "outputId": "95ebc0be-1858-47c2-a4ee-5edf1fbab4a9"
      },
      "execution_count": null,
      "outputs": [
        {
          "output_type": "stream",
          "name": "stdout",
          "text": [
            "¿Ya tomaste tu aguita?\n"
          ]
        }
      ]
    },
    {
      "cell_type": "markdown",
      "source": [
        "No todas las funciones muestran cosas en la pantalla."
      ],
      "metadata": {
        "id": "1AYVm_wyUNs3"
      }
    },
    {
      "cell_type": "code",
      "source": [
        "def correrUnAlgoritmoSilencioso():\n",
        "  # Esta función suma números internamente y luego no hace nada con ellos\n",
        "  5+3-2"
      ],
      "metadata": {
        "id": "zN-24-usUVTC"
      },
      "execution_count": null,
      "outputs": []
    },
    {
      "cell_type": "code",
      "source": [
        "correrUnAlgoritmoSilencioso()"
      ],
      "metadata": {
        "id": "hgOwQ73JUcTw"
      },
      "execution_count": null,
      "outputs": []
    },
    {
      "cell_type": "markdown",
      "source": [
        "Hay dos formas en las que una función puede emplear información:"
      ],
      "metadata": {
        "id": "o-bVXn0lX0sA"
      }
    },
    {
      "cell_type": "markdown",
      "source": [
        "1. Podemos pedir parámetros y utilizarlos"
      ],
      "metadata": {
        "id": "rk29omMSX8kB"
      }
    },
    {
      "cell_type": "code",
      "source": [
        "def decirMiNombre(nombre):\n",
        "  print('Buenos días, mi nombre es '+nombre+'.')"
      ],
      "metadata": {
        "id": "LpOvuAuFYBJc"
      },
      "execution_count": null,
      "outputs": []
    },
    {
      "cell_type": "markdown",
      "source": [
        "**Ejercicio** Invocar la función decirMiNombre(). Hay que pasarle exactamente un parámetro. De lo contrario, Python nos devuelve un error."
      ],
      "metadata": {
        "id": "MBHeKkxJYLEo"
      }
    },
    {
      "cell_type": "code",
      "source": [
        "decirMiNombre(\"Carlos\")"
      ],
      "metadata": {
        "id": "F07SUUbXYJKW",
        "colab": {
          "base_uri": "https://localhost:8080/"
        },
        "outputId": "71573730-7fb3-48f2-b46d-5a731c79b509"
      },
      "execution_count": null,
      "outputs": [
        {
          "output_type": "stream",
          "name": "stdout",
          "text": [
            "Buenos días, mi nombre es Carlos.\n"
          ]
        }
      ]
    },
    {
      "cell_type": "markdown",
      "source": [
        "2. También podemos definir una estrucutra de información y consultarla desde la función:"
      ],
      "metadata": {
        "id": "9wYe0ZeeYjh-"
      }
    },
    {
      "cell_type": "code",
      "source": [
        "listaDeEdades = [23, 7, 64, 85, 74, 94, 68, 57, 96, 86]"
      ],
      "metadata": {
        "id": "oIqIYT7PYn9X"
      },
      "execution_count": null,
      "outputs": []
    },
    {
      "cell_type": "code",
      "source": [
        "def promedioDeLasEdades():\n",
        "  promedio = sum(listaDeEdades)/len(listaDeEdades)\n",
        "  print(promedio)"
      ],
      "metadata": {
        "id": "02X7lpPsYz-s"
      },
      "execution_count": null,
      "outputs": []
    },
    {
      "cell_type": "code",
      "source": [
        "promedioDeLasEdades()"
      ],
      "metadata": {
        "id": "GpSb33AdZTUt",
        "colab": {
          "base_uri": "https://localhost:8080/"
        },
        "outputId": "9d9fdb64-7c94-4a0b-fc7a-c7632da87336"
      },
      "execution_count": null,
      "outputs": [
        {
          "output_type": "stream",
          "name": "stdout",
          "text": [
            "65.4\n"
          ]
        }
      ]
    },
    {
      "cell_type": "markdown",
      "source": [
        "Es recomendable que la función solicite sus propios parámetros siempre, así:"
      ],
      "metadata": {
        "id": "vZdBnzt6a5pI"
      }
    },
    {
      "cell_type": "code",
      "source": [
        "def promedioDeLasEdades(lista):\n",
        "  promedio = sum(lista)/len(lista)\n",
        "  print(promedio)"
      ],
      "metadata": {
        "id": "26lDwhLLbAmn"
      },
      "execution_count": null,
      "outputs": []
    },
    {
      "cell_type": "code",
      "source": [
        "# En lugar de referenciar directamente una lista global, la pasamos como parámetro\n",
        "promedioDeLasEdades(listaDeEdades)"
      ],
      "metadata": {
        "id": "xeIPdqRibEl1",
        "colab": {
          "base_uri": "https://localhost:8080/"
        },
        "outputId": "e2ef1772-573b-4cc3-ba74-869b644eb370"
      },
      "execution_count": null,
      "outputs": [
        {
          "output_type": "stream",
          "name": "stdout",
          "text": [
            "65.4\n"
          ]
        }
      ]
    },
    {
      "cell_type": "markdown",
      "source": [
        "**Ejercicio** Definir una función que muestre en pantalla la división entre números. Recibe como parámetros dos números, el nombre de la función es dividirNumeros; no retorna nada."
      ],
      "metadata": {
        "id": "K1TvbKbObNbO"
      }
    },
    {
      "cell_type": "code",
      "source": [
        "# Definimos la función\n",
        "def dividirNumeros(number1, number2):\n",
        "  print(number1/number2)"
      ],
      "metadata": {
        "id": "Ts9MYfz4bgVn"
      },
      "execution_count": null,
      "outputs": []
    },
    {
      "cell_type": "markdown",
      "source": [
        "Cuando invocamos la función, y le pasamos los parámetros incorrectos, Python nos retorna un error. **¿Cuántos parámetros le pasamos a esta función en la celda siguiente?**"
      ],
      "metadata": {
        "id": "ujEbrMecbisx"
      }
    },
    {
      "cell_type": "code",
      "source": [
        "dividirNumeros([4,2])"
      ],
      "metadata": {
        "id": "uyAnWBWobjzW",
        "colab": {
          "base_uri": "https://localhost:8080/",
          "height": 141
        },
        "outputId": "e4726ea7-f55e-4a95-a165-103bf4c9937a"
      },
      "execution_count": null,
      "outputs": [
        {
          "output_type": "error",
          "ename": "TypeError",
          "evalue": "dividirNumeros() missing 1 required positional argument: 'number2'",
          "traceback": [
            "\u001b[0;31m---------------------------------------------------------------------------\u001b[0m",
            "\u001b[0;31mTypeError\u001b[0m                                 Traceback (most recent call last)",
            "\u001b[0;32m<ipython-input-16-d123e67e25fb>\u001b[0m in \u001b[0;36m<cell line: 1>\u001b[0;34m()\u001b[0m\n\u001b[0;32m----> 1\u001b[0;31m \u001b[0mdividirNumeros\u001b[0m\u001b[0;34m(\u001b[0m\u001b[0;34m[\u001b[0m\u001b[0;36m4\u001b[0m\u001b[0;34m,\u001b[0m\u001b[0;36m2\u001b[0m\u001b[0;34m]\u001b[0m\u001b[0;34m)\u001b[0m\u001b[0;34m\u001b[0m\u001b[0;34m\u001b[0m\u001b[0m\n\u001b[0m",
            "\u001b[0;31mTypeError\u001b[0m: dividirNumeros() missing 1 required positional argument: 'number2'"
          ]
        }
      ]
    },
    {
      "cell_type": "code",
      "source": [
        "# Esta es la forma correcta de usarla:\n",
        "dividirNumeros(4,2)"
      ],
      "metadata": {
        "id": "vTnXRgkae9Jn",
        "colab": {
          "base_uri": "https://localhost:8080/"
        },
        "outputId": "b5f2e73d-f28e-4a0a-a4f1-77e12e02fe7c"
      },
      "execution_count": null,
      "outputs": [
        {
          "output_type": "stream",
          "name": "stdout",
          "text": [
            "2.0\n"
          ]
        }
      ]
    },
    {
      "cell_type": "markdown",
      "source": [
        "Podemos diseñar funciones que nos devuelven valores para poder usarlos después. Para esto, usamos la palabra **return**"
      ],
      "metadata": {
        "id": "mBnXRyLyfSG9"
      }
    },
    {
      "cell_type": "code",
      "source": [
        "def dameUnNumeroEntre10y20():\n",
        "  return 14\n"
      ],
      "metadata": {
        "id": "TdVOEKLofRZL"
      },
      "execution_count": null,
      "outputs": []
    },
    {
      "cell_type": "markdown",
      "source": [
        "Cuando la vamos a invocar podemos usar el resultado como queramos:"
      ],
      "metadata": {
        "id": "tftEKMJRgJGP"
      }
    },
    {
      "cell_type": "code",
      "source": [
        "# En google Colab, si retornamos lo muestra en pantalla\n",
        "dameUnNumeroEntre10y20()"
      ],
      "metadata": {
        "id": "u_YfyKmsgIZY",
        "colab": {
          "base_uri": "https://localhost:8080/"
        },
        "outputId": "01542ca9-4fa9-4968-a3ed-3c05ac72e8b0"
      },
      "execution_count": null,
      "outputs": [
        {
          "output_type": "execute_result",
          "data": {
            "text/plain": [
              "14"
            ]
          },
          "metadata": {},
          "execution_count": 21
        }
      ]
    },
    {
      "cell_type": "code",
      "source": [
        "# También podemos pedirle que lo muestre explícitamente:\n",
        "print(dameUnNumeroEntre10y20())"
      ],
      "metadata": {
        "id": "bxunCmwagUI2",
        "colab": {
          "base_uri": "https://localhost:8080/"
        },
        "outputId": "03fcb1c2-e3e5-4c17-e045-b1ed3572ee22"
      },
      "execution_count": null,
      "outputs": [
        {
          "output_type": "stream",
          "name": "stdout",
          "text": [
            "14\n"
          ]
        }
      ]
    },
    {
      "cell_type": "code",
      "source": [
        "# Podemos operarlo con otros valores, etc.\n",
        "10 + dameUnNumeroEntre10y20()"
      ],
      "metadata": {
        "id": "fcNnYRhqgYbN",
        "colab": {
          "base_uri": "https://localhost:8080/"
        },
        "outputId": "8e62a577-b18c-4dc9-8d75-eba38a43c359"
      },
      "execution_count": null,
      "outputs": [
        {
          "output_type": "execute_result",
          "data": {
            "text/plain": [
              "24"
            ]
          },
          "metadata": {},
          "execution_count": 23
        }
      ]
    },
    {
      "cell_type": "markdown",
      "source": [
        "Si tenemos una función que no retorna nada, no podemos usar el resultado del proceso:"
      ],
      "metadata": {
        "id": "W-EWNm7rhKu0"
      }
    },
    {
      "cell_type": "code",
      "source": [
        "def retornarMensaje(nombre, correo):\n",
        "  mensaje = '¡Buen día! Una bienvenida a esta gran empresa '+nombre+'. Te enviaremos un mensaje de confirmación al correo '+correo+' para que termines tu registro.'"
      ],
      "metadata": {
        "id": "b-ThkV_Igv6f"
      },
      "execution_count": null,
      "outputs": []
    },
    {
      "cell_type": "code",
      "source": [
        "retornarMensaje('Juan', 'al@gmail.com')"
      ],
      "metadata": {
        "id": "fdg3obuahDOG"
      },
      "execution_count": null,
      "outputs": []
    },
    {
      "cell_type": "markdown",
      "source": [
        "**Ejercicio** Modificar la función retornarMensaje para que retorne el mensaje de whatsapp. Volver a invocar en la celda siguiente:"
      ],
      "metadata": {
        "id": "coY9YK3Ygih4"
      }
    },
    {
      "cell_type": "code",
      "source": [
        "# Invocar de nuevo la función retornarMensaje() después de modificarla, pasarle como parámetros su nombre y su correo:\n",
        "def retornarMensaje(nombre, correo):\n",
        "  mensaje = '¡Buen día! Una bienvenida a esta gran empresa '+nombre+'. Te enviaremos un mensaje de confirmación al correo '+correo+' para que termines tu registro.'\n",
        "  return mensaje"
      ],
      "metadata": {
        "id": "wnUZSNnVhV8k"
      },
      "execution_count": null,
      "outputs": []
    },
    {
      "cell_type": "code",
      "source": [
        "retornarMensaje('Juan', 'al@gmail.com')"
      ],
      "metadata": {
        "colab": {
          "base_uri": "https://localhost:8080/",
          "height": 36
        },
        "id": "3EgF97PsCSgK",
        "outputId": "787a175b-49f8-40ed-a8d4-c44b8b83ea49"
      },
      "execution_count": null,
      "outputs": [
        {
          "output_type": "execute_result",
          "data": {
            "text/plain": [
              "'¡Buen día! Una bienvenida a esta gran empresa Juan. Te enviaremos un mensaje de confirmación al correo al@gmail.com para que termines tu registro.'"
            ],
            "application/vnd.google.colaboratory.intrinsic+json": {
              "type": "string"
            }
          },
          "metadata": {},
          "execution_count": 27
        }
      ]
    },
    {
      "cell_type": "markdown",
      "source": [
        "## Las funciones en Python son de dos tipos\n",
        "\n",
        "-  Funciones internas **(Built-in)** que se vienen como parte de Python: `print()`, `input()`, `type()`, `float()`, `int()`...   \n",
        "\n",
        "  \n",
        "-  Funciones que definimos nosotros y luego usamos\n",
        "  \n",
        "    \n",
        "    \n",
        "     \n",
        "Las funciones internas vamos a tratarlas como “nuevas” palabras reservadas (o sea, no las usaremos de nombres de variable)\n"
      ],
      "metadata": {
        "id": "oroyLZPEnj3A"
      }
    },
    {
      "cell_type": "markdown",
      "source": [
        "Ejemplos de funciones que vienen incorporadas en Python son las de conversión entre distintos tipos (float(), int())."
      ],
      "metadata": {
        "id": "NqRJDPKQoDh8"
      }
    },
    {
      "cell_type": "code",
      "source": [
        "print(float(99) / 100)\n",
        "i = 42\n",
        "print(i)\n",
        "print(type(i))"
      ],
      "metadata": {
        "id": "OBVK8msrnjid"
      },
      "execution_count": null,
      "outputs": []
    },
    {
      "cell_type": "markdown",
      "source": [
        "## Funciones Vacías (non-fruitful)\n",
        "\n",
        "* Cuando una función no retorna un valor, le decimos una función “vacía”\n",
        "* Las funciones que retornan valores son fructíferas (fruitful)\n",
        "* Las funciones vacías son “no fructíferas”"
      ],
      "metadata": {
        "id": "fhSGpmwuoelk"
      }
    },
    {
      "cell_type": "markdown",
      "source": [
        "## Ejercicio"
      ],
      "metadata": {
        "id": "KaIaqy5Io9SB"
      }
    },
    {
      "cell_type": "markdown",
      "source": [
        "Cree una función llamada **pagocomputado** que reciba dos argumentos ( horas y tarifa).La función le debe solicitar al usuario ingresar horas y tarifa por hora para computar el pago.\n",
        "\n",
        "Ejemplo:\n",
        "\n",
        "Inserte Horas: 42.5\n",
        "Inserte Tarifa: 2000\n",
        "\n",
        "Pago: 85000"
      ],
      "metadata": {
        "id": "cHt9nX2mpCHi"
      }
    },
    {
      "cell_type": "code",
      "source": [
        "def pagocomputado():\n",
        "  horas = float(input(\"Inserte horas: \"))\n",
        "  tarifa = int(input(\"Inserte tarifa: \"))\n",
        "  return horas * tarifa"
      ],
      "metadata": {
        "id": "eBS5-nTjpZgN"
      },
      "execution_count": null,
      "outputs": []
    },
    {
      "cell_type": "code",
      "source": [
        "pagocomputado()"
      ],
      "metadata": {
        "colab": {
          "base_uri": "https://localhost:8080/"
        },
        "id": "7kSpmreTDCXb",
        "outputId": "3bcd2f1c-f906-4d9a-fd4b-eda19383cb76"
      },
      "execution_count": null,
      "outputs": [
        {
          "name": "stdout",
          "output_type": "stream",
          "text": [
            "Inserte horas: 42.5\n",
            "Inserte tarifa: 2000\n"
          ]
        },
        {
          "output_type": "execute_result",
          "data": {
            "text/plain": [
              "85000.0"
            ]
          },
          "metadata": {},
          "execution_count": 35
        }
      ]
    },
    {
      "cell_type": "markdown",
      "source": [
        "Cree una función que sume sus gastos de canasta familiar, gastos financieros, gastos de entretenimiento. Muestre el total de sus gastos y realice una relación frente a sus ingresos (participación)."
      ],
      "metadata": {
        "id": "1S7JNq-0qinh"
      }
    },
    {
      "cell_type": "markdown",
      "source": [
        "## Recapitulando\n",
        "En este cuadernillo vimos:\n",
        "\n",
        "\n",
        "*   Definición de funciones\n",
        "*   Cómo invocamos funciones\n",
        "*   Empleamos parámetros\n",
        "*   Retornamos resultados\n",
        "*   Algunos errores comunes cuando empleamos funciones\n",
        "\n"
      ],
      "metadata": {
        "id": "Po6dNKTygVN4"
      }
    }
  ]
}